{
 "metadata": {
  "name": "",
  "signature": "sha256:55ea322a484a1adc0abf37516908384c89770c310daffb5d868a8b060b0b9cba"
 },
 "nbformat": 3,
 "nbformat_minor": 0,
 "worksheets": [
  {
   "cells": [
    {
     "cell_type": "markdown",
     "metadata": {},
     "source": [
      "# TinyImageNet and Ensembles\n",
      "So far, we have only worked with the CIFAR-10 dataset. In this exercise we will introduce the TinyImageNet dataset. You will combine several pretrained models into an ensemble, and show that the ensemble performs better than any individual model."
     ]
    },
    {
     "cell_type": "code",
     "collapsed": false,
     "input": [
      "# A bit of setup\n",
      "\n",
      "import numpy as np\n",
      "import matplotlib.pyplot as plt\n",
      "from time import time\n",
      "\n",
      "%matplotlib inline\n",
      "plt.rcParams['figure.figsize'] = (10.0, 8.0) # set default size of plots\n",
      "plt.rcParams['image.interpolation'] = 'nearest'\n",
      "plt.rcParams['image.cmap'] = 'gray'\n",
      "\n",
      "# for auto-reloading extenrnal modules\n",
      "# see http://stackoverflow.com/questions/1907993/autoreload-of-modules-in-ipython\n",
      "%load_ext autoreload\n",
      "%autoreload 2"
     ],
     "language": "python",
     "metadata": {},
     "outputs": [],
     "prompt_number": 1
    },
    {
     "cell_type": "markdown",
     "metadata": {},
     "source": [
      "# Introducing TinyImageNet\n",
      "\n",
      "The TinyImageNet dataset is a subset of the ILSVRC-2012 classification dataset. It consists of 200 object classes, and for each object class it provides 500 training images, 50 validation images, and 50 test images. All images have been downsampled to 64x64 pixels. We have provided the labels for all training and validation images, but have withheld the labels for the test images.\n",
      "\n",
      "We have further split the full TinyImageNet dataset into two equal pieces, each with 100 object classes. We refer to these datasets as TinyImageNet-100-A and TinyImageNet-100-B.\n",
      "\n",
      "To download the data, go into the `cs231n/datasets` directory and run the script `get_tiny_imagenet_splits.sh`. Then run the following code to load the TinyImageNet-100-A dataset into memory.\n",
      "\n",
      "NOTE: The full TinyImageNet dataset will take up about 490MB of disk space, and loading the full TinyImageNet-100-A dataset into memory will use about 2.8GB of memory."
     ]
    },
    {
     "cell_type": "code",
     "collapsed": false,
     "input": [
      "from cs231n.data_utils import load_tiny_imagenet\n",
      "\n",
      "tiny_imagenet_a = 'cs231n/datasets/tiny-imagenet-100-A'\n",
      "        \n",
      "class_names, X_train, y_train, X_val, y_val, X_test, y_test = load_tiny_imagenet(tiny_imagenet_a)\n",
      "\n",
      "# Zero-mean the data\n",
      "mean_img = np.mean(X_train, axis=0)\n",
      "X_train -= mean_img\n",
      "X_val -= mean_img\n",
      "X_test -= mean_img"
     ],
     "language": "python",
     "metadata": {},
     "outputs": [
      {
       "output_type": "stream",
       "stream": "stdout",
       "text": [
        "loading training data for synset 20 / 100\n",
        "loading training data for synset 40 / 100"
       ]
      },
      {
       "output_type": "stream",
       "stream": "stdout",
       "text": [
        "\n",
        "loading training data for synset 60 / 100"
       ]
      },
      {
       "output_type": "stream",
       "stream": "stdout",
       "text": [
        "\n",
        "loading training data for synset 80 / 100"
       ]
      },
      {
       "output_type": "stream",
       "stream": "stdout",
       "text": [
        "\n",
        "loading training data for synset 100 / 100"
       ]
      },
      {
       "output_type": "stream",
       "stream": "stdout",
       "text": [
        "\n"
       ]
      }
     ],
     "prompt_number": 2
    },
    {
     "cell_type": "markdown",
     "metadata": {},
     "source": [
      "# TinyImageNet-100-A classes\n",
      "Since ImageNet is based on the WordNet ontology, each class in ImageNet (and TinyImageNet) actually has several different names. For example \"pop bottle\" and \"soda bottle\" are both valid names for the same class. Run the following to see a list of all classes in TinyImageNet-100-A:"
     ]
    },
    {
     "cell_type": "code",
     "collapsed": false,
     "input": [
      "for names in class_names:\n",
      "    print ' '.join('\"%s\"' % name for name in names)"
     ],
     "language": "python",
     "metadata": {},
     "outputs": [
      {
       "output_type": "stream",
       "stream": "stdout",
       "text": [
        "\"Egyptian cat\"\n",
        "\"reel\"\n",
        "\"volleyball\"\n",
        "\"rocking chair\" \"rocker\"\n",
        "\"lemon\"\n",
        "\"bullfrog\" \"Rana catesbeiana\"\n",
        "\"basketball\"\n",
        "\"cliff\" \"drop\" \"drop-off\"\n",
        "\"espresso\"\n",
        "\"plunger\" \"plumber's helper\"\n",
        "\"parking meter\"\n",
        "\"German shepherd\" \"German shepherd dog\" \"German police dog\" \"alsatian\"\n",
        "\"dining table\" \"board\"\n",
        "\"monarch\" \"monarch butterfly\" \"milkweed butterfly\" \"Danaus plexippus\"\n",
        "\"brown bear\" \"bruin\" \"Ursus arctos\"\n",
        "\"school bus\"\n",
        "\"pizza\" \"pizza pie\"\n",
        "\"guinea pig\" \"Cavia cobaya\"\n",
        "\"umbrella\"\n",
        "\"organ\" \"pipe organ\"\n",
        "\"oboe\" \"hautboy\" \"hautbois\"\n",
        "\"maypole\"\n",
        "\"goldfish\" \"Carassius auratus\"\n",
        "\"potpie\"\n",
        "\"hourglass\"\n",
        "\"seashore\" \"coast\" \"seacoast\" \"sea-coast\"\n",
        "\"computer keyboard\" \"keypad\"\n",
        "\"Arabian camel\" \"dromedary\" \"Camelus dromedarius\"\n",
        "\"ice cream\" \"icecream\"\n",
        "\"nail\"\n",
        "\"space heater\"\n",
        "\"cardigan\"\n",
        "\"baboon\"\n",
        "\"snail\"\n",
        "\"coral reef\"\n",
        "\"albatross\" \"mollymawk\"\n",
        "\"spider web\" \"spider's web\"\n",
        "\"sea cucumber\" \"holothurian\"\n",
        "\"backpack\" \"back pack\" \"knapsack\" \"packsack\" \"rucksack\" \"haversack\"\n",
        "\"Labrador retriever\"\n",
        "\"pretzel\"\n",
        "\"king penguin\" \"Aptenodytes patagonica\"\n",
        "\"sulphur butterfly\" \"sulfur butterfly\"\n",
        "\"tarantula\"\n",
        "\"lesser panda\" \"red panda\" \"panda\" \"bear cat\" \"cat bear\" \"Ailurus fulgens\"\n",
        "\"pop bottle\" \"soda bottle\"\n",
        "\"banana\"\n",
        "\"sock\"\n",
        "\"cockroach\" \"roach\"\n",
        "\"projectile\" \"missile\"\n",
        "\"beer bottle\"\n",
        "\"mantis\" \"mantid\"\n",
        "\"freight car\"\n",
        "\"guacamole\"\n",
        "\"remote control\" \"remote\"\n",
        "\"European fire salamander\" \"Salamandra salamandra\"\n",
        "\"lakeside\" \"lakeshore\"\n",
        "\"chimpanzee\" \"chimp\" \"Pan troglodytes\"\n",
        "\"pay-phone\" \"pay-station\"\n",
        "\"fur coat\"\n",
        "\"alp\"\n",
        "\"lampshade\" \"lamp shade\"\n",
        "\"torch\"\n",
        "\"abacus\"\n",
        "\"moving van\"\n",
        "\"barrel\" \"cask\"\n",
        "\"tabby\" \"tabby cat\"\n",
        "\"goose\"\n",
        "\"koala\" \"koala bear\" \"kangaroo bear\" \"native bear\" \"Phascolarctos cinereus\"\n",
        "\"bullet train\" \"bullet\"\n",
        "\"CD player\"\n",
        "\"teapot\"\n",
        "\"birdhouse\"\n",
        "\"gazelle\"\n",
        "\"academic gown\" \"academic robe\" \"judge's robe\"\n",
        "\"tractor\"\n",
        "\"ladybug\" \"ladybeetle\" \"lady beetle\" \"ladybird\" \"ladybird beetle\"\n",
        "\"miniskirt\" \"mini\"\n",
        "\"golden retriever\"\n",
        "\"triumphal arch\"\n",
        "\"cannon\"\n",
        "\"neck brace\"\n",
        "\"sombrero\"\n",
        "\"gasmask\" \"respirator\" \"gas helmet\"\n",
        "\"candle\" \"taper\" \"wax light\"\n",
        "\"desk\"\n",
        "\"frying pan\" \"frypan\" \"skillet\"\n",
        "\"bee\"\n",
        "\"dam\" \"dike\" \"dyke\"\n",
        "\"spiny lobster\" \"langouste\" \"rock lobster\" \"crawfish\" \"crayfish\" \"sea crawfish\"\n",
        "\"police van\" \"police wagon\" \"paddy wagon\" \"patrol wagon\" \"wagon\" \"black Maria\"\n",
        "\"iPod\"\n",
        "\"punching bag\" \"punch bag\" \"punching ball\" \"punchball\"\n",
        "\"beacon\" \"lighthouse\" \"beacon light\" \"pharos\"\n",
        "\"jellyfish\"\n",
        "\"wok\"\n",
        "\"potter's wheel\"\n",
        "\"sandal\"\n",
        "\"pill bottle\"\n",
        "\"butcher shop\" \"meat market\"\n"
       ]
      }
     ],
     "prompt_number": 3
    },
    {
     "cell_type": "markdown",
     "metadata": {},
     "source": [
      "# Visualize Examples\n",
      "Run the following to visualize some example images from random classses in TinyImageNet-100-A. It selects classes and images randomly, so you can run it several times to see different images."
     ]
    },
    {
     "cell_type": "code",
     "collapsed": false,
     "input": [
      "# Visualize some examples of the training data\n",
      "classes_to_show = 7\n",
      "examples_per_class = 5\n",
      "\n",
      "class_idxs = np.random.choice(len(class_names), size=classes_to_show, replace=False)\n",
      "for i, class_idx in enumerate(class_idxs):\n",
      "    train_idxs, = np.nonzero(y_train == class_idx)\n",
      "    train_idxs = np.random.choice(train_idxs, size=examples_per_class, replace=False)\n",
      "    for j, train_idx in enumerate(train_idxs):\n",
      "        img = X_train[train_idx] + mean_img\n",
      "        img = img.transpose(1, 2, 0).astype('uint8')\n",
      "        plt.subplot(examples_per_class, classes_to_show, 1 + i + classes_to_show * j)\n",
      "        if j == 0:\n",
      "            plt.title(class_names[class_idx][0])\n",
      "        plt.imshow(img)\n",
      "        plt.gca().axis('off')\n",
      "\n",
      "plt.show()"
     ],
     "language": "python",
     "metadata": {},
     "outputs": [
      {
       "metadata": {},
       "output_type": "display_data",
       "png": "[encoded data removed]",
       "text": [
        "<matplotlib.figure.Figure at 0x10bada650>"
       ]
      }
     ],
     "prompt_number": 4
    },
    {
     "cell_type": "markdown",
     "metadata": {},
     "source": [
      "# Test human performance\n",
      "Run the following to test your own classification performance on the TinyImageNet-100-A dataset.\n",
      "\n",
      "You can run several times in 'training' mode to get familiar with the task; once you are ready to test yourself, switch the mode to `'val'`.\n",
      "\n",
      "You won't be penalized if you don't correctly classify all the images, but you should still try your best."
     ]
    },
    {
     "cell_type": "code",
     "collapsed": false,
     "input": [
      "mode = 'train'\n",
      "\n",
      "name_to_label = {n.lower(): i for i, ns in enumerate(class_names) for n in ns}\n",
      "\n",
      "if mode == 'train':\n",
      "    X, y = X_train, y_train\n",
      "elif mode == 'val':\n",
      "    X, y = X_val, y_val\n",
      "    \n",
      "num_correct = 0\n",
      "num_images = 10\n",
      "for i in xrange(num_images):\n",
      "    idx = np.random.randint(X.shape[0])\n",
      "    img = (X[idx] + mean_img).transpose(1, 2, 0).astype('uint8')\n",
      "    plt.imshow(img)\n",
      "    plt.gca().axis('off')\n",
      "    plt.gcf().set_size_inches((2, 2))\n",
      "    plt.show()\n",
      "    got_name = False\n",
      "    while not got_name:\n",
      "        name = raw_input('Guess the class for the above image (%d / %d) : ' % (i + 1, num_images))\n",
      "        name = name.lower()\n",
      "        got_name = name in name_to_label\n",
      "        if not got_name:\n",
      "            print 'That is not a valid class name; try again'\n",
      "    guess = name_to_label[name]\n",
      "    if guess == y[idx]:\n",
      "        num_correct += 1\n",
      "        print 'Correct!'\n",
      "    else:\n",
      "        print 'Incorrect; it was actually %r' % class_names[y[idx]]\n",
      "\n",
      "acc = float(num_correct) / num_images\n",
      "print 'You got %d / %d correct for an accuracy of %f' % (num_correct, num_images, acc)"
     ],
     "language": "python",
     "metadata": {},
     "outputs": [
      {
       "metadata": {},
       "output_type": "display_data",
       "png": "[encoded data removed]",
       "text": [
        "<matplotlib.figure.Figure at 0x10ba3d5d0>"
       ]
      },
      {
       "name": "stdout",
       "output_type": "stream",
       "stream": "stdout",
       "text": [
        "Guess the class for the above image (1 / 10) : mountain\n"
       ]
      },
      {
       "output_type": "stream",
       "stream": "stdout",
       "text": [
        "That is not a valid class name; try again\n"
       ]
      },
      {
       "name": "stdout",
       "output_type": "stream",
       "stream": "stdout",
       "text": [
        "Guess the class for the above image (1 / 10) : tail\n"
       ]
      },
      {
       "output_type": "stream",
       "stream": "stdout",
       "text": [
        "That is not a valid class name; try again\n"
       ]
      },
      {
       "name": "stdout",
       "output_type": "stream",
       "stream": "stdout",
       "text": [
        "Guess the class for the above image (1 / 10) : nail\n"
       ]
      },
      {
       "output_type": "stream",
       "stream": "stdout",
       "text": [
        "Incorrect; it was actually ['cliff', 'drop', 'drop-off']\n"
       ]
      },
      {
       "metadata": {},
       "output_type": "display_data",
       "png": "[encoded data removed]",
       "text": [
        "<matplotlib.figure.Figure at 0x10c2be610>"
       ]
      },
      {
       "ename": "KeyboardInterrupt",
       "evalue": "",
       "output_type": "pyerr",
       "traceback": [
        "\u001b[0;31m---------------------------------------------------------------------------\u001b[0m\n\u001b[0;31mKeyboardInterrupt\u001b[0m                         Traceback (most recent call last)",
        "\u001b[0;32m<ipython-input-5-8909569c1a66>\u001b[0m in \u001b[0;36m<module>\u001b[0;34m()\u001b[0m\n\u001b[1;32m     19\u001b[0m     \u001b[0mgot_name\u001b[0m \u001b[0;34m=\u001b[0m \u001b[0mFalse\u001b[0m\u001b[0;34m\u001b[0m\u001b[0m\n\u001b[1;32m     20\u001b[0m     \u001b[0;32mwhile\u001b[0m \u001b[0;32mnot\u001b[0m \u001b[0mgot_name\u001b[0m\u001b[0;34m:\u001b[0m\u001b[0;34m\u001b[0m\u001b[0m\n\u001b[0;32m---> 21\u001b[0;31m         \u001b[0mname\u001b[0m \u001b[0;34m=\u001b[0m \u001b[0mraw_input\u001b[0m\u001b[0;34m(\u001b[0m\u001b[0;34m'Guess the class for the above image (%d / %d) : '\u001b[0m \u001b[0;34m%\u001b[0m \u001b[0;34m(\u001b[0m\u001b[0mi\u001b[0m \u001b[0;34m+\u001b[0m \u001b[0;36m1\u001b[0m\u001b[0;34m,\u001b[0m \u001b[0mnum_images\u001b[0m\u001b[0;34m)\u001b[0m\u001b[0;34m)\u001b[0m\u001b[0;34m\u001b[0m\u001b[0m\n\u001b[0m\u001b[1;32m     22\u001b[0m         \u001b[0mname\u001b[0m \u001b[0;34m=\u001b[0m \u001b[0mname\u001b[0m\u001b[0;34m.\u001b[0m\u001b[0mlower\u001b[0m\u001b[0;34m(\u001b[0m\u001b[0;34m)\u001b[0m\u001b[0;34m\u001b[0m\u001b[0m\n\u001b[1;32m     23\u001b[0m         \u001b[0mgot_name\u001b[0m \u001b[0;34m=\u001b[0m \u001b[0mname\u001b[0m \u001b[0;32min\u001b[0m \u001b[0mname_to_label\u001b[0m\u001b[0;34m\u001b[0m\u001b[0m\n",
        "\u001b[0;32m/Users/zh8788/Library/Enthought/Canopy_64bit/User/lib/python2.7/site-packages/IPython/kernel/zmq/ipkernel.pyc\u001b[0m in \u001b[0;36m<lambda>\u001b[0;34m(prompt)\u001b[0m\n\u001b[1;32m    359\u001b[0m         \u001b[0;31m# raw_input in the user namespace.\u001b[0m\u001b[0;34m\u001b[0m\u001b[0;34m\u001b[0m\u001b[0m\n\u001b[1;32m    360\u001b[0m         \u001b[0;32mif\u001b[0m \u001b[0mcontent\u001b[0m\u001b[0;34m.\u001b[0m\u001b[0mget\u001b[0m\u001b[0;34m(\u001b[0m\u001b[0;34m'allow_stdin'\u001b[0m\u001b[0;34m,\u001b[0m \u001b[0mFalse\u001b[0m\u001b[0;34m)\u001b[0m\u001b[0;34m:\u001b[0m\u001b[0;34m\u001b[0m\u001b[0m\n\u001b[0;32m--> 361\u001b[0;31m             \u001b[0mraw_input\u001b[0m \u001b[0;34m=\u001b[0m \u001b[0;32mlambda\u001b[0m \u001b[0mprompt\u001b[0m\u001b[0;34m=\u001b[0m\u001b[0;34m''\u001b[0m\u001b[0;34m:\u001b[0m \u001b[0mself\u001b[0m\u001b[0;34m.\u001b[0m\u001b[0m_raw_input\u001b[0m\u001b[0;34m(\u001b[0m\u001b[0mprompt\u001b[0m\u001b[0;34m,\u001b[0m \u001b[0mident\u001b[0m\u001b[0;34m,\u001b[0m \u001b[0mparent\u001b[0m\u001b[0;34m)\u001b[0m\u001b[0;34m\u001b[0m\u001b[0m\n\u001b[0m\u001b[1;32m    362\u001b[0m             \u001b[0minput\u001b[0m \u001b[0;34m=\u001b[0m \u001b[0;32mlambda\u001b[0m \u001b[0mprompt\u001b[0m\u001b[0;34m=\u001b[0m\u001b[0;34m''\u001b[0m\u001b[0;34m:\u001b[0m \u001b[0meval\u001b[0m\u001b[0;34m(\u001b[0m\u001b[0mraw_input\u001b[0m\u001b[0;34m(\u001b[0m\u001b[0mprompt\u001b[0m\u001b[0;34m)\u001b[0m\u001b[0;34m)\u001b[0m\u001b[0;34m\u001b[0m\u001b[0m\n\u001b[1;32m    363\u001b[0m         \u001b[0;32melse\u001b[0m\u001b[0;34m:\u001b[0m\u001b[0;34m\u001b[0m\u001b[0m\n",
        "\u001b[0;32m/Users/zh8788/Library/Enthought/Canopy_64bit/User/lib/python2.7/site-packages/IPython/kernel/zmq/ipkernel.pyc\u001b[0m in \u001b[0;36m_raw_input\u001b[0;34m(self, prompt, ident, parent)\u001b[0m\n\u001b[1;32m    780\u001b[0m             \u001b[0;32mexcept\u001b[0m \u001b[0mKeyboardInterrupt\u001b[0m\u001b[0;34m:\u001b[0m\u001b[0;34m\u001b[0m\u001b[0m\n\u001b[1;32m    781\u001b[0m                 \u001b[0;31m# re-raise KeyboardInterrupt, to truncate traceback\u001b[0m\u001b[0;34m\u001b[0m\u001b[0;34m\u001b[0m\u001b[0m\n\u001b[0;32m--> 782\u001b[0;31m                 \u001b[0;32mraise\u001b[0m \u001b[0mKeyboardInterrupt\u001b[0m\u001b[0;34m\u001b[0m\u001b[0m\n\u001b[0m\u001b[1;32m    783\u001b[0m             \u001b[0;32melse\u001b[0m\u001b[0;34m:\u001b[0m\u001b[0;34m\u001b[0m\u001b[0m\n\u001b[1;32m    784\u001b[0m                 \u001b[0;32mbreak\u001b[0m\u001b[0;34m\u001b[0m\u001b[0m\n",
        "\u001b[0;31mKeyboardInterrupt\u001b[0m: "
       ]
      }
     ],
     "prompt_number": 5
    },
    {
     "cell_type": "markdown",
     "metadata": {},
     "source": [
      "# Download pretrained models\n",
      "We have provided 10 pretrained ConvNets for the TinyImageNet-100-A dataset. Each of these models is a five-layer ConvNet with the architecture\n",
      "\n",
      "[conv - relu - pool] x 3 - affine - relu - affine - softmax\n",
      "\n",
      "All convolutional layers are 3x3 with stride 1 and all pooling layers are 2x2 with stride 2. The first two convolutional layers have 32 filters each, and the third convolutional layer has 64 filters. The hidden affine layer has 512 neurons. You can run the forward and backward pass for these five layer convnets using the function `five_layer_convnet` in the file `cs231n/classifiers/convnet.py`.\n",
      "\n",
      "Each of these models was trained for 25 epochs over the TinyImageNet-100-A training data with a batch size of 50 and with dropout on the hidden affine layer. Each model was trained using slightly different values for the learning rate, regularization, and dropout probability.\n",
      "\n",
      "To download the pretrained models, go into the `cs231n/datasets` directory and run the `get_pretrained_models.sh` script. Once you have done so, run the following to load the pretrained models into memory.\n",
      "\n",
      "NOTE: The pretrained models will take about 245MB of disk space."
     ]
    },
    {
     "cell_type": "code",
     "collapsed": false,
     "input": [
      "from cs231n.data_utils import load_models\n",
      "\n",
      "models_dir = 'cs231n/datasets/tiny-100-A-pretrained'\n",
      "\n",
      "# models is a dictionary mappping model names to models.\n",
      "# Like the previous assignment, each model is a dictionary mapping parameter\n",
      "# names to parameter values.\n",
      "models = load_models(models_dir)"
     ],
     "language": "python",
     "metadata": {},
     "outputs": [],
     "prompt_number": 6
    },
    {
     "cell_type": "code",
     "collapsed": false,
     "input": [
      "import itertools\n",
      "a = [1,2,3,100,200,300]\n",
      "results = itertools.combinations(a,3)\n",
      "aa = list(results)\n",
      "print aa\n",
      "print len(aa)\n"
     ],
     "language": "python",
     "metadata": {},
     "outputs": [
      {
       "output_type": "stream",
       "stream": "stdout",
       "text": [
        "[(1, 2, 3), (1, 2, 100), (1, 2, 200), (1, 2, 300), (1, 3, 100), (1, 3, 200), (1, 3, 300), (1, 100, 200), (1, 100, 300), (1, 200, 300), (2, 3, 100), (2, 3, 200), (2, 3, 300), (2, 100, 200), (2, 100, 300), (2, 200, 300), (3, 100, 200), (3, 100, 300), (3, 200, 300), (100, 200, 300)]\n",
        "20\n"
       ]
      }
     ],
     "prompt_number": 35
    },
    {
     "cell_type": "markdown",
     "metadata": {},
     "source": [
      "# Run models on the validation set\n",
      "To benchmark the performance of each model on its own, we will use each model to make predictions on the validation set."
     ]
    },
    {
     "cell_type": "code",
     "collapsed": false,
     "input": [
      "from cs231n.classifiers.convnet import five_layer_convnet\n",
      "\n",
      "# Dictionary mapping model names to their predicted class probabilities on the\n",
      "# validation set. model_to_probs[model_name] is an array of shape (N_val, 100)\n",
      "# where model_to_probs[model_name][i, j] = p indicates that models[model_name]\n",
      "# predicts that X_val[i] has class i with probability p.\n",
      "model_to_probs = {}\n",
      "\n",
      "        \n",
      "\n",
      "\n",
      "\n",
      "################################################################################\n",
      "# TODO: Use each model to predict classification probabilities for all images  #\n",
      "# in the validation set. Store the predicted probabilities in the              #\n",
      "# model_to_probs dictionary as above. To compute forward passes and compute    #\n",
      "# probabilities, use the function five_layer_convnet in the file               #\n",
      "# cs231n/classifiers/convnet.py.                                               #\n",
      "#                                                                              #\n",
      "# HINT: Trying to predict on the entire validation set all at once will use a  #\n",
      "# ton of memory, so you should break the validation set into batches and run   #\n",
      "# each batch through each model separately.                                    #\n",
      "################################################################################\n",
      "pass\n",
      "batch_size = 1000\n",
      "batch_nums = np.ceil(X_val.shape[0] / batch_size)\n",
      "for model_dic in models:\n",
      "    model_to_probs[model_dic] = np.zeros((X_val.shape[0],100))\n",
      "\n",
      "for batch_i in xrange(int(batch_nums)):\n",
      "    for model_dic in models:\n",
      "        end_index = min((batch_i+1)*batch_size, X_val.shape[0])\n",
      "        model_to_probs[model_dic][batch_i*batch_size:end_index] = five_layer_convnet(X_val[batch_i*batch_size:end_index], models[model_dic], y=None, reg=0.0, dropout=1.0,\n",
      "                       extract_features=False, compute_dX=False,\n",
      "                       return_probs=True)\n",
      "\n",
      "################################################################################\n",
      "#                            END OF YOUR CODE                                  #\n",
      "################################################################################    \n",
      "\n",
      "# Compute and print the accuracy for each model.\n",
      "for model_name, probs in model_to_probs.iteritems():\n",
      "    acc = np.mean(np.argmax(probs, axis=1) == y_val)\n",
      "    print '%s got accuracy %f' % (model_name, acc)"
     ],
     "language": "python",
     "metadata": {},
     "outputs": [
      {
       "output_type": "stream",
       "stream": "stdout",
       "text": [
        "model9 got accuracy 0.358400\n",
        "model8 got accuracy 0.357000\n",
        "model3 got accuracy 0.370600\n",
        "model2 got accuracy 0.371000\n",
        "model1 got accuracy 0.371800\n",
        "model7 got accuracy 0.360000\n",
        "model6 got accuracy 0.363400\n",
        "model5 got accuracy 0.368600\n",
        "model4 got accuracy 0.369200\n",
        "model10 got accuracy 0.357000\n"
       ]
      }
     ],
     "prompt_number": 64
    },
    {
     "cell_type": "markdown",
     "metadata": {},
     "source": [
      "# Use a model ensemble\n",
      "A simple way to implement an ensemble of models is to average the predicted probabilites for each model in the ensemble.\n",
      "\n",
      "More concretely, suppose we have models $k$ models $m_1,\\ldots,m_k$ and we want to combine them into an ensemble. If $p(x=y_i \\mid m_j)$ is the probability that the input $x$ is classified as $y_i$ under model $m_j$, then the enemble predicts\n",
      "\n",
      "$$p(x=y_i \\mid \\{m_1,\\ldots,m_k\\}) = \\frac1k\\sum_{j=1}^kp(x=y_i\\mid m_j)$$\n",
      "\n",
      "In the cell below, implement this simple ensemble method by filling in the `compute_ensemble_preds` function. The ensemble of all 10 models should perform much better than the best individual model."
     ]
    },
    {
     "cell_type": "code",
     "collapsed": false,
     "input": [
      "def compute_ensemble_preds(probs_list):\n",
      "    \"\"\"\n",
      "    Use the predicted class probabilities from different models to implement\n",
      "    the ensembling method described above.\n",
      "    \n",
      "    Inputs:\n",
      "    - probs_list: A list of numpy arrays, where each gives the predicted class\n",
      "      probabilities under some model. In other words,\n",
      "      probs_list[j][i, c] = p means that the jth model in the ensemble thinks\n",
      "      that the ith data point has class c with probability p.\n",
      "    \n",
      "    Returns:\n",
      "    An array y_pred_ensemble of ensembled predictions, such that\n",
      "    y_pred_ensemble[i] = c means that ensemble predicts that the ith data point\n",
      "    is predicted to have class c.\n",
      "    \"\"\"\n",
      "    y_pred_ensemble = None\n",
      "    ############################################################################\n",
      "    # TODO: Implement this function. Store the ensemble predictions in         #\n",
      "    # y_pred_ensemble.                                                         #\n",
      "    ############################################################################\n",
      "    \n",
      "    \n",
      "    pass\n",
      "        \n",
      "    pre_probs = np.sum(probs_list,axis=0)\n",
      "    #pre_probs = pre_probs / float(len(probs_list))\n",
      "    y_pred_ensemble = np.argmax(pre_probs, axis=1)\n",
      "        \n",
      "        \n",
      "\n",
      "    ############################################################################\n",
      "    #                             END OF YOUR CODE                             #\n",
      "    ############################################################################\n",
      "    return y_pred_ensemble\n",
      "    \n",
      "# Combine all models into an ensemble and make predictions on the validation set.\n",
      "# This should be significantly better than the best individual model.\n",
      "print np.mean(compute_ensemble_preds(model_to_probs.values()) == y_val)"
     ],
     "language": "python",
     "metadata": {},
     "outputs": [
      {
       "output_type": "stream",
       "stream": "stdout",
       "text": [
        "0.4244\n"
       ]
      }
     ],
     "prompt_number": 53
    },
    {
     "cell_type": "markdown",
     "metadata": {},
     "source": [
      "# Ensemble size vs Performance\n",
      "Using our 10 pretrained models, we can form many different ensembles of different sizes. More precisely, if we have $n$ models and we want to form an ensemble of $k$ models, then there are $\\binom{n}{k}$ possible ensembles that we can form, where\n",
      "\n",
      "$$\\binom{n}{k} = \\frac{n!}{(n-k)!k!}$$\n",
      "\n",
      "We can use these different possible ensembles to study the effect of ensemble size on ensemble performance.\n",
      "\n",
      "In the cell below, compute the validation set accuracy of all possible ensembles of our 10 pretrained models. Produce a scatter plot with \"ensemble size\" on the horizontal axis and \"validation set accuracy\" on the vertical axis. Your plot should have a total of\n",
      "\n",
      "$$\\sum_{k=1}^{10} \\binom{10}{k}$$\n",
      "\n",
      "points corresponding to all possible ensembles of the 10 pretrained models.\n",
      "\n",
      "You should be able to compute the validation set predictions of these ensembles without computing any more forward passes through any of the networks."
     ]
    },
    {
     "cell_type": "code",
     "collapsed": false,
     "input": [
      "################################################################################\n",
      "# TODO: Create a plot comparing ensemble size with ensemble performance as     #\n",
      "# described above.                                                             #\n",
      "#                                                                              #\n",
      "# HINT: Look up the function itertools.combinations.                           #\n",
      "################################################################################\n",
      "pass\n",
      "import itertools\n",
      "values = model_to_probs.values()\n",
      "num = len(values)\n",
      "\n",
      "out_put = {}\n",
      "\n",
      "\n",
      "\n",
      "for i in xrange(num):\n",
      "    k = i+1\n",
      "    combination_k =  itertools.combinations(values,k)\n",
      "    value_k = list(combination_k)\n",
      "    t_len = len(value_k)\n",
      "    out_put[k] = []\n",
      "    for j in xrange(t_len):\n",
      "        t_pred = np.mean(compute_ensemble_preds(value_k[j]) == y_val)\n",
      "        out_put[k].append(t_pred)\n",
      "        print \"i = %d, j= %d, acctuarcy = %f\" %(i,j, t_pred)\n",
      "print out_put\n",
      "\n",
      "    \n",
      "    \n",
      "    \n",
      "################################################################################\n",
      "#                            END OF YOUR CODE                                  #\n",
      "################################################################################"
     ],
     "language": "python",
     "metadata": {},
     "outputs": [
      {
       "output_type": "stream",
       "stream": "stdout",
       "text": [
        "i = 0, j= 0, acctuarcy = 0.358400\n",
        "i = 0, j= 1, acctuarcy = 0.357000"
       ]
      },
      {
       "output_type": "stream",
       "stream": "stdout",
       "text": [
        "\n",
        "i = 0, j= 2, acctuarcy = 0.370600"
       ]
      },
      {
       "output_type": "stream",
       "stream": "stdout",
       "text": [
        "\n",
        "i = 0, j= 3, acctuarcy = 0.371000"
       ]
      },
      {
       "output_type": "stream",
       "stream": "stdout",
       "text": [
        "\n",
        "i = 0, j= 4, acctuarcy = 0.371800"
       ]
      },
      {
       "output_type": "stream",
       "stream": "stdout",
       "text": [
        "\n",
        "i = 0, j= 5, acctuarcy = 0.360000"
       ]
      },
      {
       "output_type": "stream",
       "stream": "stdout",
       "text": [
        "\n",
        "i = 0, j= 6, acctuarcy = 0.363400"
       ]
      },
      {
       "output_type": "stream",
       "stream": "stdout",
       "text": [
        "\n",
        "i = 0, j= 7, acctuarcy = 0.368600"
       ]
      },
      {
       "output_type": "stream",
       "stream": "stdout",
       "text": [
        "\n",
        "i = 0, j= 8, acctuarcy = 0.369200"
       ]
      },
      {
       "output_type": "stream",
       "stream": "stdout",
       "text": [
        "\n",
        "i = 0, j= 9, acctuarcy = 0.357000"
       ]
      },
      {
       "output_type": "stream",
       "stream": "stdout",
       "text": [
        "\n",
        "i = 1, j= 0, acctuarcy = 0.386800"
       ]
      },
      {
       "output_type": "stream",
       "stream": "stdout",
       "text": [
        "\n",
        "i = 1, j= 1, acctuarcy = 0.386600"
       ]
      },
      {
       "output_type": "stream",
       "stream": "stdout",
       "text": [
        "\n",
        "i = 1, j= 2, acctuarcy = 0.384400"
       ]
      },
      {
       "output_type": "stream",
       "stream": "stdout",
       "text": [
        "\n",
        "i = 1, j= 3, acctuarcy = 0.389000"
       ]
      },
      {
       "output_type": "stream",
       "stream": "stdout",
       "text": [
        "\n",
        "i = 1, j= 4, acctuarcy = 0.387600"
       ]
      },
      {
       "output_type": "stream",
       "stream": "stdout",
       "text": [
        "\n",
        "i = 1, j= 5, acctuarcy = 0.385400"
       ]
      },
      {
       "output_type": "stream",
       "stream": "stdout",
       "text": [
        "\n",
        "i = 1, j= 6, acctuarcy = 0.384600"
       ]
      },
      {
       "output_type": "stream",
       "stream": "stdout",
       "text": [
        "\n",
        "i = 1, j= 7, acctuarcy = 0.396000"
       ]
      },
      {
       "output_type": "stream",
       "stream": "stdout",
       "text": [
        "\n",
        "i = 1, j= 8, acctuarcy = 0.386800"
       ]
      },
      {
       "output_type": "stream",
       "stream": "stdout",
       "text": [
        "\n",
        "i = 1, j= 9, acctuarcy = 0.392600"
       ]
      },
      {
       "output_type": "stream",
       "stream": "stdout",
       "text": [
        "\n",
        "i = 1, j= 10, acctuarcy = 0.384400"
       ]
      },
      {
       "output_type": "stream",
       "stream": "stdout",
       "text": [
        "\n",
        "i = 1, j= 11, acctuarcy = 0.397600"
       ]
      },
      {
       "output_type": "stream",
       "stream": "stdout",
       "text": [
        "\n",
        "i = 1, j= 12, acctuarcy = 0.386400"
       ]
      },
      {
       "output_type": "stream",
       "stream": "stdout",
       "text": [
        "\n",
        "i = 1, j= 13, acctuarcy = 0.388400"
       ]
      },
      {
       "output_type": "stream",
       "stream": "stdout",
       "text": [
        "\n",
        "i = 1, j= 14, acctuarcy = 0.384800"
       ]
      },
      {
       "output_type": "stream",
       "stream": "stdout",
       "text": [
        "\n",
        "i = 1, j= 15, acctuarcy = 0.390400"
       ]
      },
      {
       "output_type": "stream",
       "stream": "stdout",
       "text": [
        "\n",
        "i = 1, j= 16, acctuarcy = 0.357000"
       ]
      },
      {
       "output_type": "stream",
       "stream": "stdout",
       "text": [
        "\n",
        "i = 1, j= 17, acctuarcy = 0.390400"
       ]
      },
      {
       "output_type": "stream",
       "stream": "stdout",
       "text": [
        "\n",
        "i = 1, j= 18, acctuarcy = 0.397000"
       ]
      },
      {
       "output_type": "stream",
       "stream": "stdout",
       "text": [
        "\n",
        "i = 1, j= 19, acctuarcy = 0.389200"
       ]
      },
      {
       "output_type": "stream",
       "stream": "stdout",
       "text": [
        "\n",
        "i = 1, j= 20, acctuarcy = 0.390800"
       ]
      },
      {
       "output_type": "stream",
       "stream": "stdout",
       "text": [
        "\n",
        "i = 1, j= 21, acctuarcy = 0.389000"
       ]
      },
      {
       "output_type": "stream",
       "stream": "stdout",
       "text": [
        "\n",
        "i = 1, j= 22, acctuarcy = 0.399600"
       ]
      },
      {
       "output_type": "stream",
       "stream": "stdout",
       "text": [
        "\n",
        "i = 1, j= 23, acctuarcy = 0.392600"
       ]
      },
      {
       "output_type": "stream",
       "stream": "stdout",
       "text": [
        "\n",
        "i = 1, j= 24, acctuarcy = 0.393000"
       ]
      },
      {
       "output_type": "stream",
       "stream": "stdout",
       "text": [
        "\n",
        "i = 1, j= 25, acctuarcy = 0.391800"
       ]
      },
      {
       "output_type": "stream",
       "stream": "stdout",
       "text": [
        "\n",
        "i = 1, j= 26, acctuarcy = 0.389600"
       ]
      },
      {
       "output_type": "stream",
       "stream": "stdout",
       "text": [
        "\n",
        "i = 1, j= 27, acctuarcy = 0.387200"
       ]
      },
      {
       "output_type": "stream",
       "stream": "stdout",
       "text": [
        "\n",
        "i = 1, j= 28, acctuarcy = 0.388800"
       ]
      },
      {
       "output_type": "stream",
       "stream": "stdout",
       "text": [
        "\n",
        "i = 1, j= 29, acctuarcy = 0.384400"
       ]
      },
      {
       "output_type": "stream",
       "stream": "stdout",
       "text": [
        "\n",
        "i = 1, j= 30, acctuarcy = 0.395200"
       ]
      },
      {
       "output_type": "stream",
       "stream": "stdout",
       "text": [
        "\n",
        "i = 1, j= 31, acctuarcy = 0.396800"
       ]
      },
      {
       "output_type": "stream",
       "stream": "stdout",
       "text": [
        "\n",
        "i = 1, j= 32, acctuarcy = 0.393400"
       ]
      },
      {
       "output_type": "stream",
       "stream": "stdout",
       "text": [
        "\n",
        "i = 1, j= 33, acctuarcy = 0.396800"
       ]
      },
      {
       "output_type": "stream",
       "stream": "stdout",
       "text": [
        "\n",
        "i = 1, j= 34, acctuarcy = 0.397600"
       ]
      },
      {
       "output_type": "stream",
       "stream": "stdout",
       "text": [
        "\n",
        "i = 1, j= 35, acctuarcy = 0.389600"
       ]
      },
      {
       "output_type": "stream",
       "stream": "stdout",
       "text": [
        "\n",
        "i = 1, j= 36, acctuarcy = 0.380600"
       ]
      },
      {
       "output_type": "stream",
       "stream": "stdout",
       "text": [
        "\n",
        "i = 1, j= 37, acctuarcy = 0.390800"
       ]
      },
      {
       "output_type": "stream",
       "stream": "stdout",
       "text": [
        "\n",
        "i = 1, j= 38, acctuarcy = 0.386400"
       ]
      },
      {
       "output_type": "stream",
       "stream": "stdout",
       "text": [
        "\n",
        "i = 1, j= 39, acctuarcy = 0.384800"
       ]
      },
      {
       "output_type": "stream",
       "stream": "stdout",
       "text": [
        "\n",
        "i = 1, j= 40, acctuarcy = 0.399200"
       ]
      },
      {
       "output_type": "stream",
       "stream": "stdout",
       "text": [
        "\n",
        "i = 1, j= 41, acctuarcy = 0.388400"
       ]
      },
      {
       "output_type": "stream",
       "stream": "stdout",
       "text": [
        "\n",
        "i = 1, j= 42, acctuarcy = 0.389400"
       ]
      },
      {
       "output_type": "stream",
       "stream": "stdout",
       "text": [
        "\n",
        "i = 1, j= 43, acctuarcy = 0.384800"
       ]
      },
      {
       "output_type": "stream",
       "stream": "stdout",
       "text": [
        "\n",
        "i = 1, j= 44, acctuarcy = 0.390400"
       ]
      },
      {
       "output_type": "stream",
       "stream": "stdout",
       "text": [
        "\n",
        "i = 2, j= 0, acctuarcy = 0.400000"
       ]
      },
      {
       "output_type": "stream",
       "stream": "stdout",
       "text": [
        "\n",
        "i = 2, j= 1, acctuarcy = 0.396600"
       ]
      },
      {
       "output_type": "stream",
       "stream": "stdout",
       "text": [
        "\n",
        "i = 2, j= 2, acctuarcy = 0.402800"
       ]
      },
      {
       "output_type": "stream",
       "stream": "stdout",
       "text": [
        "\n",
        "i = 2, j= 3, acctuarcy = 0.400200"
       ]
      },
      {
       "output_type": "stream",
       "stream": "stdout",
       "text": [
        "\n",
        "i = 2, j= 4, acctuarcy = 0.402400"
       ]
      },
      {
       "output_type": "stream",
       "stream": "stdout",
       "text": [
        "\n",
        "i = 2, j= 5, acctuarcy = 0.397400"
       ]
      },
      {
       "output_type": "stream",
       "stream": "stdout",
       "text": [
        "\n",
        "i = 2, j= 6, acctuarcy = 0.404200"
       ]
      },
      {
       "output_type": "stream",
       "stream": "stdout",
       "text": [
        "\n",
        "i = 2, j= 7, acctuarcy = 0.383800"
       ]
      },
      {
       "output_type": "stream",
       "stream": "stdout",
       "text": [
        "\n",
        "i = 2, j= 8, acctuarcy = 0.400000"
       ]
      },
      {
       "output_type": "stream",
       "stream": "stdout",
       "text": [
        "\n",
        "i = 2, j= 9, acctuarcy = 0.401400"
       ]
      },
      {
       "output_type": "stream",
       "stream": "stdout",
       "text": [
        "\n",
        "i = 2, j= 10, acctuarcy = 0.398600"
       ]
      },
      {
       "output_type": "stream",
       "stream": "stdout",
       "text": [
        "\n",
        "i = 2, j= 11, acctuarcy = 0.399800"
       ]
      },
      {
       "output_type": "stream",
       "stream": "stdout",
       "text": [
        "\n",
        "i = 2, j= 12, acctuarcy = 0.394600"
       ]
      },
      {
       "output_type": "stream",
       "stream": "stdout",
       "text": [
        "\n",
        "i = 2, j= 13, acctuarcy = 0.405800"
       ]
      },
      {
       "output_type": "stream",
       "stream": "stdout",
       "text": [
        "\n",
        "i = 2, j= 14, acctuarcy = 0.400000"
       ]
      },
      {
       "output_type": "stream",
       "stream": "stdout",
       "text": [
        "\n",
        "i = 2, j= 15, acctuarcy = 0.403600"
       ]
      },
      {
       "output_type": "stream",
       "stream": "stdout",
       "text": [
        "\n",
        "i = 2, j= 16, acctuarcy = 0.397600"
       ]
      },
      {
       "output_type": "stream",
       "stream": "stdout",
       "text": [
        "\n",
        "i = 2, j= 17, acctuarcy = 0.401000"
       ]
      },
      {
       "output_type": "stream",
       "stream": "stdout",
       "text": [
        "\n",
        "i = 2, j= 18, acctuarcy = 0.397800"
       ]
      },
      {
       "output_type": "stream",
       "stream": "stdout",
       "text": [
        "\n",
        "i = 2, j= 19, acctuarcy = 0.403600"
       ]
      },
      {
       "output_type": "stream",
       "stream": "stdout",
       "text": [
        "\n",
        "i = 2, j= 20, acctuarcy = 0.396600"
       ]
      },
      {
       "output_type": "stream",
       "stream": "stdout",
       "text": [
        "\n",
        "i = 2, j= 21, acctuarcy = 0.402000"
       ]
      },
      {
       "output_type": "stream",
       "stream": "stdout",
       "text": [
        "\n",
        "i = 2, j= 22, acctuarcy = 0.404200"
       ]
      },
      {
       "output_type": "stream",
       "stream": "stdout",
       "text": [
        "\n",
        "i = 2, j= 23, acctuarcy = 0.401200"
       ]
      },
      {
       "output_type": "stream",
       "stream": "stdout",
       "text": [
        "\n",
        "i = 2, j= 24, acctuarcy = 0.407800"
       ]
      },
      {
       "output_type": "stream",
       "stream": "stdout",
       "text": [
        "\n",
        "i = 2, j= 25, acctuarcy = 0.402800"
       ]
      },
      {
       "output_type": "stream",
       "stream": "stdout",
       "text": [
        "\n",
        "i = 2, j= 26, acctuarcy = 0.402800"
       ]
      },
      {
       "output_type": "stream",
       "stream": "stdout",
       "text": [
        "\n",
        "i = 2, j= 27, acctuarcy = 0.399400"
       ]
      },
      {
       "output_type": "stream",
       "stream": "stdout",
       "text": [
        "\n",
        "i = 2, j= 28, acctuarcy = 0.402600"
       ]
      },
      {
       "output_type": "stream",
       "stream": "stdout",
       "text": [
        "\n",
        "i = 2, j= 29, acctuarcy = 0.400200"
       ]
      },
      {
       "output_type": "stream",
       "stream": "stdout",
       "text": [
        "\n",
        "i = 2, j= 30, acctuarcy = 0.400000"
       ]
      },
      {
       "output_type": "stream",
       "stream": "stdout",
       "text": [
        "\n",
        "i = 2, j= 31, acctuarcy = 0.406600"
       ]
      },
      {
       "output_type": "stream",
       "stream": "stdout",
       "text": [
        "\n",
        "i = 2, j= 32, acctuarcy = 0.402400"
       ]
      },
      {
       "output_type": "stream",
       "stream": "stdout",
       "text": [
        "\n",
        "i = 2, j= 33, acctuarcy = 0.405400"
       ]
      },
      {
       "output_type": "stream",
       "stream": "stdout",
       "text": [
        "\n",
        "i = 2, j= 34, acctuarcy = 0.397400"
       ]
      },
      {
       "output_type": "stream",
       "stream": "stdout",
       "text": [
        "\n",
        "i = 2, j= 35, acctuarcy = 0.404200"
       ]
      },
      {
       "output_type": "stream",
       "stream": "stdout",
       "text": [
        "\n",
        "i = 2, j= 36, acctuarcy = 0.399000"
       ]
      },
      {
       "output_type": "stream",
       "stream": "stdout",
       "text": [
        "\n",
        "i = 2, j= 37, acctuarcy = 0.407400"
       ]
      },
      {
       "output_type": "stream",
       "stream": "stdout",
       "text": [
        "\n",
        "i = 2, j= 38, acctuarcy = 0.402200"
       ]
      },
      {
       "output_type": "stream",
       "stream": "stdout",
       "text": [
        "\n",
        "i = 2, j= 39, acctuarcy = 0.401000"
       ]
      },
      {
       "output_type": "stream",
       "stream": "stdout",
       "text": [
        "\n",
        "i = 2, j= 40, acctuarcy = 0.401800"
       ]
      },
      {
       "output_type": "stream",
       "stream": "stdout",
       "text": [
        "\n",
        "i = 2, j= 41, acctuarcy = 0.408400"
       ]
      },
      {
       "output_type": "stream",
       "stream": "stdout",
       "text": [
        "\n",
        "i = 2, j= 42, acctuarcy = 0.386600"
       ]
      },
      {
       "output_type": "stream",
       "stream": "stdout",
       "text": [
        "\n",
        "i = 2, j= 43, acctuarcy = 0.404000"
       ]
      },
      {
       "output_type": "stream",
       "stream": "stdout",
       "text": [
        "\n",
        "i = 2, j= 44, acctuarcy = 0.403200"
       ]
      },
      {
       "output_type": "stream",
       "stream": "stdout",
       "text": [
        "\n",
        "i = 2, j= 45, acctuarcy = 0.402800"
       ]
      },
      {
       "output_type": "stream",
       "stream": "stdout",
       "text": [
        "\n",
        "i = 2, j= 46, acctuarcy = 0.397600"
       ]
      },
      {
       "output_type": "stream",
       "stream": "stdout",
       "text": [
        "\n",
        "i = 2, j= 47, acctuarcy = 0.398600"
       ]
      },
      {
       "output_type": "stream",
       "stream": "stdout",
       "text": [
        "\n",
        "i = 2, j= 48, acctuarcy = 0.380600"
       ]
      },
      {
       "output_type": "stream",
       "stream": "stdout",
       "text": [
        "\n",
        "i = 2, j= 49, acctuarcy = 0.405600"
       ]
      },
      {
       "output_type": "stream",
       "stream": "stdout",
       "text": [
        "\n",
        "i = 2, j= 50, acctuarcy = 0.411400"
       ]
      },
      {
       "output_type": "stream",
       "stream": "stdout",
       "text": [
        "\n",
        "i = 2, j= 51, acctuarcy = 0.402600"
       ]
      },
      {
       "output_type": "stream",
       "stream": "stdout",
       "text": [
        "\n",
        "i = 2, j= 52, acctuarcy = 0.407400"
       ]
      },
      {
       "output_type": "stream",
       "stream": "stdout",
       "text": [
        "\n",
        "i = 2, j= 53, acctuarcy = 0.389800"
       ]
      },
      {
       "output_type": "stream",
       "stream": "stdout",
       "text": [
        "\n",
        "i = 2, j= 54, acctuarcy = 0.406800"
       ]
      },
      {
       "output_type": "stream",
       "stream": "stdout",
       "text": [
        "\n",
        "i = 2, j= 55, acctuarcy = 0.397000"
       ]
      },
      {
       "output_type": "stream",
       "stream": "stdout",
       "text": [
        "\n",
        "i = 2, j= 56, acctuarcy = 0.405000"
       ]
      },
      {
       "output_type": "stream",
       "stream": "stdout",
       "text": [
        "\n",
        "i = 2, j= 57, acctuarcy = 0.384400"
       ]
      },
      {
       "output_type": "stream",
       "stream": "stdout",
       "text": [
        "\n",
        "i = 2, j= 58, acctuarcy = 0.400600"
       ]
      },
      {
       "output_type": "stream",
       "stream": "stdout",
       "text": [
        "\n",
        "i = 2, j= 59, acctuarcy = 0.407400"
       ]
      },
      {
       "output_type": "stream",
       "stream": "stdout",
       "text": [
        "\n",
        "i = 2, j= 60, acctuarcy = 0.392400"
       ]
      },
      {
       "output_type": "stream",
       "stream": "stdout",
       "text": [
        "\n",
        "i = 2, j= 61, acctuarcy = 0.401400"
       ]
      },
      {
       "output_type": "stream",
       "stream": "stdout",
       "text": [
        "\n",
        "i = 2, j= 62, acctuarcy = 0.382000"
       ]
      },
      {
       "output_type": "stream",
       "stream": "stdout",
       "text": [
        "\n",
        "i = 2, j= 63, acctuarcy = 0.383800"
       ]
      },
      {
       "output_type": "stream",
       "stream": "stdout",
       "text": [
        "\n",
        "i = 2, j= 64, acctuarcy = 0.401600"
       ]
      },
      {
       "output_type": "stream",
       "stream": "stdout",
       "text": [
        "\n",
        "i = 2, j= 65, acctuarcy = 0.403600"
       ]
      },
      {
       "output_type": "stream",
       "stream": "stdout",
       "text": [
        "\n",
        "i = 2, j= 66, acctuarcy = 0.397400"
       ]
      },
      {
       "output_type": "stream",
       "stream": "stdout",
       "text": [
        "\n",
        "i = 2, j= 67, acctuarcy = 0.398000"
       ]
      },
      {
       "output_type": "stream",
       "stream": "stdout",
       "text": [
        "\n",
        "i = 2, j= 68, acctuarcy = 0.408000"
       ]
      },
      {
       "output_type": "stream",
       "stream": "stdout",
       "text": [
        "\n",
        "i = 2, j= 69, acctuarcy = 0.399000"
       ]
      },
      {
       "output_type": "stream",
       "stream": "stdout",
       "text": [
        "\n",
        "i = 2, j= 70, acctuarcy = 0.403800"
       ]
      },
      {
       "output_type": "stream",
       "stream": "stdout",
       "text": [
        "\n",
        "i = 2, j= 71, acctuarcy = 0.407400"
       ]
      },
      {
       "output_type": "stream",
       "stream": "stdout",
       "text": [
        "\n",
        "i = 2, j= 72, acctuarcy = 0.401200"
       ]
      },
      {
       "output_type": "stream",
       "stream": "stdout",
       "text": [
        "\n",
        "i = 2, j= 73, acctuarcy = 0.411000"
       ]
      },
      {
       "output_type": "stream",
       "stream": "stdout",
       "text": [
        "\n",
        "i = 2, j= 74, acctuarcy = 0.407400"
       ]
      },
      {
       "output_type": "stream",
       "stream": "stdout",
       "text": [
        "\n",
        "i = 2, j= 75, acctuarcy = 0.398600"
       ]
      },
      {
       "output_type": "stream",
       "stream": "stdout",
       "text": [
        "\n",
        "i = 2, j= 76, acctuarcy = 0.398200"
       ]
      },
      {
       "output_type": "stream",
       "stream": "stdout",
       "text": [
        "\n",
        "i = 2, j= 77, acctuarcy = 0.406400"
       ]
      },
      {
       "output_type": "stream",
       "stream": "stdout",
       "text": [
        "\n",
        "i = 2, j= 78, acctuarcy = 0.402200"
       ]
      },
      {
       "output_type": "stream",
       "stream": "stdout",
       "text": [
        "\n",
        "i = 2, j= 79, acctuarcy = 0.398800"
       ]
      },
      {
       "output_type": "stream",
       "stream": "stdout",
       "text": [
        "\n",
        "i = 2, j= 80, acctuarcy = 0.405000"
       ]
      },
      {
       "output_type": "stream",
       "stream": "stdout",
       "text": [
        "\n",
        "i = 2, j= 81, acctuarcy = 0.401000"
       ]
      },
      {
       "output_type": "stream",
       "stream": "stdout",
       "text": [
        "\n",
        "i = 2, j= 82, acctuarcy = 0.402800"
       ]
      },
      {
       "output_type": "stream",
       "stream": "stdout",
       "text": [
        "\n",
        "i = 2, j= 83, acctuarcy = 0.401800"
       ]
      },
      {
       "output_type": "stream",
       "stream": "stdout",
       "text": [
        "\n",
        "i = 2, j= 84, acctuarcy = 0.408400"
       ]
      },
      {
       "output_type": "stream",
       "stream": "stdout",
       "text": [
        "\n",
        "i = 2, j= 85, acctuarcy = 0.404600"
       ]
      },
      {
       "output_type": "stream",
       "stream": "stdout",
       "text": [
        "\n",
        "i = 2, j= 86, acctuarcy = 0.409000"
       ]
      },
      {
       "output_type": "stream",
       "stream": "stdout",
       "text": [
        "\n",
        "i = 2, j= 87, acctuarcy = 0.403800"
       ]
      },
      {
       "output_type": "stream",
       "stream": "stdout",
       "text": [
        "\n",
        "i = 2, j= 88, acctuarcy = 0.405200"
       ]
      },
      {
       "output_type": "stream",
       "stream": "stdout",
       "text": [
        "\n",
        "i = 2, j= 89, acctuarcy = 0.404000"
       ]
      },
      {
       "output_type": "stream",
       "stream": "stdout",
       "text": [
        "\n",
        "i = 2, j= 90, acctuarcy = 0.401000"
       ]
      },
      {
       "output_type": "stream",
       "stream": "stdout",
       "text": [
        "\n",
        "i = 2, j= 91, acctuarcy = 0.395400"
       ]
      },
      {
       "output_type": "stream",
       "stream": "stdout",
       "text": [
        "\n",
        "i = 2, j= 92, acctuarcy = 0.400600"
       ]
      },
      {
       "output_type": "stream",
       "stream": "stdout",
       "text": [
        "\n",
        "i = 2, j= 93, acctuarcy = 0.403200"
       ]
      },
      {
       "output_type": "stream",
       "stream": "stdout",
       "text": [
        "\n",
        "i = 2, j= 94, acctuarcy = 0.396800"
       ]
      },
      {
       "output_type": "stream",
       "stream": "stdout",
       "text": [
        "\n",
        "i = 2, j= 95, acctuarcy = 0.404800"
       ]
      },
      {
       "output_type": "stream",
       "stream": "stdout",
       "text": [
        "\n",
        "i = 2, j= 96, acctuarcy = 0.402800"
       ]
      },
      {
       "output_type": "stream",
       "stream": "stdout",
       "text": [
        "\n",
        "i = 2, j= 97, acctuarcy = 0.402200"
       ]
      },
      {
       "output_type": "stream",
       "stream": "stdout",
       "text": [
        "\n",
        "i = 2, j= 98, acctuarcy = 0.397600"
       ]
      },
      {
       "output_type": "stream",
       "stream": "stdout",
       "text": [
        "\n",
        "i = 2, j= 99, acctuarcy = 0.398600"
       ]
      },
      {
       "output_type": "stream",
       "stream": "stdout",
       "text": [
        "\n",
        "i = 2, j= 100, acctuarcy = 0.404000"
       ]
      },
      {
       "output_type": "stream",
       "stream": "stdout",
       "text": [
        "\n",
        "i = 2, j= 101, acctuarcy = 0.403400"
       ]
      },
      {
       "output_type": "stream",
       "stream": "stdout",
       "text": [
        "\n",
        "i = 2, j= 102, acctuarcy = 0.407800"
       ]
      },
      {
       "output_type": "stream",
       "stream": "stdout",
       "text": [
        "\n",
        "i = 2, j= 103, acctuarcy = 0.405600"
       ]
      },
      {
       "output_type": "stream",
       "stream": "stdout",
       "text": [
        "\n",
        "i = 2, j= 104, acctuarcy = 0.405800"
       ]
      },
      {
       "output_type": "stream",
       "stream": "stdout",
       "text": [
        "\n",
        "i = 2, j= 105, acctuarcy = 0.410000"
       ]
      },
      {
       "output_type": "stream",
       "stream": "stdout",
       "text": [
        "\n",
        "i = 2, j= 106, acctuarcy = 0.411400"
       ]
      },
      {
       "output_type": "stream",
       "stream": "stdout",
       "text": [
        "\n",
        "i = 2, j= 107, acctuarcy = 0.405400"
       ]
      },
      {
       "output_type": "stream",
       "stream": "stdout",
       "text": [
        "\n",
        "i = 2, j= 108, acctuarcy = 0.402600"
       ]
      },
      {
       "output_type": "stream",
       "stream": "stdout",
       "text": [
        "\n",
        "i = 2, j= 109, acctuarcy = 0.407400"
       ]
      },
      {
       "output_type": "stream",
       "stream": "stdout",
       "text": [
        "\n",
        "i = 2, j= 110, acctuarcy = 0.398200"
       ]
      },
      {
       "output_type": "stream",
       "stream": "stdout",
       "text": [
        "\n",
        "i = 2, j= 111, acctuarcy = 0.407000"
       ]
      },
      {
       "output_type": "stream",
       "stream": "stdout",
       "text": [
        "\n",
        "i = 2, j= 112, acctuarcy = 0.406800"
       ]
      },
      {
       "output_type": "stream",
       "stream": "stdout",
       "text": [
        "\n",
        "i = 2, j= 113, acctuarcy = 0.401200"
       ]
      },
      {
       "output_type": "stream",
       "stream": "stdout",
       "text": [
        "\n",
        "i = 2, j= 114, acctuarcy = 0.397000"
       ]
      },
      {
       "output_type": "stream",
       "stream": "stdout",
       "text": [
        "\n",
        "i = 2, j= 115, acctuarcy = 0.405000"
       ]
      },
      {
       "output_type": "stream",
       "stream": "stdout",
       "text": [
        "\n",
        "i = 2, j= 116, acctuarcy = 0.402800"
       ]
      },
      {
       "output_type": "stream",
       "stream": "stdout",
       "text": [
        "\n",
        "i = 2, j= 117, acctuarcy = 0.400600"
       ]
      },
      {
       "output_type": "stream",
       "stream": "stdout",
       "text": [
        "\n",
        "i = 2, j= 118, acctuarcy = 0.407400"
       ]
      },
      {
       "output_type": "stream",
       "stream": "stdout",
       "text": [
        "\n",
        "i = 2, j= 119, acctuarcy = 0.401400"
       ]
      },
      {
       "output_type": "stream",
       "stream": "stdout",
       "text": [
        "\n",
        "i = 3, j= 0, acctuarcy = 0.405000"
       ]
      },
      {
       "output_type": "stream",
       "stream": "stdout",
       "text": [
        "\n",
        "i = 3, j= 1, acctuarcy = 0.411600"
       ]
      },
      {
       "output_type": "stream",
       "stream": "stdout",
       "text": [
        "\n",
        "i = 3, j= 2, acctuarcy = 0.408800"
       ]
      },
      {
       "output_type": "stream",
       "stream": "stdout",
       "text": [
        "\n",
        "i = 3, j= 3, acctuarcy = 0.409400"
       ]
      },
      {
       "output_type": "stream",
       "stream": "stdout",
       "text": [
        "\n",
        "i = 3, j= 4, acctuarcy = 0.402800"
       ]
      },
      {
       "output_type": "stream",
       "stream": "stdout",
       "text": [
        "\n",
        "i = 3, j= 5, acctuarcy = 0.411400"
       ]
      },
      {
       "output_type": "stream",
       "stream": "stdout",
       "text": [
        "\n",
        "i = 3, j= 6, acctuarcy = 0.397000"
       ]
      },
      {
       "output_type": "stream",
       "stream": "stdout",
       "text": [
        "\n",
        "i = 3, j= 7, acctuarcy = 0.408800"
       ]
      },
      {
       "output_type": "stream",
       "stream": "stdout",
       "text": [
        "\n",
        "i = 3, j= 8, acctuarcy = 0.406600"
       ]
      },
      {
       "output_type": "stream",
       "stream": "stdout",
       "text": [
        "\n",
        "i = 3, j= 9, acctuarcy = 0.410000"
       ]
      },
      {
       "output_type": "stream",
       "stream": "stdout",
       "text": [
        "\n",
        "i = 3, j= 10, acctuarcy = 0.401800"
       ]
      },
      {
       "output_type": "stream",
       "stream": "stdout",
       "text": [
        "\n",
        "i = 3, j= 11, acctuarcy = 0.406000"
       ]
      },
      {
       "output_type": "stream",
       "stream": "stdout",
       "text": [
        "\n",
        "i = 3, j= 12, acctuarcy = 0.394200"
       ]
      },
      {
       "output_type": "stream",
       "stream": "stdout",
       "text": [
        "\n",
        "i = 3, j= 13, acctuarcy = 0.410600"
       ]
      },
      {
       "output_type": "stream",
       "stream": "stdout",
       "text": [
        "\n",
        "i = 3, j= 14, acctuarcy = 0.410800"
       ]
      },
      {
       "output_type": "stream",
       "stream": "stdout",
       "text": [
        "\n",
        "i = 3, j= 15, acctuarcy = 0.408600"
       ]
      },
      {
       "output_type": "stream",
       "stream": "stdout",
       "text": [
        "\n",
        "i = 3, j= 16, acctuarcy = 0.414600"
       ]
      },
      {
       "output_type": "stream",
       "stream": "stdout",
       "text": [
        "\n",
        "i = 3, j= 17, acctuarcy = 0.398000"
       ]
      },
      {
       "output_type": "stream",
       "stream": "stdout",
       "text": [
        "\n",
        "i = 3, j= 18, acctuarcy = 0.413000"
       ]
      },
      {
       "output_type": "stream",
       "stream": "stdout",
       "text": [
        "\n",
        "i = 3, j= 19, acctuarcy = 0.405400"
       ]
      },
      {
       "output_type": "stream",
       "stream": "stdout",
       "text": [
        "\n",
        "i = 3, j= 20, acctuarcy = 0.409800"
       ]
      },
      {
       "output_type": "stream",
       "stream": "stdout",
       "text": [
        "\n",
        "i = 3, j= 21, acctuarcy = 0.398400"
       ]
      },
      {
       "output_type": "stream",
       "stream": "stdout",
       "text": [
        "\n",
        "i = 3, j= 22, acctuarcy = 0.407000"
       ]
      },
      {
       "output_type": "stream",
       "stream": "stdout",
       "text": [
        "\n",
        "i = 3, j= 23, acctuarcy = 0.412200"
       ]
      },
      {
       "output_type": "stream",
       "stream": "stdout",
       "text": [
        "\n",
        "i = 3, j= 24, acctuarcy = 0.402800"
       ]
      },
      {
       "output_type": "stream",
       "stream": "stdout",
       "text": [
        "\n",
        "i = 3, j= 25, acctuarcy = 0.408000"
       ]
      },
      {
       "output_type": "stream",
       "stream": "stdout",
       "text": [
        "\n",
        "i = 3, j= 26, acctuarcy = 0.396600"
       ]
      },
      {
       "output_type": "stream",
       "stream": "stdout",
       "text": [
        "\n",
        "i = 3, j= 27, acctuarcy = 0.400400"
       ]
      },
      {
       "output_type": "stream",
       "stream": "stdout",
       "text": [
        "\n",
        "i = 3, j= 28, acctuarcy = 0.408400"
       ]
      },
      {
       "output_type": "stream",
       "stream": "stdout",
       "text": [
        "\n",
        "i = 3, j= 29, acctuarcy = 0.403800"
       ]
      },
      {
       "output_type": "stream",
       "stream": "stdout",
       "text": [
        "\n",
        "i = 3, j= 30, acctuarcy = 0.406000"
       ]
      },
      {
       "output_type": "stream",
       "stream": "stdout",
       "text": [
        "\n",
        "i = 3, j= 31, acctuarcy = 0.404400"
       ]
      },
      {
       "output_type": "stream",
       "stream": "stdout",
       "text": [
        "\n",
        "i = 3, j= 32, acctuarcy = 0.411200"
       ]
      },
      {
       "output_type": "stream",
       "stream": "stdout",
       "text": [
        "\n",
        "i = 3, j= 33, acctuarcy = 0.405000"
       ]
      },
      {
       "output_type": "stream",
       "stream": "stdout",
       "text": [
        "\n",
        "i = 3, j= 34, acctuarcy = 0.409000"
       ]
      },
      {
       "output_type": "stream",
       "stream": "stdout",
       "text": [
        "\n",
        "i = 3, j= 35, acctuarcy = 0.411800"
       ]
      },
      {
       "output_type": "stream",
       "stream": "stdout",
       "text": [
        "\n",
        "i = 3, j= 36, acctuarcy = 0.404600"
       ]
      },
      {
       "output_type": "stream",
       "stream": "stdout",
       "text": [
        "\n",
        "i = 3, j= 37, acctuarcy = 0.411600"
       ]
      },
      {
       "output_type": "stream",
       "stream": "stdout",
       "text": [
        "\n",
        "i = 3, j= 38, acctuarcy = 0.411600"
       ]
      },
      {
       "output_type": "stream",
       "stream": "stdout",
       "text": [
        "\n",
        "i = 3, j= 39, acctuarcy = 0.405800"
       ]
      },
      {
       "output_type": "stream",
       "stream": "stdout",
       "text": [
        "\n",
        "i = 3, j= 40, acctuarcy = 0.403000"
       ]
      },
      {
       "output_type": "stream",
       "stream": "stdout",
       "text": [
        "\n",
        "i = 3, j= 41, acctuarcy = 0.406800"
       ]
      },
      {
       "output_type": "stream",
       "stream": "stdout",
       "text": [
        "\n",
        "i = 3, j= 42, acctuarcy = 0.408800"
       ]
      },
      {
       "output_type": "stream",
       "stream": "stdout",
       "text": [
        "\n",
        "i = 3, j= 43, acctuarcy = 0.404400"
       ]
      },
      {
       "output_type": "stream",
       "stream": "stdout",
       "text": [
        "\n",
        "i = 3, j= 44, acctuarcy = 0.414600"
       ]
      },
      {
       "output_type": "stream",
       "stream": "stdout",
       "text": [
        "\n",
        "i = 3, j= 45, acctuarcy = 0.409400"
       ]
      },
      {
       "output_type": "stream",
       "stream": "stdout",
       "text": [
        "\n",
        "i = 3, j= 46, acctuarcy = 0.409800"
       ]
      },
      {
       "output_type": "stream",
       "stream": "stdout",
       "text": [
        "\n",
        "i = 3, j= 47, acctuarcy = 0.402800"
       ]
      },
      {
       "output_type": "stream",
       "stream": "stdout",
       "text": [
        "\n",
        "i = 3, j= 48, acctuarcy = 0.411400"
       ]
      },
      {
       "output_type": "stream",
       "stream": "stdout",
       "text": [
        "\n",
        "i = 3, j= 49, acctuarcy = 0.411200"
       ]
      },
      {
       "output_type": "stream",
       "stream": "stdout",
       "text": [
        "\n",
        "i = 3, j= 50, acctuarcy = 0.412600"
       ]
      },
      {
       "output_type": "stream",
       "stream": "stdout",
       "text": [
        "\n",
        "i = 3, j= 51, acctuarcy = 0.408600"
       ]
      },
      {
       "output_type": "stream",
       "stream": "stdout",
       "text": [
        "\n",
        "i = 3, j= 52, acctuarcy = 0.410200"
       ]
      },
      {
       "output_type": "stream",
       "stream": "stdout",
       "text": [
        "\n",
        "i = 3, j= 53, acctuarcy = 0.408800"
       ]
      },
      {
       "output_type": "stream",
       "stream": "stdout",
       "text": [
        "\n",
        "i = 3, j= 54, acctuarcy = 0.408600"
       ]
      },
      {
       "output_type": "stream",
       "stream": "stdout",
       "text": [
        "\n",
        "i = 3, j= 55, acctuarcy = 0.404000"
       ]
      },
      {
       "output_type": "stream",
       "stream": "stdout",
       "text": [
        "\n",
        "i = 3, j= 56, acctuarcy = 0.405800"
       ]
      },
      {
       "output_type": "stream",
       "stream": "stdout",
       "text": [
        "\n",
        "i = 3, j= 57, acctuarcy = 0.406600"
       ]
      },
      {
       "output_type": "stream",
       "stream": "stdout",
       "text": [
        "\n",
        "i = 3, j= 58, acctuarcy = 0.406400"
       ]
      },
      {
       "output_type": "stream",
       "stream": "stdout",
       "text": [
        "\n",
        "i = 3, j= 59, acctuarcy = 0.410000"
       ]
      },
      {
       "output_type": "stream",
       "stream": "stdout",
       "text": [
        "\n",
        "i = 3, j= 60, acctuarcy = 0.410000"
       ]
      },
      {
       "output_type": "stream",
       "stream": "stdout",
       "text": [
        "\n",
        "i = 3, j= 61, acctuarcy = 0.408400"
       ]
      },
      {
       "output_type": "stream",
       "stream": "stdout",
       "text": [
        "\n",
        "i = 3, j= 62, acctuarcy = 0.401800"
       ]
      },
      {
       "output_type": "stream",
       "stream": "stdout",
       "text": [
        "\n",
        "i = 3, j= 63, acctuarcy = 0.406000"
       ]
      },
      {
       "output_type": "stream",
       "stream": "stdout",
       "text": [
        "\n",
        "i = 3, j= 64, acctuarcy = 0.411200"
       ]
      },
      {
       "output_type": "stream",
       "stream": "stdout",
       "text": [
        "\n",
        "i = 3, j= 65, acctuarcy = 0.410000"
       ]
      },
      {
       "output_type": "stream",
       "stream": "stdout",
       "text": [
        "\n",
        "i = 3, j= 66, acctuarcy = 0.412000"
       ]
      },
      {
       "output_type": "stream",
       "stream": "stdout",
       "text": [
        "\n",
        "i = 3, j= 67, acctuarcy = 0.410600"
       ]
      },
      {
       "output_type": "stream",
       "stream": "stdout",
       "text": [
        "\n",
        "i = 3, j= 68, acctuarcy = 0.411400"
       ]
      },
      {
       "output_type": "stream",
       "stream": "stdout",
       "text": [
        "\n",
        "i = 3, j= 69, acctuarcy = 0.413800"
       ]
      },
      {
       "output_type": "stream",
       "stream": "stdout",
       "text": [
        "\n",
        "i = 3, j= 70, acctuarcy = 0.410800"
       ]
      },
      {
       "output_type": "stream",
       "stream": "stdout",
       "text": [
        "\n",
        "i = 3, j= 71, acctuarcy = 0.412600"
       ]
      },
      {
       "output_type": "stream",
       "stream": "stdout",
       "text": [
        "\n",
        "i = 3, j= 72, acctuarcy = 0.408600"
       ]
      },
      {
       "output_type": "stream",
       "stream": "stdout",
       "text": [
        "\n",
        "i = 3, j= 73, acctuarcy = 0.414600"
       ]
      },
      {
       "output_type": "stream",
       "stream": "stdout",
       "text": [
        "\n",
        "i = 3, j= 74, acctuarcy = 0.405000"
       ]
      },
      {
       "output_type": "stream",
       "stream": "stdout",
       "text": [
        "\n",
        "i = 3, j= 75, acctuarcy = 0.411800"
       ]
      },
      {
       "output_type": "stream",
       "stream": "stdout",
       "text": [
        "\n",
        "i = 3, j= 76, acctuarcy = 0.413000"
       ]
      },
      {
       "output_type": "stream",
       "stream": "stdout",
       "text": [
        "\n",
        "i = 3, j= 77, acctuarcy = 0.405600"
       ]
      },
      {
       "output_type": "stream",
       "stream": "stdout",
       "text": [
        "\n",
        "i = 3, j= 78, acctuarcy = 0.405400"
       ]
      },
      {
       "output_type": "stream",
       "stream": "stdout",
       "text": [
        "\n",
        "i = 3, j= 79, acctuarcy = 0.409800"
       ]
      },
      {
       "output_type": "stream",
       "stream": "stdout",
       "text": [
        "\n",
        "i = 3, j= 80, acctuarcy = 0.411800"
       ]
      },
      {
       "output_type": "stream",
       "stream": "stdout",
       "text": [
        "\n",
        "i = 3, j= 81, acctuarcy = 0.407000"
       ]
      },
      {
       "output_type": "stream",
       "stream": "stdout",
       "text": [
        "\n",
        "i = 3, j= 82, acctuarcy = 0.412200"
       ]
      },
      {
       "output_type": "stream",
       "stream": "stdout",
       "text": [
        "\n",
        "i = 3, j= 83, acctuarcy = 0.408000"
       ]
      },
      {
       "output_type": "stream",
       "stream": "stdout",
       "text": [
        "\n",
        "i = 3, j= 84, acctuarcy = 0.411600"
       ]
      },
      {
       "output_type": "stream",
       "stream": "stdout",
       "text": [
        "\n",
        "i = 3, j= 85, acctuarcy = 0.409600"
       ]
      },
      {
       "output_type": "stream",
       "stream": "stdout",
       "text": [
        "\n",
        "i = 3, j= 86, acctuarcy = 0.409600"
       ]
      },
      {
       "output_type": "stream",
       "stream": "stdout",
       "text": [
        "\n",
        "i = 3, j= 87, acctuarcy = 0.407400"
       ]
      },
      {
       "output_type": "stream",
       "stream": "stdout",
       "text": [
        "\n",
        "i = 3, j= 88, acctuarcy = 0.409600"
       ]
      },
      {
       "output_type": "stream",
       "stream": "stdout",
       "text": [
        "\n",
        "i = 3, j= 89, acctuarcy = 0.396600"
       ]
      },
      {
       "output_type": "stream",
       "stream": "stdout",
       "text": [
        "\n",
        "i = 3, j= 90, acctuarcy = 0.411200"
       ]
      },
      {
       "output_type": "stream",
       "stream": "stdout",
       "text": [
        "\n",
        "i = 3, j= 91, acctuarcy = 0.413200"
       ]
      },
      {
       "output_type": "stream",
       "stream": "stdout",
       "text": [
        "\n",
        "i = 3, j= 92, acctuarcy = 0.408800"
       ]
      },
      {
       "output_type": "stream",
       "stream": "stdout",
       "text": [
        "\n",
        "i = 3, j= 93, acctuarcy = 0.416000"
       ]
      },
      {
       "output_type": "stream",
       "stream": "stdout",
       "text": [
        "\n",
        "i = 3, j= 94, acctuarcy = 0.403400"
       ]
      },
      {
       "output_type": "stream",
       "stream": "stdout",
       "text": [
        "\n",
        "i = 3, j= 95, acctuarcy = 0.409800"
       ]
      },
      {
       "output_type": "stream",
       "stream": "stdout",
       "text": [
        "\n",
        "i = 3, j= 96, acctuarcy = 0.404400"
       ]
      },
      {
       "output_type": "stream",
       "stream": "stdout",
       "text": [
        "\n",
        "i = 3, j= 97, acctuarcy = 0.412600"
       ]
      },
      {
       "output_type": "stream",
       "stream": "stdout",
       "text": [
        "\n",
        "i = 3, j= 98, acctuarcy = 0.399600"
       ]
      },
      {
       "output_type": "stream",
       "stream": "stdout",
       "text": [
        "\n",
        "i = 3, j= 99, acctuarcy = 0.404400"
       ]
      },
      {
       "output_type": "stream",
       "stream": "stdout",
       "text": [
        "\n",
        "i = 3, j= 100, acctuarcy = 0.410000"
       ]
      },
      {
       "output_type": "stream",
       "stream": "stdout",
       "text": [
        "\n",
        "i = 3, j= 101, acctuarcy = 0.403600"
       ]
      },
      {
       "output_type": "stream",
       "stream": "stdout",
       "text": [
        "\n",
        "i = 3, j= 102, acctuarcy = 0.411400"
       ]
      },
      {
       "output_type": "stream",
       "stream": "stdout",
       "text": [
        "\n",
        "i = 3, j= 103, acctuarcy = 0.396800"
       ]
      },
      {
       "output_type": "stream",
       "stream": "stdout",
       "text": [
        "\n",
        "i = 3, j= 104, acctuarcy = 0.402200"
       ]
      },
      {
       "output_type": "stream",
       "stream": "stdout",
       "text": [
        "\n",
        "i = 3, j= 105, acctuarcy = 0.416000"
       ]
      },
      {
       "output_type": "stream",
       "stream": "stdout",
       "text": [
        "\n",
        "i = 3, j= 106, acctuarcy = 0.415200"
       ]
      },
      {
       "output_type": "stream",
       "stream": "stdout",
       "text": [
        "\n",
        "i = 3, j= 107, acctuarcy = 0.411600"
       ]
      },
      {
       "output_type": "stream",
       "stream": "stdout",
       "text": [
        "\n",
        "i = 3, j= 108, acctuarcy = 0.411200"
       ]
      },
      {
       "output_type": "stream",
       "stream": "stdout",
       "text": [
        "\n",
        "i = 3, j= 109, acctuarcy = 0.398000"
       ]
      },
      {
       "output_type": "stream",
       "stream": "stdout",
       "text": [
        "\n",
        "i = 3, j= 110, acctuarcy = 0.414000"
       ]
      },
      {
       "output_type": "stream",
       "stream": "stdout",
       "text": [
        "\n",
        "i = 3, j= 111, acctuarcy = 0.405600"
       ]
      },
      {
       "output_type": "stream",
       "stream": "stdout",
       "text": [
        "\n",
        "i = 3, j= 112, acctuarcy = 0.407800"
       ]
      },
      {
       "output_type": "stream",
       "stream": "stdout",
       "text": [
        "\n",
        "i = 3, j= 113, acctuarcy = 0.398400"
       ]
      },
      {
       "output_type": "stream",
       "stream": "stdout",
       "text": [
        "\n",
        "i = 3, j= 114, acctuarcy = 0.407800"
       ]
      },
      {
       "output_type": "stream",
       "stream": "stdout",
       "text": [
        "\n",
        "i = 3, j= 115, acctuarcy = 0.410600"
       ]
      },
      {
       "output_type": "stream",
       "stream": "stdout",
       "text": [
        "\n",
        "i = 3, j= 116, acctuarcy = 0.402000"
       ]
      },
      {
       "output_type": "stream",
       "stream": "stdout",
       "text": [
        "\n",
        "i = 3, j= 117, acctuarcy = 0.405400"
       ]
      },
      {
       "output_type": "stream",
       "stream": "stdout",
       "text": [
        "\n",
        "i = 3, j= 118, acctuarcy = 0.396000"
       ]
      },
      {
       "output_type": "stream",
       "stream": "stdout",
       "text": [
        "\n",
        "i = 3, j= 119, acctuarcy = 0.392800"
       ]
      },
      {
       "output_type": "stream",
       "stream": "stdout",
       "text": [
        "\n",
        "i = 3, j= 120, acctuarcy = 0.414800"
       ]
      },
      {
       "output_type": "stream",
       "stream": "stdout",
       "text": [
        "\n",
        "i = 3, j= 121, acctuarcy = 0.409600"
       ]
      },
      {
       "output_type": "stream",
       "stream": "stdout",
       "text": [
        "\n",
        "i = 3, j= 122, acctuarcy = 0.417000"
       ]
      },
      {
       "output_type": "stream",
       "stream": "stdout",
       "text": [
        "\n",
        "i = 3, j= 123, acctuarcy = 0.401400"
       ]
      },
      {
       "output_type": "stream",
       "stream": "stdout",
       "text": [
        "\n",
        "i = 3, j= 124, acctuarcy = 0.411200"
       ]
      },
      {
       "output_type": "stream",
       "stream": "stdout",
       "text": [
        "\n",
        "i = 3, j= 125, acctuarcy = 0.416600"
       ]
      },
      {
       "output_type": "stream",
       "stream": "stdout",
       "text": [
        "\n",
        "i = 3, j= 126, acctuarcy = 0.405200"
       ]
      },
      {
       "output_type": "stream",
       "stream": "stdout",
       "text": [
        "\n",
        "i = 3, j= 127, acctuarcy = 0.416200"
       ]
      },
      {
       "output_type": "stream",
       "stream": "stdout",
       "text": [
        "\n",
        "i = 3, j= 128, acctuarcy = 0.397600"
       ]
      },
      {
       "output_type": "stream",
       "stream": "stdout",
       "text": [
        "\n",
        "i = 3, j= 129, acctuarcy = 0.405200"
       ]
      },
      {
       "output_type": "stream",
       "stream": "stdout",
       "text": [
        "\n",
        "i = 3, j= 130, acctuarcy = 0.408200"
       ]
      },
      {
       "output_type": "stream",
       "stream": "stdout",
       "text": [
        "\n",
        "i = 3, j= 131, acctuarcy = 0.414800"
       ]
      },
      {
       "output_type": "stream",
       "stream": "stdout",
       "text": [
        "\n",
        "i = 3, j= 132, acctuarcy = 0.406000"
       ]
      },
      {
       "output_type": "stream",
       "stream": "stdout",
       "text": [
        "\n",
        "i = 3, j= 133, acctuarcy = 0.403200"
       ]
      },
      {
       "output_type": "stream",
       "stream": "stdout",
       "text": [
        "\n",
        "i = 3, j= 134, acctuarcy = 0.392600"
       ]
      },
      {
       "output_type": "stream",
       "stream": "stdout",
       "text": [
        "\n",
        "i = 3, j= 135, acctuarcy = 0.398600"
       ]
      },
      {
       "output_type": "stream",
       "stream": "stdout",
       "text": [
        "\n",
        "i = 3, j= 136, acctuarcy = 0.409000"
       ]
      },
      {
       "output_type": "stream",
       "stream": "stdout",
       "text": [
        "\n",
        "i = 3, j= 137, acctuarcy = 0.401400"
       ]
      },
      {
       "output_type": "stream",
       "stream": "stdout",
       "text": [
        "\n",
        "i = 3, j= 138, acctuarcy = 0.401400"
       ]
      },
      {
       "output_type": "stream",
       "stream": "stdout",
       "text": [
        "\n",
        "i = 3, j= 139, acctuarcy = 0.397600"
       ]
      },
      {
       "output_type": "stream",
       "stream": "stdout",
       "text": [
        "\n",
        "i = 3, j= 140, acctuarcy = 0.411600"
       ]
      },
      {
       "output_type": "stream",
       "stream": "stdout",
       "text": [
        "\n",
        "i = 3, j= 141, acctuarcy = 0.410400"
       ]
      },
      {
       "output_type": "stream",
       "stream": "stdout",
       "text": [
        "\n",
        "i = 3, j= 142, acctuarcy = 0.406600"
       ]
      },
      {
       "output_type": "stream",
       "stream": "stdout",
       "text": [
        "\n",
        "i = 3, j= 143, acctuarcy = 0.413600"
       ]
      },
      {
       "output_type": "stream",
       "stream": "stdout",
       "text": [
        "\n",
        "i = 3, j= 144, acctuarcy = 0.411600"
       ]
      },
      {
       "output_type": "stream",
       "stream": "stdout",
       "text": [
        "\n",
        "i = 3, j= 145, acctuarcy = 0.408800"
       ]
      },
      {
       "output_type": "stream",
       "stream": "stdout",
       "text": [
        "\n",
        "i = 3, j= 146, acctuarcy = 0.406800"
       ]
      },
      {
       "output_type": "stream",
       "stream": "stdout",
       "text": [
        "\n",
        "i = 3, j= 147, acctuarcy = 0.413400"
       ]
      },
      {
       "output_type": "stream",
       "stream": "stdout",
       "text": [
        "\n",
        "i = 3, j= 148, acctuarcy = 0.409600"
       ]
      },
      {
       "output_type": "stream",
       "stream": "stdout",
       "text": [
        "\n",
        "i = 3, j= 149, acctuarcy = 0.407000"
       ]
      },
      {
       "output_type": "stream",
       "stream": "stdout",
       "text": [
        "\n",
        "i = 3, j= 150, acctuarcy = 0.407200"
       ]
      },
      {
       "output_type": "stream",
       "stream": "stdout",
       "text": [
        "\n",
        "i = 3, j= 151, acctuarcy = 0.409600"
       ]
      },
      {
       "output_type": "stream",
       "stream": "stdout",
       "text": [
        "\n",
        "i = 3, j= 152, acctuarcy = 0.406200"
       ]
      },
      {
       "output_type": "stream",
       "stream": "stdout",
       "text": [
        "\n",
        "i = 3, j= 153, acctuarcy = 0.407400"
       ]
      },
      {
       "output_type": "stream",
       "stream": "stdout",
       "text": [
        "\n",
        "i = 3, j= 154, acctuarcy = 0.409600"
       ]
      },
      {
       "output_type": "stream",
       "stream": "stdout",
       "text": [
        "\n",
        "i = 3, j= 155, acctuarcy = 0.413000"
       ]
      },
      {
       "output_type": "stream",
       "stream": "stdout",
       "text": [
        "\n",
        "i = 3, j= 156, acctuarcy = 0.409600"
       ]
      },
      {
       "output_type": "stream",
       "stream": "stdout",
       "text": [
        "\n",
        "i = 3, j= 157, acctuarcy = 0.414800"
       ]
      },
      {
       "output_type": "stream",
       "stream": "stdout",
       "text": [
        "\n",
        "i = 3, j= 158, acctuarcy = 0.411200"
       ]
      },
      {
       "output_type": "stream",
       "stream": "stdout",
       "text": [
        "\n",
        "i = 3, j= 159, acctuarcy = 0.408200"
       ]
      },
      {
       "output_type": "stream",
       "stream": "stdout",
       "text": [
        "\n",
        "i = 3, j= 160, acctuarcy = 0.416400"
       ]
      },
      {
       "output_type": "stream",
       "stream": "stdout",
       "text": [
        "\n",
        "i = 3, j= 161, acctuarcy = 0.413200"
       ]
      },
      {
       "output_type": "stream",
       "stream": "stdout",
       "text": [
        "\n",
        "i = 3, j= 162, acctuarcy = 0.414600"
       ]
      },
      {
       "output_type": "stream",
       "stream": "stdout",
       "text": [
        "\n",
        "i = 3, j= 163, acctuarcy = 0.408800"
       ]
      },
      {
       "output_type": "stream",
       "stream": "stdout",
       "text": [
        "\n",
        "i = 3, j= 164, acctuarcy = 0.416000"
       ]
      },
      {
       "output_type": "stream",
       "stream": "stdout",
       "text": [
        "\n",
        "i = 3, j= 165, acctuarcy = 0.405600"
       ]
      },
      {
       "output_type": "stream",
       "stream": "stdout",
       "text": [
        "\n",
        "i = 3, j= 166, acctuarcy = 0.410600"
       ]
      },
      {
       "output_type": "stream",
       "stream": "stdout",
       "text": [
        "\n",
        "i = 3, j= 167, acctuarcy = 0.409800"
       ]
      },
      {
       "output_type": "stream",
       "stream": "stdout",
       "text": [
        "\n",
        "i = 3, j= 168, acctuarcy = 0.409400"
       ]
      },
      {
       "output_type": "stream",
       "stream": "stdout",
       "text": [
        "\n",
        "i = 3, j= 169, acctuarcy = 0.404400"
       ]
      },
      {
       "output_type": "stream",
       "stream": "stdout",
       "text": [
        "\n",
        "i = 3, j= 170, acctuarcy = 0.412600"
       ]
      },
      {
       "output_type": "stream",
       "stream": "stdout",
       "text": [
        "\n",
        "i = 3, j= 171, acctuarcy = 0.407800"
       ]
      },
      {
       "output_type": "stream",
       "stream": "stdout",
       "text": [
        "\n",
        "i = 3, j= 172, acctuarcy = 0.404400"
       ]
      },
      {
       "output_type": "stream",
       "stream": "stdout",
       "text": [
        "\n",
        "i = 3, j= 173, acctuarcy = 0.410000"
       ]
      },
      {
       "output_type": "stream",
       "stream": "stdout",
       "text": [
        "\n",
        "i = 3, j= 174, acctuarcy = 0.411400"
       ]
      },
      {
       "output_type": "stream",
       "stream": "stdout",
       "text": [
        "\n",
        "i = 3, j= 175, acctuarcy = 0.415800"
       ]
      },
      {
       "output_type": "stream",
       "stream": "stdout",
       "text": [
        "\n",
        "i = 3, j= 176, acctuarcy = 0.408600"
       ]
      },
      {
       "output_type": "stream",
       "stream": "stdout",
       "text": [
        "\n",
        "i = 3, j= 177, acctuarcy = 0.412800"
       ]
      },
      {
       "output_type": "stream",
       "stream": "stdout",
       "text": [
        "\n",
        "i = 3, j= 178, acctuarcy = 0.416000"
       ]
      },
      {
       "output_type": "stream",
       "stream": "stdout",
       "text": [
        "\n",
        "i = 3, j= 179, acctuarcy = 0.411600"
       ]
      },
      {
       "output_type": "stream",
       "stream": "stdout",
       "text": [
        "\n",
        "i = 3, j= 180, acctuarcy = 0.414800"
       ]
      },
      {
       "output_type": "stream",
       "stream": "stdout",
       "text": [
        "\n",
        "i = 3, j= 181, acctuarcy = 0.415200"
       ]
      },
      {
       "output_type": "stream",
       "stream": "stdout",
       "text": [
        "\n",
        "i = 3, j= 182, acctuarcy = 0.412600"
       ]
      },
      {
       "output_type": "stream",
       "stream": "stdout",
       "text": [
        "\n",
        "i = 3, j= 183, acctuarcy = 0.411600"
       ]
      },
      {
       "output_type": "stream",
       "stream": "stdout",
       "text": [
        "\n",
        "i = 3, j= 184, acctuarcy = 0.411200"
       ]
      },
      {
       "output_type": "stream",
       "stream": "stdout",
       "text": [
        "\n",
        "i = 3, j= 185, acctuarcy = 0.404000"
       ]
      },
      {
       "output_type": "stream",
       "stream": "stdout",
       "text": [
        "\n",
        "i = 3, j= 186, acctuarcy = 0.414600"
       ]
      },
      {
       "output_type": "stream",
       "stream": "stdout",
       "text": [
        "\n",
        "i = 3, j= 187, acctuarcy = 0.414000"
       ]
      },
      {
       "output_type": "stream",
       "stream": "stdout",
       "text": [
        "\n",
        "i = 3, j= 188, acctuarcy = 0.404600"
       ]
      },
      {
       "output_type": "stream",
       "stream": "stdout",
       "text": [
        "\n",
        "i = 3, j= 189, acctuarcy = 0.405600"
       ]
      },
      {
       "output_type": "stream",
       "stream": "stdout",
       "text": [
        "\n",
        "i = 3, j= 190, acctuarcy = 0.407800"
       ]
      },
      {
       "output_type": "stream",
       "stream": "stdout",
       "text": [
        "\n",
        "i = 3, j= 191, acctuarcy = 0.409600"
       ]
      },
      {
       "output_type": "stream",
       "stream": "stdout",
       "text": [
        "\n",
        "i = 3, j= 192, acctuarcy = 0.407800"
       ]
      },
      {
       "output_type": "stream",
       "stream": "stdout",
       "text": [
        "\n",
        "i = 3, j= 193, acctuarcy = 0.410600"
       ]
      },
      {
       "output_type": "stream",
       "stream": "stdout",
       "text": [
        "\n",
        "i = 3, j= 194, acctuarcy = 0.405400"
       ]
      },
      {
       "output_type": "stream",
       "stream": "stdout",
       "text": [
        "\n",
        "i = 3, j= 195, acctuarcy = 0.411200"
       ]
      },
      {
       "output_type": "stream",
       "stream": "stdout",
       "text": [
        "\n",
        "i = 3, j= 196, acctuarcy = 0.418600"
       ]
      },
      {
       "output_type": "stream",
       "stream": "stdout",
       "text": [
        "\n",
        "i = 3, j= 197, acctuarcy = 0.414800"
       ]
      },
      {
       "output_type": "stream",
       "stream": "stdout",
       "text": [
        "\n",
        "i = 3, j= 198, acctuarcy = 0.410800"
       ]
      },
      {
       "output_type": "stream",
       "stream": "stdout",
       "text": [
        "\n",
        "i = 3, j= 199, acctuarcy = 0.409600"
       ]
      },
      {
       "output_type": "stream",
       "stream": "stdout",
       "text": [
        "\n",
        "i = 3, j= 200, acctuarcy = 0.417000"
       ]
      },
      {
       "output_type": "stream",
       "stream": "stdout",
       "text": [
        "\n",
        "i = 3, j= 201, acctuarcy = 0.415000"
       ]
      },
      {
       "output_type": "stream",
       "stream": "stdout",
       "text": [
        "\n",
        "i = 3, j= 202, acctuarcy = 0.411200"
       ]
      },
      {
       "output_type": "stream",
       "stream": "stdout",
       "text": [
        "\n",
        "i = 3, j= 203, acctuarcy = 0.416600"
       ]
      },
      {
       "output_type": "stream",
       "stream": "stdout",
       "text": [
        "\n",
        "i = 3, j= 204, acctuarcy = 0.416200"
       ]
      },
      {
       "output_type": "stream",
       "stream": "stdout",
       "text": [
        "\n",
        "i = 3, j= 205, acctuarcy = 0.411000"
       ]
      },
      {
       "output_type": "stream",
       "stream": "stdout",
       "text": [
        "\n",
        "i = 3, j= 206, acctuarcy = 0.408200"
       ]
      },
      {
       "output_type": "stream",
       "stream": "stdout",
       "text": [
        "\n",
        "i = 3, j= 207, acctuarcy = 0.414800"
       ]
      },
      {
       "output_type": "stream",
       "stream": "stdout",
       "text": [
        "\n",
        "i = 3, j= 208, acctuarcy = 0.403200"
       ]
      },
      {
       "output_type": "stream",
       "stream": "stdout",
       "text": [
        "\n",
        "i = 3, j= 209, acctuarcy = 0.409000"
       ]
      },
      {
       "output_type": "stream",
       "stream": "stdout",
       "text": [
        "\n",
        "i = 4, j= 0, acctuarcy = 0.415800"
       ]
      },
      {
       "output_type": "stream",
       "stream": "stdout",
       "text": [
        "\n",
        "i = 4, j= 1, acctuarcy = 0.410600"
       ]
      },
      {
       "output_type": "stream",
       "stream": "stdout",
       "text": [
        "\n",
        "i = 4, j= 2, acctuarcy = 0.409400"
       ]
      },
      {
       "output_type": "stream",
       "stream": "stdout",
       "text": [
        "\n",
        "i = 4, j= 3, acctuarcy = 0.410600"
       ]
      },
      {
       "output_type": "stream",
       "stream": "stdout",
       "text": [
        "\n",
        "i = 4, j= 4, acctuarcy = 0.414000"
       ]
      },
      {
       "output_type": "stream",
       "stream": "stdout",
       "text": [
        "\n",
        "i = 4, j= 5, acctuarcy = 0.403800"
       ]
      },
      {
       "output_type": "stream",
       "stream": "stdout",
       "text": [
        "\n",
        "i = 4, j= 6, acctuarcy = 0.415000"
       ]
      },
      {
       "output_type": "stream",
       "stream": "stdout",
       "text": [
        "\n",
        "i = 4, j= 7, acctuarcy = 0.414600"
       ]
      },
      {
       "output_type": "stream",
       "stream": "stdout",
       "text": [
        "\n",
        "i = 4, j= 8, acctuarcy = 0.411800"
       ]
      },
      {
       "output_type": "stream",
       "stream": "stdout",
       "text": [
        "\n",
        "i = 4, j= 9, acctuarcy = 0.417400"
       ]
      },
      {
       "output_type": "stream",
       "stream": "stdout",
       "text": [
        "\n",
        "i = 4, j= 10, acctuarcy = 0.405400"
       ]
      },
      {
       "output_type": "stream",
       "stream": "stdout",
       "text": [
        "\n",
        "i = 4, j= 11, acctuarcy = 0.410200"
       ]
      },
      {
       "output_type": "stream",
       "stream": "stdout",
       "text": [
        "\n",
        "i = 4, j= 12, acctuarcy = 0.406400"
       ]
      },
      {
       "output_type": "stream",
       "stream": "stdout",
       "text": [
        "\n",
        "i = 4, j= 13, acctuarcy = 0.414600"
       ]
      },
      {
       "output_type": "stream",
       "stream": "stdout",
       "text": [
        "\n",
        "i = 4, j= 14, acctuarcy = 0.406600"
       ]
      },
      {
       "output_type": "stream",
       "stream": "stdout",
       "text": [
        "\n",
        "i = 4, j= 15, acctuarcy = 0.411200"
       ]
      },
      {
       "output_type": "stream",
       "stream": "stdout",
       "text": [
        "\n",
        "i = 4, j= 16, acctuarcy = 0.415000"
       ]
      },
      {
       "output_type": "stream",
       "stream": "stdout",
       "text": [
        "\n",
        "i = 4, j= 17, acctuarcy = 0.410200"
       ]
      },
      {
       "output_type": "stream",
       "stream": "stdout",
       "text": [
        "\n",
        "i = 4, j= 18, acctuarcy = 0.412600"
       ]
      },
      {
       "output_type": "stream",
       "stream": "stdout",
       "text": [
        "\n",
        "i = 4, j= 19, acctuarcy = 0.403000"
       ]
      },
      {
       "output_type": "stream",
       "stream": "stdout",
       "text": [
        "\n",
        "i = 4, j= 20, acctuarcy = 0.407400"
       ]
      },
      {
       "output_type": "stream",
       "stream": "stdout",
       "text": [
        "\n",
        "i = 4, j= 21, acctuarcy = 0.416000"
       ]
      },
      {
       "output_type": "stream",
       "stream": "stdout",
       "text": [
        "\n",
        "i = 4, j= 22, acctuarcy = 0.417000"
       ]
      },
      {
       "output_type": "stream",
       "stream": "stdout",
       "text": [
        "\n",
        "i = 4, j= 23, acctuarcy = 0.412400"
       ]
      },
      {
       "output_type": "stream",
       "stream": "stdout",
       "text": [
        "\n",
        "i = 4, j= 24, acctuarcy = 0.415400"
       ]
      },
      {
       "output_type": "stream",
       "stream": "stdout",
       "text": [
        "\n",
        "i = 4, j= 25, acctuarcy = 0.405000"
       ]
      },
      {
       "output_type": "stream",
       "stream": "stdout",
       "text": [
        "\n",
        "i = 4, j= 26, acctuarcy = 0.413600"
       ]
      },
      {
       "output_type": "stream",
       "stream": "stdout",
       "text": [
        "\n",
        "i = 4, j= 27, acctuarcy = 0.411000"
       ]
      },
      {
       "output_type": "stream",
       "stream": "stdout",
       "text": [
        "\n",
        "i = 4, j= 28, acctuarcy = 0.413800"
       ]
      },
      {
       "output_type": "stream",
       "stream": "stdout",
       "text": [
        "\n",
        "i = 4, j= 29, acctuarcy = 0.404000"
       ]
      },
      {
       "output_type": "stream",
       "stream": "stdout",
       "text": [
        "\n",
        "i = 4, j= 30, acctuarcy = 0.410800"
       ]
      },
      {
       "output_type": "stream",
       "stream": "stdout",
       "text": [
        "\n",
        "i = 4, j= 31, acctuarcy = 0.418800"
       ]
      },
      {
       "output_type": "stream",
       "stream": "stdout",
       "text": [
        "\n",
        "i = 4, j= 32, acctuarcy = 0.408000"
       ]
      },
      {
       "output_type": "stream",
       "stream": "stdout",
       "text": [
        "\n",
        "i = 4, j= 33, acctuarcy = 0.411400"
       ]
      },
      {
       "output_type": "stream",
       "stream": "stdout",
       "text": [
        "\n",
        "i = 4, j= 34, acctuarcy = 0.399400"
       ]
      },
      {
       "output_type": "stream",
       "stream": "stdout",
       "text": [
        "\n",
        "i = 4, j= 35, acctuarcy = 0.404600"
       ]
      },
      {
       "output_type": "stream",
       "stream": "stdout",
       "text": [
        "\n",
        "i = 4, j= 36, acctuarcy = 0.414800"
       ]
      },
      {
       "output_type": "stream",
       "stream": "stdout",
       "text": [
        "\n",
        "i = 4, j= 37, acctuarcy = 0.412400"
       ]
      },
      {
       "output_type": "stream",
       "stream": "stdout",
       "text": [
        "\n",
        "i = 4, j= 38, acctuarcy = 0.417200"
       ]
      },
      {
       "output_type": "stream",
       "stream": "stdout",
       "text": [
        "\n",
        "i = 4, j= 39, acctuarcy = 0.410200"
       ]
      },
      {
       "output_type": "stream",
       "stream": "stdout",
       "text": [
        "\n",
        "i = 4, j= 40, acctuarcy = 0.410800"
       ]
      },
      {
       "output_type": "stream",
       "stream": "stdout",
       "text": [
        "\n",
        "i = 4, j= 41, acctuarcy = 0.418200"
       ]
      },
      {
       "output_type": "stream",
       "stream": "stdout",
       "text": [
        "\n",
        "i = 4, j= 42, acctuarcy = 0.412000"
       ]
      },
      {
       "output_type": "stream",
       "stream": "stdout",
       "text": [
        "\n",
        "i = 4, j= 43, acctuarcy = 0.413000"
       ]
      },
      {
       "output_type": "stream",
       "stream": "stdout",
       "text": [
        "\n",
        "i = 4, j= 44, acctuarcy = 0.406200"
       ]
      },
      {
       "output_type": "stream",
       "stream": "stdout",
       "text": [
        "\n",
        "i = 4, j= 45, acctuarcy = 0.411200"
       ]
      },
      {
       "output_type": "stream",
       "stream": "stdout",
       "text": [
        "\n",
        "i = 4, j= 46, acctuarcy = 0.411800"
       ]
      },
      {
       "output_type": "stream",
       "stream": "stdout",
       "text": [
        "\n",
        "i = 4, j= 47, acctuarcy = 0.419200"
       ]
      },
      {
       "output_type": "stream",
       "stream": "stdout",
       "text": [
        "\n",
        "i = 4, j= 48, acctuarcy = 0.410200"
       ]
      },
      {
       "output_type": "stream",
       "stream": "stdout",
       "text": [
        "\n",
        "i = 4, j= 49, acctuarcy = 0.411800"
       ]
      },
      {
       "output_type": "stream",
       "stream": "stdout",
       "text": [
        "\n",
        "i = 4, j= 50, acctuarcy = 0.405800"
       ]
      },
      {
       "output_type": "stream",
       "stream": "stdout",
       "text": [
        "\n",
        "i = 4, j= 51, acctuarcy = 0.407400"
       ]
      },
      {
       "output_type": "stream",
       "stream": "stdout",
       "text": [
        "\n",
        "i = 4, j= 52, acctuarcy = 0.413200"
       ]
      },
      {
       "output_type": "stream",
       "stream": "stdout",
       "text": [
        "\n",
        "i = 4, j= 53, acctuarcy = 0.406800"
       ]
      },
      {
       "output_type": "stream",
       "stream": "stdout",
       "text": [
        "\n",
        "i = 4, j= 54, acctuarcy = 0.412000"
       ]
      },
      {
       "output_type": "stream",
       "stream": "stdout",
       "text": [
        "\n",
        "i = 4, j= 55, acctuarcy = 0.406000"
       ]
      },
      {
       "output_type": "stream",
       "stream": "stdout",
       "text": [
        "\n",
        "i = 4, j= 56, acctuarcy = 0.414600"
       ]
      },
      {
       "output_type": "stream",
       "stream": "stdout",
       "text": [
        "\n",
        "i = 4, j= 57, acctuarcy = 0.416000"
       ]
      },
      {
       "output_type": "stream",
       "stream": "stdout",
       "text": [
        "\n",
        "i = 4, j= 58, acctuarcy = 0.412800"
       ]
      },
      {
       "output_type": "stream",
       "stream": "stdout",
       "text": [
        "\n",
        "i = 4, j= 59, acctuarcy = 0.418400"
       ]
      },
      {
       "output_type": "stream",
       "stream": "stdout",
       "text": [
        "\n",
        "i = 4, j= 60, acctuarcy = 0.415800"
       ]
      },
      {
       "output_type": "stream",
       "stream": "stdout",
       "text": [
        "\n",
        "i = 4, j= 61, acctuarcy = 0.411400"
       ]
      },
      {
       "output_type": "stream",
       "stream": "stdout",
       "text": [
        "\n",
        "i = 4, j= 62, acctuarcy = 0.408800"
       ]
      },
      {
       "output_type": "stream",
       "stream": "stdout",
       "text": [
        "\n",
        "i = 4, j= 63, acctuarcy = 0.411800"
       ]
      },
      {
       "output_type": "stream",
       "stream": "stdout",
       "text": [
        "\n",
        "i = 4, j= 64, acctuarcy = 0.410600"
       ]
      },
      {
       "output_type": "stream",
       "stream": "stdout",
       "text": [
        "\n",
        "i = 4, j= 65, acctuarcy = 0.408000"
       ]
      },
      {
       "output_type": "stream",
       "stream": "stdout",
       "text": [
        "\n",
        "i = 4, j= 66, acctuarcy = 0.414800"
       ]
      },
      {
       "output_type": "stream",
       "stream": "stdout",
       "text": [
        "\n",
        "i = 4, j= 67, acctuarcy = 0.409400"
       ]
      },
      {
       "output_type": "stream",
       "stream": "stdout",
       "text": [
        "\n",
        "i = 4, j= 68, acctuarcy = 0.412000"
       ]
      },
      {
       "output_type": "stream",
       "stream": "stdout",
       "text": [
        "\n",
        "i = 4, j= 69, acctuarcy = 0.410600"
       ]
      },
      {
       "output_type": "stream",
       "stream": "stdout",
       "text": [
        "\n",
        "i = 4, j= 70, acctuarcy = 0.414000"
       ]
      },
      {
       "output_type": "stream",
       "stream": "stdout",
       "text": [
        "\n",
        "i = 4, j= 71, acctuarcy = 0.413200"
       ]
      },
      {
       "output_type": "stream",
       "stream": "stdout",
       "text": [
        "\n",
        "i = 4, j= 72, acctuarcy = 0.409600"
       ]
      },
      {
       "output_type": "stream",
       "stream": "stdout",
       "text": [
        "\n",
        "i = 4, j= 73, acctuarcy = 0.415400"
       ]
      },
      {
       "output_type": "stream",
       "stream": "stdout",
       "text": [
        "\n",
        "i = 4, j= 74, acctuarcy = 0.415000"
       ]
      },
      {
       "output_type": "stream",
       "stream": "stdout",
       "text": [
        "\n",
        "i = 4, j= 75, acctuarcy = 0.413600"
       ]
      },
      {
       "output_type": "stream",
       "stream": "stdout",
       "text": [
        "\n",
        "i = 4, j= 76, acctuarcy = 0.417800"
       ]
      },
      {
       "output_type": "stream",
       "stream": "stdout",
       "text": [
        "\n",
        "i = 4, j= 77, acctuarcy = 0.414600"
       ]
      },
      {
       "output_type": "stream",
       "stream": "stdout",
       "text": [
        "\n",
        "i = 4, j= 78, acctuarcy = 0.416000"
       ]
      },
      {
       "output_type": "stream",
       "stream": "stdout",
       "text": [
        "\n",
        "i = 4, j= 79, acctuarcy = 0.411800"
       ]
      },
      {
       "output_type": "stream",
       "stream": "stdout",
       "text": [
        "\n",
        "i = 4, j= 80, acctuarcy = 0.417400"
       ]
      },
      {
       "output_type": "stream",
       "stream": "stdout",
       "text": [
        "\n",
        "i = 4, j= 81, acctuarcy = 0.410200"
       ]
      },
      {
       "output_type": "stream",
       "stream": "stdout",
       "text": [
        "\n",
        "i = 4, j= 82, acctuarcy = 0.415800"
       ]
      },
      {
       "output_type": "stream",
       "stream": "stdout",
       "text": [
        "\n",
        "i = 4, j= 83, acctuarcy = 0.410200"
       ]
      },
      {
       "output_type": "stream",
       "stream": "stdout",
       "text": [
        "\n",
        "i = 4, j= 84, acctuarcy = 0.410200"
       ]
      },
      {
       "output_type": "stream",
       "stream": "stdout",
       "text": [
        "\n",
        "i = 4, j= 85, acctuarcy = 0.406400"
       ]
      },
      {
       "output_type": "stream",
       "stream": "stdout",
       "text": [
        "\n",
        "i = 4, j= 86, acctuarcy = 0.414600"
       ]
      },
      {
       "output_type": "stream",
       "stream": "stdout",
       "text": [
        "\n",
        "i = 4, j= 87, acctuarcy = 0.413600"
       ]
      },
      {
       "output_type": "stream",
       "stream": "stdout",
       "text": [
        "\n",
        "i = 4, j= 88, acctuarcy = 0.411200"
       ]
      },
      {
       "output_type": "stream",
       "stream": "stdout",
       "text": [
        "\n",
        "i = 4, j= 89, acctuarcy = 0.415000"
       ]
      },
      {
       "output_type": "stream",
       "stream": "stdout",
       "text": [
        "\n",
        "i = 4, j= 90, acctuarcy = 0.412600"
       ]
      },
      {
       "output_type": "stream",
       "stream": "stdout",
       "text": [
        "\n",
        "i = 4, j= 91, acctuarcy = 0.418200"
       ]
      },
      {
       "output_type": "stream",
       "stream": "stdout",
       "text": [
        "\n",
        "i = 4, j= 92, acctuarcy = 0.414800"
       ]
      },
      {
       "output_type": "stream",
       "stream": "stdout",
       "text": [
        "\n",
        "i = 4, j= 93, acctuarcy = 0.416200"
       ]
      },
      {
       "output_type": "stream",
       "stream": "stdout",
       "text": [
        "\n",
        "i = 4, j= 94, acctuarcy = 0.416000"
       ]
      },
      {
       "output_type": "stream",
       "stream": "stdout",
       "text": [
        "\n",
        "i = 4, j= 95, acctuarcy = 0.414400"
       ]
      },
      {
       "output_type": "stream",
       "stream": "stdout",
       "text": [
        "\n",
        "i = 4, j= 96, acctuarcy = 0.418200"
       ]
      },
      {
       "output_type": "stream",
       "stream": "stdout",
       "text": [
        "\n",
        "i = 4, j= 97, acctuarcy = 0.417000"
       ]
      },
      {
       "output_type": "stream",
       "stream": "stdout",
       "text": [
        "\n",
        "i = 4, j= 98, acctuarcy = 0.413600"
       ]
      },
      {
       "output_type": "stream",
       "stream": "stdout",
       "text": [
        "\n",
        "i = 4, j= 99, acctuarcy = 0.412400"
       ]
      },
      {
       "output_type": "stream",
       "stream": "stdout",
       "text": [
        "\n",
        "i = 4, j= 100, acctuarcy = 0.415400"
       ]
      },
      {
       "output_type": "stream",
       "stream": "stdout",
       "text": [
        "\n",
        "i = 4, j= 101, acctuarcy = 0.410000"
       ]
      },
      {
       "output_type": "stream",
       "stream": "stdout",
       "text": [
        "\n",
        "i = 4, j= 102, acctuarcy = 0.414000"
       ]
      },
      {
       "output_type": "stream",
       "stream": "stdout",
       "text": [
        "\n",
        "i = 4, j= 103, acctuarcy = 0.413600"
       ]
      },
      {
       "output_type": "stream",
       "stream": "stdout",
       "text": [
        "\n",
        "i = 4, j= 104, acctuarcy = 0.408400"
       ]
      },
      {
       "output_type": "stream",
       "stream": "stdout",
       "text": [
        "\n",
        "i = 4, j= 105, acctuarcy = 0.411000"
       ]
      },
      {
       "output_type": "stream",
       "stream": "stdout",
       "text": [
        "\n",
        "i = 4, j= 106, acctuarcy = 0.413800"
       ]
      },
      {
       "output_type": "stream",
       "stream": "stdout",
       "text": [
        "\n",
        "i = 4, j= 107, acctuarcy = 0.413400"
       ]
      },
      {
       "output_type": "stream",
       "stream": "stdout",
       "text": [
        "\n",
        "i = 4, j= 108, acctuarcy = 0.410800"
       ]
      },
      {
       "output_type": "stream",
       "stream": "stdout",
       "text": [
        "\n",
        "i = 4, j= 109, acctuarcy = 0.418800"
       ]
      },
      {
       "output_type": "stream",
       "stream": "stdout",
       "text": [
        "\n",
        "i = 4, j= 110, acctuarcy = 0.411400"
       ]
      },
      {
       "output_type": "stream",
       "stream": "stdout",
       "text": [
        "\n",
        "i = 4, j= 111, acctuarcy = 0.415600"
       ]
      },
      {
       "output_type": "stream",
       "stream": "stdout",
       "text": [
        "\n",
        "i = 4, j= 112, acctuarcy = 0.419800"
       ]
      },
      {
       "output_type": "stream",
       "stream": "stdout",
       "text": [
        "\n",
        "i = 4, j= 113, acctuarcy = 0.414800"
       ]
      },
      {
       "output_type": "stream",
       "stream": "stdout",
       "text": [
        "\n",
        "i = 4, j= 114, acctuarcy = 0.413200"
       ]
      },
      {
       "output_type": "stream",
       "stream": "stdout",
       "text": [
        "\n",
        "i = 4, j= 115, acctuarcy = 0.412400"
       ]
      },
      {
       "output_type": "stream",
       "stream": "stdout",
       "text": [
        "\n",
        "i = 4, j= 116, acctuarcy = 0.417200"
       ]
      },
      {
       "output_type": "stream",
       "stream": "stdout",
       "text": [
        "\n",
        "i = 4, j= 117, acctuarcy = 0.417600"
       ]
      },
      {
       "output_type": "stream",
       "stream": "stdout",
       "text": [
        "\n",
        "i = 4, j= 118, acctuarcy = 0.410800"
       ]
      },
      {
       "output_type": "stream",
       "stream": "stdout",
       "text": [
        "\n",
        "i = 4, j= 119, acctuarcy = 0.418200"
       ]
      },
      {
       "output_type": "stream",
       "stream": "stdout",
       "text": [
        "\n",
        "i = 4, j= 120, acctuarcy = 0.413000"
       ]
      },
      {
       "output_type": "stream",
       "stream": "stdout",
       "text": [
        "\n",
        "i = 4, j= 121, acctuarcy = 0.411400"
       ]
      },
      {
       "output_type": "stream",
       "stream": "stdout",
       "text": [
        "\n",
        "i = 4, j= 122, acctuarcy = 0.411800"
       ]
      },
      {
       "output_type": "stream",
       "stream": "stdout",
       "text": [
        "\n",
        "i = 4, j= 123, acctuarcy = 0.419200"
       ]
      },
      {
       "output_type": "stream",
       "stream": "stdout",
       "text": [
        "\n",
        "i = 4, j= 124, acctuarcy = 0.411800"
       ]
      },
      {
       "output_type": "stream",
       "stream": "stdout",
       "text": [
        "\n",
        "i = 4, j= 125, acctuarcy = 0.413200"
       ]
      },
      {
       "output_type": "stream",
       "stream": "stdout",
       "text": [
        "\n",
        "i = 4, j= 126, acctuarcy = 0.416200"
       ]
      },
      {
       "output_type": "stream",
       "stream": "stdout",
       "text": [
        "\n",
        "i = 4, j= 127, acctuarcy = 0.418000"
       ]
      },
      {
       "output_type": "stream",
       "stream": "stdout",
       "text": [
        "\n",
        "i = 4, j= 128, acctuarcy = 0.416800"
       ]
      },
      {
       "output_type": "stream",
       "stream": "stdout",
       "text": [
        "\n",
        "i = 4, j= 129, acctuarcy = 0.418800"
       ]
      },
      {
       "output_type": "stream",
       "stream": "stdout",
       "text": [
        "\n",
        "i = 4, j= 130, acctuarcy = 0.407800"
       ]
      },
      {
       "output_type": "stream",
       "stream": "stdout",
       "text": [
        "\n",
        "i = 4, j= 131, acctuarcy = 0.411600"
       ]
      },
      {
       "output_type": "stream",
       "stream": "stdout",
       "text": [
        "\n",
        "i = 4, j= 132, acctuarcy = 0.410000"
       ]
      },
      {
       "output_type": "stream",
       "stream": "stdout",
       "text": [
        "\n",
        "i = 4, j= 133, acctuarcy = 0.415800"
       ]
      },
      {
       "output_type": "stream",
       "stream": "stdout",
       "text": [
        "\n",
        "i = 4, j= 134, acctuarcy = 0.407600"
       ]
      },
      {
       "output_type": "stream",
       "stream": "stdout",
       "text": [
        "\n",
        "i = 4, j= 135, acctuarcy = 0.410400"
       ]
      },
      {
       "output_type": "stream",
       "stream": "stdout",
       "text": [
        "\n",
        "i = 4, j= 136, acctuarcy = 0.416200"
       ]
      },
      {
       "output_type": "stream",
       "stream": "stdout",
       "text": [
        "\n",
        "i = 4, j= 137, acctuarcy = 0.408000"
       ]
      },
      {
       "output_type": "stream",
       "stream": "stdout",
       "text": [
        "\n",
        "i = 4, j= 138, acctuarcy = 0.411800"
       ]
      },
      {
       "output_type": "stream",
       "stream": "stdout",
       "text": [
        "\n",
        "i = 4, j= 139, acctuarcy = 0.406000"
       ]
      },
      {
       "output_type": "stream",
       "stream": "stdout",
       "text": [
        "\n",
        "i = 4, j= 140, acctuarcy = 0.405000"
       ]
      },
      {
       "output_type": "stream",
       "stream": "stdout",
       "text": [
        "\n",
        "i = 4, j= 141, acctuarcy = 0.420600"
       ]
      },
      {
       "output_type": "stream",
       "stream": "stdout",
       "text": [
        "\n",
        "i = 4, j= 142, acctuarcy = 0.415000"
       ]
      },
      {
       "output_type": "stream",
       "stream": "stdout",
       "text": [
        "\n",
        "i = 4, j= 143, acctuarcy = 0.419400"
       ]
      },
      {
       "output_type": "stream",
       "stream": "stdout",
       "text": [
        "\n",
        "i = 4, j= 144, acctuarcy = 0.409000"
       ]
      },
      {
       "output_type": "stream",
       "stream": "stdout",
       "text": [
        "\n",
        "i = 4, j= 145, acctuarcy = 0.413600"
       ]
      },
      {
       "output_type": "stream",
       "stream": "stdout",
       "text": [
        "\n",
        "i = 4, j= 146, acctuarcy = 0.422600"
       ]
      },
      {
       "output_type": "stream",
       "stream": "stdout",
       "text": [
        "\n",
        "i = 4, j= 147, acctuarcy = 0.414600"
       ]
      },
      {
       "output_type": "stream",
       "stream": "stdout",
       "text": [
        "\n",
        "i = 4, j= 148, acctuarcy = 0.418400"
       ]
      },
      {
       "output_type": "stream",
       "stream": "stdout",
       "text": [
        "\n",
        "i = 4, j= 149, acctuarcy = 0.409400"
       ]
      },
      {
       "output_type": "stream",
       "stream": "stdout",
       "text": [
        "\n",
        "i = 4, j= 150, acctuarcy = 0.410000"
       ]
      },
      {
       "output_type": "stream",
       "stream": "stdout",
       "text": [
        "\n",
        "i = 4, j= 151, acctuarcy = 0.413000"
       ]
      },
      {
       "output_type": "stream",
       "stream": "stdout",
       "text": [
        "\n",
        "i = 4, j= 152, acctuarcy = 0.416200"
       ]
      },
      {
       "output_type": "stream",
       "stream": "stdout",
       "text": [
        "\n",
        "i = 4, j= 153, acctuarcy = 0.409400"
       ]
      },
      {
       "output_type": "stream",
       "stream": "stdout",
       "text": [
        "\n",
        "i = 4, j= 154, acctuarcy = 0.413200"
       ]
      },
      {
       "output_type": "stream",
       "stream": "stdout",
       "text": [
        "\n",
        "i = 4, j= 155, acctuarcy = 0.405600"
       ]
      },
      {
       "output_type": "stream",
       "stream": "stdout",
       "text": [
        "\n",
        "i = 4, j= 156, acctuarcy = 0.409000"
       ]
      },
      {
       "output_type": "stream",
       "stream": "stdout",
       "text": [
        "\n",
        "i = 4, j= 157, acctuarcy = 0.412600"
       ]
      },
      {
       "output_type": "stream",
       "stream": "stdout",
       "text": [
        "\n",
        "i = 4, j= 158, acctuarcy = 0.406600"
       ]
      },
      {
       "output_type": "stream",
       "stream": "stdout",
       "text": [
        "\n",
        "i = 4, j= 159, acctuarcy = 0.410800"
       ]
      },
      {
       "output_type": "stream",
       "stream": "stdout",
       "text": [
        "\n",
        "i = 4, j= 160, acctuarcy = 0.407600"
       ]
      },
      {
       "output_type": "stream",
       "stream": "stdout",
       "text": [
        "\n",
        "i = 4, j= 161, acctuarcy = 0.420400"
       ]
      },
      {
       "output_type": "stream",
       "stream": "stdout",
       "text": [
        "\n",
        "i = 4, j= 162, acctuarcy = 0.413000"
       ]
      },
      {
       "output_type": "stream",
       "stream": "stdout",
       "text": [
        "\n",
        "i = 4, j= 163, acctuarcy = 0.418200"
       ]
      },
      {
       "output_type": "stream",
       "stream": "stdout",
       "text": [
        "\n",
        "i = 4, j= 164, acctuarcy = 0.411200"
       ]
      },
      {
       "output_type": "stream",
       "stream": "stdout",
       "text": [
        "\n",
        "i = 4, j= 165, acctuarcy = 0.418400"
       ]
      },
      {
       "output_type": "stream",
       "stream": "stdout",
       "text": [
        "\n",
        "i = 4, j= 166, acctuarcy = 0.420600"
       ]
      },
      {
       "output_type": "stream",
       "stream": "stdout",
       "text": [
        "\n",
        "i = 4, j= 167, acctuarcy = 0.411000"
       ]
      },
      {
       "output_type": "stream",
       "stream": "stdout",
       "text": [
        "\n",
        "i = 4, j= 168, acctuarcy = 0.413600"
       ]
      },
      {
       "output_type": "stream",
       "stream": "stdout",
       "text": [
        "\n",
        "i = 4, j= 169, acctuarcy = 0.406600"
       ]
      },
      {
       "output_type": "stream",
       "stream": "stdout",
       "text": [
        "\n",
        "i = 4, j= 170, acctuarcy = 0.407400"
       ]
      },
      {
       "output_type": "stream",
       "stream": "stdout",
       "text": [
        "\n",
        "i = 4, j= 171, acctuarcy = 0.411400"
       ]
      },
      {
       "output_type": "stream",
       "stream": "stdout",
       "text": [
        "\n",
        "i = 4, j= 172, acctuarcy = 0.417800"
       ]
      },
      {
       "output_type": "stream",
       "stream": "stdout",
       "text": [
        "\n",
        "i = 4, j= 173, acctuarcy = 0.411800"
       ]
      },
      {
       "output_type": "stream",
       "stream": "stdout",
       "text": [
        "\n",
        "i = 4, j= 174, acctuarcy = 0.412000"
       ]
      },
      {
       "output_type": "stream",
       "stream": "stdout",
       "text": [
        "\n",
        "i = 4, j= 175, acctuarcy = 0.403600"
       ]
      },
      {
       "output_type": "stream",
       "stream": "stdout",
       "text": [
        "\n",
        "i = 4, j= 176, acctuarcy = 0.408200"
       ]
      },
      {
       "output_type": "stream",
       "stream": "stdout",
       "text": [
        "\n",
        "i = 4, j= 177, acctuarcy = 0.413000"
       ]
      },
      {
       "output_type": "stream",
       "stream": "stdout",
       "text": [
        "\n",
        "i = 4, j= 178, acctuarcy = 0.405600"
       ]
      },
      {
       "output_type": "stream",
       "stream": "stdout",
       "text": [
        "\n",
        "i = 4, j= 179, acctuarcy = 0.407400"
       ]
      },
      {
       "output_type": "stream",
       "stream": "stdout",
       "text": [
        "\n",
        "i = 4, j= 180, acctuarcy = 0.404200"
       ]
      },
      {
       "output_type": "stream",
       "stream": "stdout",
       "text": [
        "\n",
        "i = 4, j= 181, acctuarcy = 0.414200"
       ]
      },
      {
       "output_type": "stream",
       "stream": "stdout",
       "text": [
        "\n",
        "i = 4, j= 182, acctuarcy = 0.422200"
       ]
      },
      {
       "output_type": "stream",
       "stream": "stdout",
       "text": [
        "\n",
        "i = 4, j= 183, acctuarcy = 0.415400"
       ]
      },
      {
       "output_type": "stream",
       "stream": "stdout",
       "text": [
        "\n",
        "i = 4, j= 184, acctuarcy = 0.417200"
       ]
      },
      {
       "output_type": "stream",
       "stream": "stdout",
       "text": [
        "\n",
        "i = 4, j= 185, acctuarcy = 0.409000"
       ]
      },
      {
       "output_type": "stream",
       "stream": "stdout",
       "text": [
        "\n",
        "i = 4, j= 186, acctuarcy = 0.412800"
       ]
      },
      {
       "output_type": "stream",
       "stream": "stdout",
       "text": [
        "\n",
        "i = 4, j= 187, acctuarcy = 0.418400"
       ]
      },
      {
       "output_type": "stream",
       "stream": "stdout",
       "text": [
        "\n",
        "i = 4, j= 188, acctuarcy = 0.410600"
       ]
      },
      {
       "output_type": "stream",
       "stream": "stdout",
       "text": [
        "\n",
        "i = 4, j= 189, acctuarcy = 0.414800"
       ]
      },
      {
       "output_type": "stream",
       "stream": "stdout",
       "text": [
        "\n",
        "i = 4, j= 190, acctuarcy = 0.412400"
       ]
      },
      {
       "output_type": "stream",
       "stream": "stdout",
       "text": [
        "\n",
        "i = 4, j= 191, acctuarcy = 0.413400"
       ]
      },
      {
       "output_type": "stream",
       "stream": "stdout",
       "text": [
        "\n",
        "i = 4, j= 192, acctuarcy = 0.409000"
       ]
      },
      {
       "output_type": "stream",
       "stream": "stdout",
       "text": [
        "\n",
        "i = 4, j= 193, acctuarcy = 0.413000"
       ]
      },
      {
       "output_type": "stream",
       "stream": "stdout",
       "text": [
        "\n",
        "i = 4, j= 194, acctuarcy = 0.404000"
       ]
      },
      {
       "output_type": "stream",
       "stream": "stdout",
       "text": [
        "\n",
        "i = 4, j= 195, acctuarcy = 0.409800"
       ]
      },
      {
       "output_type": "stream",
       "stream": "stdout",
       "text": [
        "\n",
        "i = 4, j= 196, acctuarcy = 0.417000"
       ]
      },
      {
       "output_type": "stream",
       "stream": "stdout",
       "text": [
        "\n",
        "i = 4, j= 197, acctuarcy = 0.413800"
       ]
      },
      {
       "output_type": "stream",
       "stream": "stdout",
       "text": [
        "\n",
        "i = 4, j= 198, acctuarcy = 0.415800"
       ]
      },
      {
       "output_type": "stream",
       "stream": "stdout",
       "text": [
        "\n",
        "i = 4, j= 199, acctuarcy = 0.416200"
       ]
      },
      {
       "output_type": "stream",
       "stream": "stdout",
       "text": [
        "\n",
        "i = 4, j= 200, acctuarcy = 0.413400"
       ]
      },
      {
       "output_type": "stream",
       "stream": "stdout",
       "text": [
        "\n",
        "i = 4, j= 201, acctuarcy = 0.417200"
       ]
      },
      {
       "output_type": "stream",
       "stream": "stdout",
       "text": [
        "\n",
        "i = 4, j= 202, acctuarcy = 0.418000"
       ]
      },
      {
       "output_type": "stream",
       "stream": "stdout",
       "text": [
        "\n",
        "i = 4, j= 203, acctuarcy = 0.412200"
       ]
      },
      {
       "output_type": "stream",
       "stream": "stdout",
       "text": [
        "\n",
        "i = 4, j= 204, acctuarcy = 0.416800"
       ]
      },
      {
       "output_type": "stream",
       "stream": "stdout",
       "text": [
        "\n",
        "i = 4, j= 205, acctuarcy = 0.418800"
       ]
      },
      {
       "output_type": "stream",
       "stream": "stdout",
       "text": [
        "\n",
        "i = 4, j= 206, acctuarcy = 0.410400"
       ]
      },
      {
       "output_type": "stream",
       "stream": "stdout",
       "text": [
        "\n",
        "i = 4, j= 207, acctuarcy = 0.417000"
       ]
      },
      {
       "output_type": "stream",
       "stream": "stdout",
       "text": [
        "\n",
        "i = 4, j= 208, acctuarcy = 0.411600"
       ]
      },
      {
       "output_type": "stream",
       "stream": "stdout",
       "text": [
        "\n",
        "i = 4, j= 209, acctuarcy = 0.411800"
       ]
      },
      {
       "output_type": "stream",
       "stream": "stdout",
       "text": [
        "\n",
        "i = 4, j= 210, acctuarcy = 0.410000"
       ]
      },
      {
       "output_type": "stream",
       "stream": "stdout",
       "text": [
        "\n",
        "i = 4, j= 211, acctuarcy = 0.415800"
       ]
      },
      {
       "output_type": "stream",
       "stream": "stdout",
       "text": [
        "\n",
        "i = 4, j= 212, acctuarcy = 0.412200"
       ]
      },
      {
       "output_type": "stream",
       "stream": "stdout",
       "text": [
        "\n",
        "i = 4, j= 213, acctuarcy = 0.410400"
       ]
      },
      {
       "output_type": "stream",
       "stream": "stdout",
       "text": [
        "\n",
        "i = 4, j= 214, acctuarcy = 0.416200"
       ]
      },
      {
       "output_type": "stream",
       "stream": "stdout",
       "text": [
        "\n",
        "i = 4, j= 215, acctuarcy = 0.411800"
       ]
      },
      {
       "output_type": "stream",
       "stream": "stdout",
       "text": [
        "\n",
        "i = 4, j= 216, acctuarcy = 0.415600"
       ]
      },
      {
       "output_type": "stream",
       "stream": "stdout",
       "text": [
        "\n",
        "i = 4, j= 217, acctuarcy = 0.419600"
       ]
      },
      {
       "output_type": "stream",
       "stream": "stdout",
       "text": [
        "\n",
        "i = 4, j= 218, acctuarcy = 0.420600"
       ]
      },
      {
       "output_type": "stream",
       "stream": "stdout",
       "text": [
        "\n",
        "i = 4, j= 219, acctuarcy = 0.415400"
       ]
      },
      {
       "output_type": "stream",
       "stream": "stdout",
       "text": [
        "\n",
        "i = 4, j= 220, acctuarcy = 0.415000"
       ]
      },
      {
       "output_type": "stream",
       "stream": "stdout",
       "text": [
        "\n",
        "i = 4, j= 221, acctuarcy = 0.419400"
       ]
      },
      {
       "output_type": "stream",
       "stream": "stdout",
       "text": [
        "\n",
        "i = 4, j= 222, acctuarcy = 0.415600"
       ]
      },
      {
       "output_type": "stream",
       "stream": "stdout",
       "text": [
        "\n",
        "i = 4, j= 223, acctuarcy = 0.413600"
       ]
      },
      {
       "output_type": "stream",
       "stream": "stdout",
       "text": [
        "\n",
        "i = 4, j= 224, acctuarcy = 0.422600"
       ]
      },
      {
       "output_type": "stream",
       "stream": "stdout",
       "text": [
        "\n",
        "i = 4, j= 225, acctuarcy = 0.418400"
       ]
      },
      {
       "output_type": "stream",
       "stream": "stdout",
       "text": [
        "\n",
        "i = 4, j= 226, acctuarcy = 0.411200"
       ]
      },
      {
       "output_type": "stream",
       "stream": "stdout",
       "text": [
        "\n",
        "i = 4, j= 227, acctuarcy = 0.413000"
       ]
      },
      {
       "output_type": "stream",
       "stream": "stdout",
       "text": [
        "\n",
        "i = 4, j= 228, acctuarcy = 0.416200"
       ]
      },
      {
       "output_type": "stream",
       "stream": "stdout",
       "text": [
        "\n",
        "i = 4, j= 229, acctuarcy = 0.413200"
       ]
      },
      {
       "output_type": "stream",
       "stream": "stdout",
       "text": [
        "\n",
        "i = 4, j= 230, acctuarcy = 0.412600"
       ]
      },
      {
       "output_type": "stream",
       "stream": "stdout",
       "text": [
        "\n",
        "i = 4, j= 231, acctuarcy = 0.415600"
       ]
      },
      {
       "output_type": "stream",
       "stream": "stdout",
       "text": [
        "\n",
        "i = 4, j= 232, acctuarcy = 0.421200"
       ]
      },
      {
       "output_type": "stream",
       "stream": "stdout",
       "text": [
        "\n",
        "i = 4, j= 233, acctuarcy = 0.420400"
       ]
      },
      {
       "output_type": "stream",
       "stream": "stdout",
       "text": [
        "\n",
        "i = 4, j= 234, acctuarcy = 0.417000"
       ]
      },
      {
       "output_type": "stream",
       "stream": "stdout",
       "text": [
        "\n",
        "i = 4, j= 235, acctuarcy = 0.413000"
       ]
      },
      {
       "output_type": "stream",
       "stream": "stdout",
       "text": [
        "\n",
        "i = 4, j= 236, acctuarcy = 0.418200"
       ]
      },
      {
       "output_type": "stream",
       "stream": "stdout",
       "text": [
        "\n",
        "i = 4, j= 237, acctuarcy = 0.419800"
       ]
      },
      {
       "output_type": "stream",
       "stream": "stdout",
       "text": [
        "\n",
        "i = 4, j= 238, acctuarcy = 0.418400"
       ]
      },
      {
       "output_type": "stream",
       "stream": "stdout",
       "text": [
        "\n",
        "i = 4, j= 239, acctuarcy = 0.420600"
       ]
      },
      {
       "output_type": "stream",
       "stream": "stdout",
       "text": [
        "\n",
        "i = 4, j= 240, acctuarcy = 0.413600"
       ]
      },
      {
       "output_type": "stream",
       "stream": "stdout",
       "text": [
        "\n",
        "i = 4, j= 241, acctuarcy = 0.414600"
       ]
      },
      {
       "output_type": "stream",
       "stream": "stdout",
       "text": [
        "\n",
        "i = 4, j= 242, acctuarcy = 0.411400"
       ]
      },
      {
       "output_type": "stream",
       "stream": "stdout",
       "text": [
        "\n",
        "i = 4, j= 243, acctuarcy = 0.417800"
       ]
      },
      {
       "output_type": "stream",
       "stream": "stdout",
       "text": [
        "\n",
        "i = 4, j= 244, acctuarcy = 0.412000"
       ]
      },
      {
       "output_type": "stream",
       "stream": "stdout",
       "text": [
        "\n",
        "i = 4, j= 245, acctuarcy = 0.413000"
       ]
      },
      {
       "output_type": "stream",
       "stream": "stdout",
       "text": [
        "\n",
        "i = 4, j= 246, acctuarcy = 0.417600"
       ]
      },
      {
       "output_type": "stream",
       "stream": "stdout",
       "text": [
        "\n",
        "i = 4, j= 247, acctuarcy = 0.414200"
       ]
      },
      {
       "output_type": "stream",
       "stream": "stdout",
       "text": [
        "\n",
        "i = 4, j= 248, acctuarcy = 0.422200"
       ]
      },
      {
       "output_type": "stream",
       "stream": "stdout",
       "text": [
        "\n",
        "i = 4, j= 249, acctuarcy = 0.417200"
       ]
      },
      {
       "output_type": "stream",
       "stream": "stdout",
       "text": [
        "\n",
        "i = 4, j= 250, acctuarcy = 0.418400"
       ]
      },
      {
       "output_type": "stream",
       "stream": "stdout",
       "text": [
        "\n",
        "i = 4, j= 251, acctuarcy = 0.413400"
       ]
      },
      {
       "output_type": "stream",
       "stream": "stdout",
       "text": [
        "\n",
        "i = 5, j= 0, acctuarcy = 0.417800"
       ]
      },
      {
       "output_type": "stream",
       "stream": "stdout",
       "text": [
        "\n",
        "i = 5, j= 1, acctuarcy = 0.420200"
       ]
      },
      {
       "output_type": "stream",
       "stream": "stdout",
       "text": [
        "\n",
        "i = 5, j= 2, acctuarcy = 0.416200"
       ]
      },
      {
       "output_type": "stream",
       "stream": "stdout",
       "text": [
        "\n",
        "i = 5, j= 3, acctuarcy = 0.417800"
       ]
      },
      {
       "output_type": "stream",
       "stream": "stdout",
       "text": [
        "\n",
        "i = 5, j= 4, acctuarcy = 0.414200"
       ]
      },
      {
       "output_type": "stream",
       "stream": "stdout",
       "text": [
        "\n",
        "i = 5, j= 5, acctuarcy = 0.414800"
       ]
      },
      {
       "output_type": "stream",
       "stream": "stdout",
       "text": [
        "\n",
        "i = 5, j= 6, acctuarcy = 0.411000"
       ]
      },
      {
       "output_type": "stream",
       "stream": "stdout",
       "text": [
        "\n",
        "i = 5, j= 7, acctuarcy = 0.415400"
       ]
      },
      {
       "output_type": "stream",
       "stream": "stdout",
       "text": [
        "\n",
        "i = 5, j= 8, acctuarcy = 0.410200"
       ]
      },
      {
       "output_type": "stream",
       "stream": "stdout",
       "text": [
        "\n",
        "i = 5, j= 9, acctuarcy = 0.413000"
       ]
      },
      {
       "output_type": "stream",
       "stream": "stdout",
       "text": [
        "\n",
        "i = 5, j= 10, acctuarcy = 0.420400"
       ]
      },
      {
       "output_type": "stream",
       "stream": "stdout",
       "text": [
        "\n",
        "i = 5, j= 11, acctuarcy = 0.412600"
       ]
      },
      {
       "output_type": "stream",
       "stream": "stdout",
       "text": [
        "\n",
        "i = 5, j= 12, acctuarcy = 0.415600"
       ]
      },
      {
       "output_type": "stream",
       "stream": "stdout",
       "text": [
        "\n",
        "i = 5, j= 13, acctuarcy = 0.407800"
       ]
      },
      {
       "output_type": "stream",
       "stream": "stdout",
       "text": [
        "\n",
        "i = 5, j= 14, acctuarcy = 0.412800"
       ]
      },
      {
       "output_type": "stream",
       "stream": "stdout",
       "text": [
        "\n",
        "i = 5, j= 15, acctuarcy = 0.419400"
       ]
      },
      {
       "output_type": "stream",
       "stream": "stdout",
       "text": [
        "\n",
        "i = 5, j= 16, acctuarcy = 0.415000"
       ]
      },
      {
       "output_type": "stream",
       "stream": "stdout",
       "text": [
        "\n",
        "i = 5, j= 17, acctuarcy = 0.418600"
       ]
      },
      {
       "output_type": "stream",
       "stream": "stdout",
       "text": [
        "\n",
        "i = 5, j= 18, acctuarcy = 0.414400"
       ]
      },
      {
       "output_type": "stream",
       "stream": "stdout",
       "text": [
        "\n",
        "i = 5, j= 19, acctuarcy = 0.415800"
       ]
      },
      {
       "output_type": "stream",
       "stream": "stdout",
       "text": [
        "\n",
        "i = 5, j= 20, acctuarcy = 0.421000"
       ]
      },
      {
       "output_type": "stream",
       "stream": "stdout",
       "text": [
        "\n",
        "i = 5, j= 21, acctuarcy = 0.414400"
       ]
      },
      {
       "output_type": "stream",
       "stream": "stdout",
       "text": [
        "\n",
        "i = 5, j= 22, acctuarcy = 0.417000"
       ]
      },
      {
       "output_type": "stream",
       "stream": "stdout",
       "text": [
        "\n",
        "i = 5, j= 23, acctuarcy = 0.414800"
       ]
      },
      {
       "output_type": "stream",
       "stream": "stdout",
       "text": [
        "\n",
        "i = 5, j= 24, acctuarcy = 0.413600"
       ]
      },
      {
       "output_type": "stream",
       "stream": "stdout",
       "text": [
        "\n",
        "i = 5, j= 25, acctuarcy = 0.411200"
       ]
      },
      {
       "output_type": "stream",
       "stream": "stdout",
       "text": [
        "\n",
        "i = 5, j= 26, acctuarcy = 0.417200"
       ]
      },
      {
       "output_type": "stream",
       "stream": "stdout",
       "text": [
        "\n",
        "i = 5, j= 27, acctuarcy = 0.411200"
       ]
      },
      {
       "output_type": "stream",
       "stream": "stdout",
       "text": [
        "\n",
        "i = 5, j= 28, acctuarcy = 0.414000"
       ]
      },
      {
       "output_type": "stream",
       "stream": "stdout",
       "text": [
        "\n",
        "i = 5, j= 29, acctuarcy = 0.408200"
       ]
      },
      {
       "output_type": "stream",
       "stream": "stdout",
       "text": [
        "\n",
        "i = 5, j= 30, acctuarcy = 0.411000"
       ]
      },
      {
       "output_type": "stream",
       "stream": "stdout",
       "text": [
        "\n",
        "i = 5, j= 31, acctuarcy = 0.415000"
       ]
      },
      {
       "output_type": "stream",
       "stream": "stdout",
       "text": [
        "\n",
        "i = 5, j= 32, acctuarcy = 0.410600"
       ]
      },
      {
       "output_type": "stream",
       "stream": "stdout",
       "text": [
        "\n",
        "i = 5, j= 33, acctuarcy = 0.414000"
       ]
      },
      {
       "output_type": "stream",
       "stream": "stdout",
       "text": [
        "\n",
        "i = 5, j= 34, acctuarcy = 0.412000"
       ]
      },
      {
       "output_type": "stream",
       "stream": "stdout",
       "text": [
        "\n",
        "i = 5, j= 35, acctuarcy = 0.419400"
       ]
      },
      {
       "output_type": "stream",
       "stream": "stdout",
       "text": [
        "\n",
        "i = 5, j= 36, acctuarcy = 0.418400"
       ]
      },
      {
       "output_type": "stream",
       "stream": "stdout",
       "text": [
        "\n",
        "i = 5, j= 37, acctuarcy = 0.421200"
       ]
      },
      {
       "output_type": "stream",
       "stream": "stdout",
       "text": [
        "\n",
        "i = 5, j= 38, acctuarcy = 0.413600"
       ]
      },
      {
       "output_type": "stream",
       "stream": "stdout",
       "text": [
        "\n",
        "i = 5, j= 39, acctuarcy = 0.416400"
       ]
      },
      {
       "output_type": "stream",
       "stream": "stdout",
       "text": [
        "\n",
        "i = 5, j= 40, acctuarcy = 0.420800"
       ]
      },
      {
       "output_type": "stream",
       "stream": "stdout",
       "text": [
        "\n",
        "i = 5, j= 41, acctuarcy = 0.415800"
       ]
      },
      {
       "output_type": "stream",
       "stream": "stdout",
       "text": [
        "\n",
        "i = 5, j= 42, acctuarcy = 0.414600"
       ]
      },
      {
       "output_type": "stream",
       "stream": "stdout",
       "text": [
        "\n",
        "i = 5, j= 43, acctuarcy = 0.410200"
       ]
      },
      {
       "output_type": "stream",
       "stream": "stdout",
       "text": [
        "\n",
        "i = 5, j= 44, acctuarcy = 0.412600"
       ]
      },
      {
       "output_type": "stream",
       "stream": "stdout",
       "text": [
        "\n",
        "i = 5, j= 45, acctuarcy = 0.413600"
       ]
      },
      {
       "output_type": "stream",
       "stream": "stdout",
       "text": [
        "\n",
        "i = 5, j= 46, acctuarcy = 0.420600"
       ]
      },
      {
       "output_type": "stream",
       "stream": "stdout",
       "text": [
        "\n",
        "i = 5, j= 47, acctuarcy = 0.411800"
       ]
      },
      {
       "output_type": "stream",
       "stream": "stdout",
       "text": [
        "\n",
        "i = 5, j= 48, acctuarcy = 0.413800"
       ]
      },
      {
       "output_type": "stream",
       "stream": "stdout",
       "text": [
        "\n",
        "i = 5, j= 49, acctuarcy = 0.407000"
       ]
      },
      {
       "output_type": "stream",
       "stream": "stdout",
       "text": [
        "\n",
        "i = 5, j= 50, acctuarcy = 0.408000"
       ]
      },
      {
       "output_type": "stream",
       "stream": "stdout",
       "text": [
        "\n",
        "i = 5, j= 51, acctuarcy = 0.417400"
       ]
      },
      {
       "output_type": "stream",
       "stream": "stdout",
       "text": [
        "\n",
        "i = 5, j= 52, acctuarcy = 0.408800"
       ]
      },
      {
       "output_type": "stream",
       "stream": "stdout",
       "text": [
        "\n",
        "i = 5, j= 53, acctuarcy = 0.415400"
       ]
      },
      {
       "output_type": "stream",
       "stream": "stdout",
       "text": [
        "\n",
        "i = 5, j= 54, acctuarcy = 0.408200"
       ]
      },
      {
       "output_type": "stream",
       "stream": "stdout",
       "text": [
        "\n",
        "i = 5, j= 55, acctuarcy = 0.418000"
       ]
      },
      {
       "output_type": "stream",
       "stream": "stdout",
       "text": [
        "\n",
        "i = 5, j= 56, acctuarcy = 0.419400"
       ]
      },
      {
       "output_type": "stream",
       "stream": "stdout",
       "text": [
        "\n",
        "i = 5, j= 57, acctuarcy = 0.415600"
       ]
      },
      {
       "output_type": "stream",
       "stream": "stdout",
       "text": [
        "\n",
        "i = 5, j= 58, acctuarcy = 0.417600"
       ]
      },
      {
       "output_type": "stream",
       "stream": "stdout",
       "text": [
        "\n",
        "i = 5, j= 59, acctuarcy = 0.414800"
       ]
      },
      {
       "output_type": "stream",
       "stream": "stdout",
       "text": [
        "\n",
        "i = 5, j= 60, acctuarcy = 0.417600"
       ]
      },
      {
       "output_type": "stream",
       "stream": "stdout",
       "text": [
        "\n",
        "i = 5, j= 61, acctuarcy = 0.418400"
       ]
      },
      {
       "output_type": "stream",
       "stream": "stdout",
       "text": [
        "\n",
        "i = 5, j= 62, acctuarcy = 0.411600"
       ]
      },
      {
       "output_type": "stream",
       "stream": "stdout",
       "text": [
        "\n",
        "i = 5, j= 63, acctuarcy = 0.415400"
       ]
      },
      {
       "output_type": "stream",
       "stream": "stdout",
       "text": [
        "\n",
        "i = 5, j= 64, acctuarcy = 0.412400"
       ]
      },
      {
       "output_type": "stream",
       "stream": "stdout",
       "text": [
        "\n",
        "i = 5, j= 65, acctuarcy = 0.415800"
       ]
      },
      {
       "output_type": "stream",
       "stream": "stdout",
       "text": [
        "\n",
        "i = 5, j= 66, acctuarcy = 0.411600"
       ]
      },
      {
       "output_type": "stream",
       "stream": "stdout",
       "text": [
        "\n",
        "i = 5, j= 67, acctuarcy = 0.417200"
       ]
      },
      {
       "output_type": "stream",
       "stream": "stdout",
       "text": [
        "\n",
        "i = 5, j= 68, acctuarcy = 0.409600"
       ]
      },
      {
       "output_type": "stream",
       "stream": "stdout",
       "text": [
        "\n",
        "i = 5, j= 69, acctuarcy = 0.412000"
       ]
      },
      {
       "output_type": "stream",
       "stream": "stdout",
       "text": [
        "\n",
        "i = 5, j= 70, acctuarcy = 0.419000"
       ]
      },
      {
       "output_type": "stream",
       "stream": "stdout",
       "text": [
        "\n",
        "i = 5, j= 71, acctuarcy = 0.412400"
       ]
      },
      {
       "output_type": "stream",
       "stream": "stdout",
       "text": [
        "\n",
        "i = 5, j= 72, acctuarcy = 0.417200"
       ]
      },
      {
       "output_type": "stream",
       "stream": "stdout",
       "text": [
        "\n",
        "i = 5, j= 73, acctuarcy = 0.417800"
       ]
      },
      {
       "output_type": "stream",
       "stream": "stdout",
       "text": [
        "\n",
        "i = 5, j= 74, acctuarcy = 0.416800"
       ]
      },
      {
       "output_type": "stream",
       "stream": "stdout",
       "text": [
        "\n",
        "i = 5, j= 75, acctuarcy = 0.422200"
       ]
      },
      {
       "output_type": "stream",
       "stream": "stdout",
       "text": [
        "\n",
        "i = 5, j= 76, acctuarcy = 0.420200"
       ]
      },
      {
       "output_type": "stream",
       "stream": "stdout",
       "text": [
        "\n",
        "i = 5, j= 77, acctuarcy = 0.417400"
       ]
      },
      {
       "output_type": "stream",
       "stream": "stdout",
       "text": [
        "\n",
        "i = 5, j= 78, acctuarcy = 0.416200"
       ]
      },
      {
       "output_type": "stream",
       "stream": "stdout",
       "text": [
        "\n",
        "i = 5, j= 79, acctuarcy = 0.417800"
       ]
      },
      {
       "output_type": "stream",
       "stream": "stdout",
       "text": [
        "\n",
        "i = 5, j= 80, acctuarcy = 0.414200"
       ]
      },
      {
       "output_type": "stream",
       "stream": "stdout",
       "text": [
        "\n",
        "i = 5, j= 81, acctuarcy = 0.416800"
       ]
      },
      {
       "output_type": "stream",
       "stream": "stdout",
       "text": [
        "\n",
        "i = 5, j= 82, acctuarcy = 0.414800"
       ]
      },
      {
       "output_type": "stream",
       "stream": "stdout",
       "text": [
        "\n",
        "i = 5, j= 83, acctuarcy = 0.411600"
       ]
      },
      {
       "output_type": "stream",
       "stream": "stdout",
       "text": [
        "\n",
        "i = 5, j= 84, acctuarcy = 0.411000"
       ]
      },
      {
       "output_type": "stream",
       "stream": "stdout",
       "text": [
        "\n",
        "i = 5, j= 85, acctuarcy = 0.415400"
       ]
      },
      {
       "output_type": "stream",
       "stream": "stdout",
       "text": [
        "\n",
        "i = 5, j= 86, acctuarcy = 0.419600"
       ]
      },
      {
       "output_type": "stream",
       "stream": "stdout",
       "text": [
        "\n",
        "i = 5, j= 87, acctuarcy = 0.413000"
       ]
      },
      {
       "output_type": "stream",
       "stream": "stdout",
       "text": [
        "\n",
        "i = 5, j= 88, acctuarcy = 0.420400"
       ]
      },
      {
       "output_type": "stream",
       "stream": "stdout",
       "text": [
        "\n",
        "i = 5, j= 89, acctuarcy = 0.415600"
       ]
      },
      {
       "output_type": "stream",
       "stream": "stdout",
       "text": [
        "\n",
        "i = 5, j= 90, acctuarcy = 0.415600"
       ]
      },
      {
       "output_type": "stream",
       "stream": "stdout",
       "text": [
        "\n",
        "i = 5, j= 91, acctuarcy = 0.420200"
       ]
      },
      {
       "output_type": "stream",
       "stream": "stdout",
       "text": [
        "\n",
        "i = 5, j= 92, acctuarcy = 0.419400"
       ]
      },
      {
       "output_type": "stream",
       "stream": "stdout",
       "text": [
        "\n",
        "i = 5, j= 93, acctuarcy = 0.413200"
       ]
      },
      {
       "output_type": "stream",
       "stream": "stdout",
       "text": [
        "\n",
        "i = 5, j= 94, acctuarcy = 0.415000"
       ]
      },
      {
       "output_type": "stream",
       "stream": "stdout",
       "text": [
        "\n",
        "i = 5, j= 95, acctuarcy = 0.418600"
       ]
      },
      {
       "output_type": "stream",
       "stream": "stdout",
       "text": [
        "\n",
        "i = 5, j= 96, acctuarcy = 0.416600"
       ]
      },
      {
       "output_type": "stream",
       "stream": "stdout",
       "text": [
        "\n",
        "i = 5, j= 97, acctuarcy = 0.415800"
       ]
      },
      {
       "output_type": "stream",
       "stream": "stdout",
       "text": [
        "\n",
        "i = 5, j= 98, acctuarcy = 0.421000"
       ]
      },
      {
       "output_type": "stream",
       "stream": "stdout",
       "text": [
        "\n",
        "i = 5, j= 99, acctuarcy = 0.417000"
       ]
      },
      {
       "output_type": "stream",
       "stream": "stdout",
       "text": [
        "\n",
        "i = 5, j= 100, acctuarcy = 0.414800"
       ]
      },
      {
       "output_type": "stream",
       "stream": "stdout",
       "text": [
        "\n",
        "i = 5, j= 101, acctuarcy = 0.411200"
       ]
      },
      {
       "output_type": "stream",
       "stream": "stdout",
       "text": [
        "\n",
        "i = 5, j= 102, acctuarcy = 0.417200"
       ]
      },
      {
       "output_type": "stream",
       "stream": "stdout",
       "text": [
        "\n",
        "i = 5, j= 103, acctuarcy = 0.414000"
       ]
      },
      {
       "output_type": "stream",
       "stream": "stdout",
       "text": [
        "\n",
        "i = 5, j= 104, acctuarcy = 0.415000"
       ]
      },
      {
       "output_type": "stream",
       "stream": "stdout",
       "text": [
        "\n",
        "i = 5, j= 105, acctuarcy = 0.418200"
       ]
      },
      {
       "output_type": "stream",
       "stream": "stdout",
       "text": [
        "\n",
        "i = 5, j= 106, acctuarcy = 0.421600"
       ]
      },
      {
       "output_type": "stream",
       "stream": "stdout",
       "text": [
        "\n",
        "i = 5, j= 107, acctuarcy = 0.419400"
       ]
      },
      {
       "output_type": "stream",
       "stream": "stdout",
       "text": [
        "\n",
        "i = 5, j= 108, acctuarcy = 0.418400"
       ]
      },
      {
       "output_type": "stream",
       "stream": "stdout",
       "text": [
        "\n",
        "i = 5, j= 109, acctuarcy = 0.418400"
       ]
      },
      {
       "output_type": "stream",
       "stream": "stdout",
       "text": [
        "\n",
        "i = 5, j= 110, acctuarcy = 0.421200"
       ]
      },
      {
       "output_type": "stream",
       "stream": "stdout",
       "text": [
        "\n",
        "i = 5, j= 111, acctuarcy = 0.417200"
       ]
      },
      {
       "output_type": "stream",
       "stream": "stdout",
       "text": [
        "\n",
        "i = 5, j= 112, acctuarcy = 0.416400"
       ]
      },
      {
       "output_type": "stream",
       "stream": "stdout",
       "text": [
        "\n",
        "i = 5, j= 113, acctuarcy = 0.420800"
       ]
      },
      {
       "output_type": "stream",
       "stream": "stdout",
       "text": [
        "\n",
        "i = 5, j= 114, acctuarcy = 0.414600"
       ]
      },
      {
       "output_type": "stream",
       "stream": "stdout",
       "text": [
        "\n",
        "i = 5, j= 115, acctuarcy = 0.415400"
       ]
      },
      {
       "output_type": "stream",
       "stream": "stdout",
       "text": [
        "\n",
        "i = 5, j= 116, acctuarcy = 0.413600"
       ]
      },
      {
       "output_type": "stream",
       "stream": "stdout",
       "text": [
        "\n",
        "i = 5, j= 117, acctuarcy = 0.420600"
       ]
      },
      {
       "output_type": "stream",
       "stream": "stdout",
       "text": [
        "\n",
        "i = 5, j= 118, acctuarcy = 0.413800"
       ]
      },
      {
       "output_type": "stream",
       "stream": "stdout",
       "text": [
        "\n",
        "i = 5, j= 119, acctuarcy = 0.417400"
       ]
      },
      {
       "output_type": "stream",
       "stream": "stdout",
       "text": [
        "\n",
        "i = 5, j= 120, acctuarcy = 0.419400"
       ]
      },
      {
       "output_type": "stream",
       "stream": "stdout",
       "text": [
        "\n",
        "i = 5, j= 121, acctuarcy = 0.418000"
       ]
      },
      {
       "output_type": "stream",
       "stream": "stdout",
       "text": [
        "\n",
        "i = 5, j= 122, acctuarcy = 0.419400"
       ]
      },
      {
       "output_type": "stream",
       "stream": "stdout",
       "text": [
        "\n",
        "i = 5, j= 123, acctuarcy = 0.417600"
       ]
      },
      {
       "output_type": "stream",
       "stream": "stdout",
       "text": [
        "\n",
        "i = 5, j= 124, acctuarcy = 0.418400"
       ]
      },
      {
       "output_type": "stream",
       "stream": "stdout",
       "text": [
        "\n",
        "i = 5, j= 125, acctuarcy = 0.415800"
       ]
      },
      {
       "output_type": "stream",
       "stream": "stdout",
       "text": [
        "\n",
        "i = 5, j= 126, acctuarcy = 0.422600"
       ]
      },
      {
       "output_type": "stream",
       "stream": "stdout",
       "text": [
        "\n",
        "i = 5, j= 127, acctuarcy = 0.417800"
       ]
      },
      {
       "output_type": "stream",
       "stream": "stdout",
       "text": [
        "\n",
        "i = 5, j= 128, acctuarcy = 0.422600"
       ]
      },
      {
       "output_type": "stream",
       "stream": "stdout",
       "text": [
        "\n",
        "i = 5, j= 129, acctuarcy = 0.416400"
       ]
      },
      {
       "output_type": "stream",
       "stream": "stdout",
       "text": [
        "\n",
        "i = 5, j= 130, acctuarcy = 0.419800"
       ]
      },
      {
       "output_type": "stream",
       "stream": "stdout",
       "text": [
        "\n",
        "i = 5, j= 131, acctuarcy = 0.423200"
       ]
      },
      {
       "output_type": "stream",
       "stream": "stdout",
       "text": [
        "\n",
        "i = 5, j= 132, acctuarcy = 0.418000"
       ]
      },
      {
       "output_type": "stream",
       "stream": "stdout",
       "text": [
        "\n",
        "i = 5, j= 133, acctuarcy = 0.420000"
       ]
      },
      {
       "output_type": "stream",
       "stream": "stdout",
       "text": [
        "\n",
        "i = 5, j= 134, acctuarcy = 0.416600"
       ]
      },
      {
       "output_type": "stream",
       "stream": "stdout",
       "text": [
        "\n",
        "i = 5, j= 135, acctuarcy = 0.415200"
       ]
      },
      {
       "output_type": "stream",
       "stream": "stdout",
       "text": [
        "\n",
        "i = 5, j= 136, acctuarcy = 0.414000"
       ]
      },
      {
       "output_type": "stream",
       "stream": "stdout",
       "text": [
        "\n",
        "i = 5, j= 137, acctuarcy = 0.418000"
       ]
      },
      {
       "output_type": "stream",
       "stream": "stdout",
       "text": [
        "\n",
        "i = 5, j= 138, acctuarcy = 0.412800"
       ]
      },
      {
       "output_type": "stream",
       "stream": "stdout",
       "text": [
        "\n",
        "i = 5, j= 139, acctuarcy = 0.415000"
       ]
      },
      {
       "output_type": "stream",
       "stream": "stdout",
       "text": [
        "\n",
        "i = 5, j= 140, acctuarcy = 0.410800"
       ]
      },
      {
       "output_type": "stream",
       "stream": "stdout",
       "text": [
        "\n",
        "i = 5, j= 141, acctuarcy = 0.414200"
       ]
      },
      {
       "output_type": "stream",
       "stream": "stdout",
       "text": [
        "\n",
        "i = 5, j= 142, acctuarcy = 0.417400"
       ]
      },
      {
       "output_type": "stream",
       "stream": "stdout",
       "text": [
        "\n",
        "i = 5, j= 143, acctuarcy = 0.413000"
       ]
      },
      {
       "output_type": "stream",
       "stream": "stdout",
       "text": [
        "\n",
        "i = 5, j= 144, acctuarcy = 0.414800"
       ]
      },
      {
       "output_type": "stream",
       "stream": "stdout",
       "text": [
        "\n",
        "i = 5, j= 145, acctuarcy = 0.413400"
       ]
      },
      {
       "output_type": "stream",
       "stream": "stdout",
       "text": [
        "\n",
        "i = 5, j= 146, acctuarcy = 0.418600"
       ]
      },
      {
       "output_type": "stream",
       "stream": "stdout",
       "text": [
        "\n",
        "i = 5, j= 147, acctuarcy = 0.424600"
       ]
      },
      {
       "output_type": "stream",
       "stream": "stdout",
       "text": [
        "\n",
        "i = 5, j= 148, acctuarcy = 0.418200"
       ]
      },
      {
       "output_type": "stream",
       "stream": "stdout",
       "text": [
        "\n",
        "i = 5, j= 149, acctuarcy = 0.418400"
       ]
      },
      {
       "output_type": "stream",
       "stream": "stdout",
       "text": [
        "\n",
        "i = 5, j= 150, acctuarcy = 0.415800"
       ]
      },
      {
       "output_type": "stream",
       "stream": "stdout",
       "text": [
        "\n",
        "i = 5, j= 151, acctuarcy = 0.415600"
       ]
      },
      {
       "output_type": "stream",
       "stream": "stdout",
       "text": [
        "\n",
        "i = 5, j= 152, acctuarcy = 0.421800"
       ]
      },
      {
       "output_type": "stream",
       "stream": "stdout",
       "text": [
        "\n",
        "i = 5, j= 153, acctuarcy = 0.416400"
       ]
      },
      {
       "output_type": "stream",
       "stream": "stdout",
       "text": [
        "\n",
        "i = 5, j= 154, acctuarcy = 0.418200"
       ]
      },
      {
       "output_type": "stream",
       "stream": "stdout",
       "text": [
        "\n",
        "i = 5, j= 155, acctuarcy = 0.416200"
       ]
      },
      {
       "output_type": "stream",
       "stream": "stdout",
       "text": [
        "\n",
        "i = 5, j= 156, acctuarcy = 0.415800"
       ]
      },
      {
       "output_type": "stream",
       "stream": "stdout",
       "text": [
        "\n",
        "i = 5, j= 157, acctuarcy = 0.413600"
       ]
      },
      {
       "output_type": "stream",
       "stream": "stdout",
       "text": [
        "\n",
        "i = 5, j= 158, acctuarcy = 0.416200"
       ]
      },
      {
       "output_type": "stream",
       "stream": "stdout",
       "text": [
        "\n",
        "i = 5, j= 159, acctuarcy = 0.410200"
       ]
      },
      {
       "output_type": "stream",
       "stream": "stdout",
       "text": [
        "\n",
        "i = 5, j= 160, acctuarcy = 0.412400"
       ]
      },
      {
       "output_type": "stream",
       "stream": "stdout",
       "text": [
        "\n",
        "i = 5, j= 161, acctuarcy = 0.417800"
       ]
      },
      {
       "output_type": "stream",
       "stream": "stdout",
       "text": [
        "\n",
        "i = 5, j= 162, acctuarcy = 0.425200"
       ]
      },
      {
       "output_type": "stream",
       "stream": "stdout",
       "text": [
        "\n",
        "i = 5, j= 163, acctuarcy = 0.419400"
       ]
      },
      {
       "output_type": "stream",
       "stream": "stdout",
       "text": [
        "\n",
        "i = 5, j= 164, acctuarcy = 0.420000"
       ]
      },
      {
       "output_type": "stream",
       "stream": "stdout",
       "text": [
        "\n",
        "i = 5, j= 165, acctuarcy = 0.413600"
       ]
      },
      {
       "output_type": "stream",
       "stream": "stdout",
       "text": [
        "\n",
        "i = 5, j= 166, acctuarcy = 0.416600"
       ]
      },
      {
       "output_type": "stream",
       "stream": "stdout",
       "text": [
        "\n",
        "i = 5, j= 167, acctuarcy = 0.424200"
       ]
      },
      {
       "output_type": "stream",
       "stream": "stdout",
       "text": [
        "\n",
        "i = 5, j= 168, acctuarcy = 0.413600"
       ]
      },
      {
       "output_type": "stream",
       "stream": "stdout",
       "text": [
        "\n",
        "i = 5, j= 169, acctuarcy = 0.414200"
       ]
      },
      {
       "output_type": "stream",
       "stream": "stdout",
       "text": [
        "\n",
        "i = 5, j= 170, acctuarcy = 0.412200"
       ]
      },
      {
       "output_type": "stream",
       "stream": "stdout",
       "text": [
        "\n",
        "i = 5, j= 171, acctuarcy = 0.421200"
       ]
      },
      {
       "output_type": "stream",
       "stream": "stdout",
       "text": [
        "\n",
        "i = 5, j= 172, acctuarcy = 0.412800"
       ]
      },
      {
       "output_type": "stream",
       "stream": "stdout",
       "text": [
        "\n",
        "i = 5, j= 173, acctuarcy = 0.414400"
       ]
      },
      {
       "output_type": "stream",
       "stream": "stdout",
       "text": [
        "\n",
        "i = 5, j= 174, acctuarcy = 0.410400"
       ]
      },
      {
       "output_type": "stream",
       "stream": "stdout",
       "text": [
        "\n",
        "i = 5, j= 175, acctuarcy = 0.411800"
       ]
      },
      {
       "output_type": "stream",
       "stream": "stdout",
       "text": [
        "\n",
        "i = 5, j= 176, acctuarcy = 0.421800"
       ]
      },
      {
       "output_type": "stream",
       "stream": "stdout",
       "text": [
        "\n",
        "i = 5, j= 177, acctuarcy = 0.416400"
       ]
      },
      {
       "output_type": "stream",
       "stream": "stdout",
       "text": [
        "\n",
        "i = 5, j= 178, acctuarcy = 0.419400"
       ]
      },
      {
       "output_type": "stream",
       "stream": "stdout",
       "text": [
        "\n",
        "i = 5, j= 179, acctuarcy = 0.414000"
       ]
      },
      {
       "output_type": "stream",
       "stream": "stdout",
       "text": [
        "\n",
        "i = 5, j= 180, acctuarcy = 0.416200"
       ]
      },
      {
       "output_type": "stream",
       "stream": "stdout",
       "text": [
        "\n",
        "i = 5, j= 181, acctuarcy = 0.415600"
       ]
      },
      {
       "output_type": "stream",
       "stream": "stdout",
       "text": [
        "\n",
        "i = 5, j= 182, acctuarcy = 0.418600"
       ]
      },
      {
       "output_type": "stream",
       "stream": "stdout",
       "text": [
        "\n",
        "i = 5, j= 183, acctuarcy = 0.422600"
       ]
      },
      {
       "output_type": "stream",
       "stream": "stdout",
       "text": [
        "\n",
        "i = 5, j= 184, acctuarcy = 0.422600"
       ]
      },
      {
       "output_type": "stream",
       "stream": "stdout",
       "text": [
        "\n",
        "i = 5, j= 185, acctuarcy = 0.417200"
       ]
      },
      {
       "output_type": "stream",
       "stream": "stdout",
       "text": [
        "\n",
        "i = 5, j= 186, acctuarcy = 0.417800"
       ]
      },
      {
       "output_type": "stream",
       "stream": "stdout",
       "text": [
        "\n",
        "i = 5, j= 187, acctuarcy = 0.422600"
       ]
      },
      {
       "output_type": "stream",
       "stream": "stdout",
       "text": [
        "\n",
        "i = 5, j= 188, acctuarcy = 0.418200"
       ]
      },
      {
       "output_type": "stream",
       "stream": "stdout",
       "text": [
        "\n",
        "i = 5, j= 189, acctuarcy = 0.419800"
       ]
      },
      {
       "output_type": "stream",
       "stream": "stdout",
       "text": [
        "\n",
        "i = 5, j= 190, acctuarcy = 0.423200"
       ]
      },
      {
       "output_type": "stream",
       "stream": "stdout",
       "text": [
        "\n",
        "i = 5, j= 191, acctuarcy = 0.420000"
       ]
      },
      {
       "output_type": "stream",
       "stream": "stdout",
       "text": [
        "\n",
        "i = 5, j= 192, acctuarcy = 0.415400"
       ]
      },
      {
       "output_type": "stream",
       "stream": "stdout",
       "text": [
        "\n",
        "i = 5, j= 193, acctuarcy = 0.414000"
       ]
      },
      {
       "output_type": "stream",
       "stream": "stdout",
       "text": [
        "\n",
        "i = 5, j= 194, acctuarcy = 0.418000"
       ]
      },
      {
       "output_type": "stream",
       "stream": "stdout",
       "text": [
        "\n",
        "i = 5, j= 195, acctuarcy = 0.415000"
       ]
      },
      {
       "output_type": "stream",
       "stream": "stdout",
       "text": [
        "\n",
        "i = 5, j= 196, acctuarcy = 0.417400"
       ]
      },
      {
       "output_type": "stream",
       "stream": "stdout",
       "text": [
        "\n",
        "i = 5, j= 197, acctuarcy = 0.417600"
       ]
      },
      {
       "output_type": "stream",
       "stream": "stdout",
       "text": [
        "\n",
        "i = 5, j= 198, acctuarcy = 0.418600"
       ]
      },
      {
       "output_type": "stream",
       "stream": "stdout",
       "text": [
        "\n",
        "i = 5, j= 199, acctuarcy = 0.424600"
       ]
      },
      {
       "output_type": "stream",
       "stream": "stdout",
       "text": [
        "\n",
        "i = 5, j= 200, acctuarcy = 0.418400"
       ]
      },
      {
       "output_type": "stream",
       "stream": "stdout",
       "text": [
        "\n",
        "i = 5, j= 201, acctuarcy = 0.421800"
       ]
      },
      {
       "output_type": "stream",
       "stream": "stdout",
       "text": [
        "\n",
        "i = 5, j= 202, acctuarcy = 0.415800"
       ]
      },
      {
       "output_type": "stream",
       "stream": "stdout",
       "text": [
        "\n",
        "i = 5, j= 203, acctuarcy = 0.420200"
       ]
      },
      {
       "output_type": "stream",
       "stream": "stdout",
       "text": [
        "\n",
        "i = 5, j= 204, acctuarcy = 0.417800"
       ]
      },
      {
       "output_type": "stream",
       "stream": "stdout",
       "text": [
        "\n",
        "i = 5, j= 205, acctuarcy = 0.425200"
       ]
      },
      {
       "output_type": "stream",
       "stream": "stdout",
       "text": [
        "\n",
        "i = 5, j= 206, acctuarcy = 0.420000"
       ]
      },
      {
       "output_type": "stream",
       "stream": "stdout",
       "text": [
        "\n",
        "i = 5, j= 207, acctuarcy = 0.424200"
       ]
      },
      {
       "output_type": "stream",
       "stream": "stdout",
       "text": [
        "\n",
        "i = 5, j= 208, acctuarcy = 0.421200"
       ]
      },
      {
       "output_type": "stream",
       "stream": "stdout",
       "text": [
        "\n",
        "i = 5, j= 209, acctuarcy = 0.421800"
       ]
      },
      {
       "output_type": "stream",
       "stream": "stdout",
       "text": [
        "\n",
        "i = 6, j= 0, acctuarcy = 0.421800"
       ]
      },
      {
       "output_type": "stream",
       "stream": "stdout",
       "text": [
        "\n",
        "i = 6, j= 1, acctuarcy = 0.417200"
       ]
      },
      {
       "output_type": "stream",
       "stream": "stdout",
       "text": [
        "\n",
        "i = 6, j= 2, acctuarcy = 0.420600"
       ]
      },
      {
       "output_type": "stream",
       "stream": "stdout",
       "text": [
        "\n",
        "i = 6, j= 3, acctuarcy = 0.416800"
       ]
      },
      {
       "output_type": "stream",
       "stream": "stdout",
       "text": [
        "\n",
        "i = 6, j= 4, acctuarcy = 0.418400"
       ]
      },
      {
       "output_type": "stream",
       "stream": "stdout",
       "text": [
        "\n",
        "i = 6, j= 5, acctuarcy = 0.423600"
       ]
      },
      {
       "output_type": "stream",
       "stream": "stdout",
       "text": [
        "\n",
        "i = 6, j= 6, acctuarcy = 0.419800"
       ]
      },
      {
       "output_type": "stream",
       "stream": "stdout",
       "text": [
        "\n",
        "i = 6, j= 7, acctuarcy = 0.420200"
       ]
      },
      {
       "output_type": "stream",
       "stream": "stdout",
       "text": [
        "\n",
        "i = 6, j= 8, acctuarcy = 0.416600"
       ]
      },
      {
       "output_type": "stream",
       "stream": "stdout",
       "text": [
        "\n",
        "i = 6, j= 9, acctuarcy = 0.417800"
       ]
      },
      {
       "output_type": "stream",
       "stream": "stdout",
       "text": [
        "\n",
        "i = 6, j= 10, acctuarcy = 0.416200"
       ]
      },
      {
       "output_type": "stream",
       "stream": "stdout",
       "text": [
        "\n",
        "i = 6, j= 11, acctuarcy = 0.419400"
       ]
      },
      {
       "output_type": "stream",
       "stream": "stdout",
       "text": [
        "\n",
        "i = 6, j= 12, acctuarcy = 0.415600"
       ]
      },
      {
       "output_type": "stream",
       "stream": "stdout",
       "text": [
        "\n",
        "i = 6, j= 13, acctuarcy = 0.417200"
       ]
      },
      {
       "output_type": "stream",
       "stream": "stdout",
       "text": [
        "\n",
        "i = 6, j= 14, acctuarcy = 0.411200"
       ]
      },
      {
       "output_type": "stream",
       "stream": "stdout",
       "text": [
        "\n",
        "i = 6, j= 15, acctuarcy = 0.414400"
       ]
      },
      {
       "output_type": "stream",
       "stream": "stdout",
       "text": [
        "\n",
        "i = 6, j= 16, acctuarcy = 0.420800"
       ]
      },
      {
       "output_type": "stream",
       "stream": "stdout",
       "text": [
        "\n",
        "i = 6, j= 17, acctuarcy = 0.411800"
       ]
      },
      {
       "output_type": "stream",
       "stream": "stdout",
       "text": [
        "\n",
        "i = 6, j= 18, acctuarcy = 0.418600"
       ]
      },
      {
       "output_type": "stream",
       "stream": "stdout",
       "text": [
        "\n",
        "i = 6, j= 19, acctuarcy = 0.415200"
       ]
      },
      {
       "output_type": "stream",
       "stream": "stdout",
       "text": [
        "\n",
        "i = 6, j= 20, acctuarcy = 0.417000"
       ]
      },
      {
       "output_type": "stream",
       "stream": "stdout",
       "text": [
        "\n",
        "i = 6, j= 21, acctuarcy = 0.422800"
       ]
      },
      {
       "output_type": "stream",
       "stream": "stdout",
       "text": [
        "\n",
        "i = 6, j= 22, acctuarcy = 0.417800"
       ]
      },
      {
       "output_type": "stream",
       "stream": "stdout",
       "text": [
        "\n",
        "i = 6, j= 23, acctuarcy = 0.416400"
       ]
      },
      {
       "output_type": "stream",
       "stream": "stdout",
       "text": [
        "\n",
        "i = 6, j= 24, acctuarcy = 0.415400"
       ]
      },
      {
       "output_type": "stream",
       "stream": "stdout",
       "text": [
        "\n",
        "i = 6, j= 25, acctuarcy = 0.416800"
       ]
      },
      {
       "output_type": "stream",
       "stream": "stdout",
       "text": [
        "\n",
        "i = 6, j= 26, acctuarcy = 0.418600"
       ]
      },
      {
       "output_type": "stream",
       "stream": "stdout",
       "text": [
        "\n",
        "i = 6, j= 27, acctuarcy = 0.416000"
       ]
      },
      {
       "output_type": "stream",
       "stream": "stdout",
       "text": [
        "\n",
        "i = 6, j= 28, acctuarcy = 0.418000"
       ]
      },
      {
       "output_type": "stream",
       "stream": "stdout",
       "text": [
        "\n",
        "i = 6, j= 29, acctuarcy = 0.417200"
       ]
      },
      {
       "output_type": "stream",
       "stream": "stdout",
       "text": [
        "\n",
        "i = 6, j= 30, acctuarcy = 0.416200"
       ]
      },
      {
       "output_type": "stream",
       "stream": "stdout",
       "text": [
        "\n",
        "i = 6, j= 31, acctuarcy = 0.412600"
       ]
      },
      {
       "output_type": "stream",
       "stream": "stdout",
       "text": [
        "\n",
        "i = 6, j= 32, acctuarcy = 0.418200"
       ]
      },
      {
       "output_type": "stream",
       "stream": "stdout",
       "text": [
        "\n",
        "i = 6, j= 33, acctuarcy = 0.413600"
       ]
      },
      {
       "output_type": "stream",
       "stream": "stdout",
       "text": [
        "\n",
        "i = 6, j= 34, acctuarcy = 0.413800"
       ]
      },
      {
       "output_type": "stream",
       "stream": "stdout",
       "text": [
        "\n",
        "i = 6, j= 35, acctuarcy = 0.418800"
       ]
      },
      {
       "output_type": "stream",
       "stream": "stdout",
       "text": [
        "\n",
        "i = 6, j= 36, acctuarcy = 0.423000"
       ]
      },
      {
       "output_type": "stream",
       "stream": "stdout",
       "text": [
        "\n",
        "i = 6, j= 37, acctuarcy = 0.422000"
       ]
      },
      {
       "output_type": "stream",
       "stream": "stdout",
       "text": [
        "\n",
        "i = 6, j= 38, acctuarcy = 0.418400"
       ]
      },
      {
       "output_type": "stream",
       "stream": "stdout",
       "text": [
        "\n",
        "i = 6, j= 39, acctuarcy = 0.416800"
       ]
      },
      {
       "output_type": "stream",
       "stream": "stdout",
       "text": [
        "\n",
        "i = 6, j= 40, acctuarcy = 0.419000"
       ]
      },
      {
       "output_type": "stream",
       "stream": "stdout",
       "text": [
        "\n",
        "i = 6, j= 41, acctuarcy = 0.420800"
       ]
      },
      {
       "output_type": "stream",
       "stream": "stdout",
       "text": [
        "\n",
        "i = 6, j= 42, acctuarcy = 0.419200"
       ]
      },
      {
       "output_type": "stream",
       "stream": "stdout",
       "text": [
        "\n",
        "i = 6, j= 43, acctuarcy = 0.420000"
       ]
      },
      {
       "output_type": "stream",
       "stream": "stdout",
       "text": [
        "\n",
        "i = 6, j= 44, acctuarcy = 0.412200"
       ]
      },
      {
       "output_type": "stream",
       "stream": "stdout",
       "text": [
        "\n",
        "i = 6, j= 45, acctuarcy = 0.420800"
       ]
      },
      {
       "output_type": "stream",
       "stream": "stdout",
       "text": [
        "\n",
        "i = 6, j= 46, acctuarcy = 0.414000"
       ]
      },
      {
       "output_type": "stream",
       "stream": "stdout",
       "text": [
        "\n",
        "i = 6, j= 47, acctuarcy = 0.418200"
       ]
      },
      {
       "output_type": "stream",
       "stream": "stdout",
       "text": [
        "\n",
        "i = 6, j= 48, acctuarcy = 0.411200"
       ]
      },
      {
       "output_type": "stream",
       "stream": "stdout",
       "text": [
        "\n",
        "i = 6, j= 49, acctuarcy = 0.416600"
       ]
      },
      {
       "output_type": "stream",
       "stream": "stdout",
       "text": [
        "\n",
        "i = 6, j= 50, acctuarcy = 0.420800"
       ]
      },
      {
       "output_type": "stream",
       "stream": "stdout",
       "text": [
        "\n",
        "i = 6, j= 51, acctuarcy = 0.415400"
       ]
      },
      {
       "output_type": "stream",
       "stream": "stdout",
       "text": [
        "\n",
        "i = 6, j= 52, acctuarcy = 0.419600"
       ]
      },
      {
       "output_type": "stream",
       "stream": "stdout",
       "text": [
        "\n",
        "i = 6, j= 53, acctuarcy = 0.418000"
       ]
      },
      {
       "output_type": "stream",
       "stream": "stdout",
       "text": [
        "\n",
        "i = 6, j= 54, acctuarcy = 0.417600"
       ]
      },
      {
       "output_type": "stream",
       "stream": "stdout",
       "text": [
        "\n",
        "i = 6, j= 55, acctuarcy = 0.416600"
       ]
      },
      {
       "output_type": "stream",
       "stream": "stdout",
       "text": [
        "\n",
        "i = 6, j= 56, acctuarcy = 0.417400"
       ]
      },
      {
       "output_type": "stream",
       "stream": "stdout",
       "text": [
        "\n",
        "i = 6, j= 57, acctuarcy = 0.423200"
       ]
      },
      {
       "output_type": "stream",
       "stream": "stdout",
       "text": [
        "\n",
        "i = 6, j= 58, acctuarcy = 0.421800"
       ]
      },
      {
       "output_type": "stream",
       "stream": "stdout",
       "text": [
        "\n",
        "i = 6, j= 59, acctuarcy = 0.414400"
       ]
      },
      {
       "output_type": "stream",
       "stream": "stdout",
       "text": [
        "\n",
        "i = 6, j= 60, acctuarcy = 0.417200"
       ]
      },
      {
       "output_type": "stream",
       "stream": "stdout",
       "text": [
        "\n",
        "i = 6, j= 61, acctuarcy = 0.420600"
       ]
      },
      {
       "output_type": "stream",
       "stream": "stdout",
       "text": [
        "\n",
        "i = 6, j= 62, acctuarcy = 0.420400"
       ]
      },
      {
       "output_type": "stream",
       "stream": "stdout",
       "text": [
        "\n",
        "i = 6, j= 63, acctuarcy = 0.418400"
       ]
      },
      {
       "output_type": "stream",
       "stream": "stdout",
       "text": [
        "\n",
        "i = 6, j= 64, acctuarcy = 0.423600"
       ]
      },
      {
       "output_type": "stream",
       "stream": "stdout",
       "text": [
        "\n",
        "i = 6, j= 65, acctuarcy = 0.420200"
       ]
      },
      {
       "output_type": "stream",
       "stream": "stdout",
       "text": [
        "\n",
        "i = 6, j= 66, acctuarcy = 0.419600"
       ]
      },
      {
       "output_type": "stream",
       "stream": "stdout",
       "text": [
        "\n",
        "i = 6, j= 67, acctuarcy = 0.416200"
       ]
      },
      {
       "output_type": "stream",
       "stream": "stdout",
       "text": [
        "\n",
        "i = 6, j= 68, acctuarcy = 0.419400"
       ]
      },
      {
       "output_type": "stream",
       "stream": "stdout",
       "text": [
        "\n",
        "i = 6, j= 69, acctuarcy = 0.417200"
       ]
      },
      {
       "output_type": "stream",
       "stream": "stdout",
       "text": [
        "\n",
        "i = 6, j= 70, acctuarcy = 0.420800"
       ]
      },
      {
       "output_type": "stream",
       "stream": "stdout",
       "text": [
        "\n",
        "i = 6, j= 71, acctuarcy = 0.419600"
       ]
      },
      {
       "output_type": "stream",
       "stream": "stdout",
       "text": [
        "\n",
        "i = 6, j= 72, acctuarcy = 0.417000"
       ]
      },
      {
       "output_type": "stream",
       "stream": "stdout",
       "text": [
        "\n",
        "i = 6, j= 73, acctuarcy = 0.422800"
       ]
      },
      {
       "output_type": "stream",
       "stream": "stdout",
       "text": [
        "\n",
        "i = 6, j= 74, acctuarcy = 0.416400"
       ]
      },
      {
       "output_type": "stream",
       "stream": "stdout",
       "text": [
        "\n",
        "i = 6, j= 75, acctuarcy = 0.418600"
       ]
      },
      {
       "output_type": "stream",
       "stream": "stdout",
       "text": [
        "\n",
        "i = 6, j= 76, acctuarcy = 0.416200"
       ]
      },
      {
       "output_type": "stream",
       "stream": "stdout",
       "text": [
        "\n",
        "i = 6, j= 77, acctuarcy = 0.420400"
       ]
      },
      {
       "output_type": "stream",
       "stream": "stdout",
       "text": [
        "\n",
        "i = 6, j= 78, acctuarcy = 0.418800"
       ]
      },
      {
       "output_type": "stream",
       "stream": "stdout",
       "text": [
        "\n",
        "i = 6, j= 79, acctuarcy = 0.423000"
       ]
      },
      {
       "output_type": "stream",
       "stream": "stdout",
       "text": [
        "\n",
        "i = 6, j= 80, acctuarcy = 0.418400"
       ]
      },
      {
       "output_type": "stream",
       "stream": "stdout",
       "text": [
        "\n",
        "i = 6, j= 81, acctuarcy = 0.420800"
       ]
      },
      {
       "output_type": "stream",
       "stream": "stdout",
       "text": [
        "\n",
        "i = 6, j= 82, acctuarcy = 0.420800"
       ]
      },
      {
       "output_type": "stream",
       "stream": "stdout",
       "text": [
        "\n",
        "i = 6, j= 83, acctuarcy = 0.420800"
       ]
      },
      {
       "output_type": "stream",
       "stream": "stdout",
       "text": [
        "\n",
        "i = 6, j= 84, acctuarcy = 0.422000"
       ]
      },
      {
       "output_type": "stream",
       "stream": "stdout",
       "text": [
        "\n",
        "i = 6, j= 85, acctuarcy = 0.424200"
       ]
      },
      {
       "output_type": "stream",
       "stream": "stdout",
       "text": [
        "\n",
        "i = 6, j= 86, acctuarcy = 0.420400"
       ]
      },
      {
       "output_type": "stream",
       "stream": "stdout",
       "text": [
        "\n",
        "i = 6, j= 87, acctuarcy = 0.422000"
       ]
      },
      {
       "output_type": "stream",
       "stream": "stdout",
       "text": [
        "\n",
        "i = 6, j= 88, acctuarcy = 0.417800"
       ]
      },
      {
       "output_type": "stream",
       "stream": "stdout",
       "text": [
        "\n",
        "i = 6, j= 89, acctuarcy = 0.419200"
       ]
      },
      {
       "output_type": "stream",
       "stream": "stdout",
       "text": [
        "\n",
        "i = 6, j= 90, acctuarcy = 0.425000"
       ]
      },
      {
       "output_type": "stream",
       "stream": "stdout",
       "text": [
        "\n",
        "i = 6, j= 91, acctuarcy = 0.421000"
       ]
      },
      {
       "output_type": "stream",
       "stream": "stdout",
       "text": [
        "\n",
        "i = 6, j= 92, acctuarcy = 0.421000"
       ]
      },
      {
       "output_type": "stream",
       "stream": "stdout",
       "text": [
        "\n",
        "i = 6, j= 93, acctuarcy = 0.419600"
       ]
      },
      {
       "output_type": "stream",
       "stream": "stdout",
       "text": [
        "\n",
        "i = 6, j= 94, acctuarcy = 0.421000"
       ]
      },
      {
       "output_type": "stream",
       "stream": "stdout",
       "text": [
        "\n",
        "i = 6, j= 95, acctuarcy = 0.416400"
       ]
      },
      {
       "output_type": "stream",
       "stream": "stdout",
       "text": [
        "\n",
        "i = 6, j= 96, acctuarcy = 0.416400"
       ]
      },
      {
       "output_type": "stream",
       "stream": "stdout",
       "text": [
        "\n",
        "i = 6, j= 97, acctuarcy = 0.414400"
       ]
      },
      {
       "output_type": "stream",
       "stream": "stdout",
       "text": [
        "\n",
        "i = 6, j= 98, acctuarcy = 0.418400"
       ]
      },
      {
       "output_type": "stream",
       "stream": "stdout",
       "text": [
        "\n",
        "i = 6, j= 99, acctuarcy = 0.422800"
       ]
      },
      {
       "output_type": "stream",
       "stream": "stdout",
       "text": [
        "\n",
        "i = 6, j= 100, acctuarcy = 0.421000"
       ]
      },
      {
       "output_type": "stream",
       "stream": "stdout",
       "text": [
        "\n",
        "i = 6, j= 101, acctuarcy = 0.423000"
       ]
      },
      {
       "output_type": "stream",
       "stream": "stdout",
       "text": [
        "\n",
        "i = 6, j= 102, acctuarcy = 0.418000"
       ]
      },
      {
       "output_type": "stream",
       "stream": "stdout",
       "text": [
        "\n",
        "i = 6, j= 103, acctuarcy = 0.420000"
       ]
      },
      {
       "output_type": "stream",
       "stream": "stdout",
       "text": [
        "\n",
        "i = 6, j= 104, acctuarcy = 0.414600"
       ]
      },
      {
       "output_type": "stream",
       "stream": "stdout",
       "text": [
        "\n",
        "i = 6, j= 105, acctuarcy = 0.424400"
       ]
      },
      {
       "output_type": "stream",
       "stream": "stdout",
       "text": [
        "\n",
        "i = 6, j= 106, acctuarcy = 0.419800"
       ]
      },
      {
       "output_type": "stream",
       "stream": "stdout",
       "text": [
        "\n",
        "i = 6, j= 107, acctuarcy = 0.423200"
       ]
      },
      {
       "output_type": "stream",
       "stream": "stdout",
       "text": [
        "\n",
        "i = 6, j= 108, acctuarcy = 0.418600"
       ]
      },
      {
       "output_type": "stream",
       "stream": "stdout",
       "text": [
        "\n",
        "i = 6, j= 109, acctuarcy = 0.419400"
       ]
      },
      {
       "output_type": "stream",
       "stream": "stdout",
       "text": [
        "\n",
        "i = 6, j= 110, acctuarcy = 0.419000"
       ]
      },
      {
       "output_type": "stream",
       "stream": "stdout",
       "text": [
        "\n",
        "i = 6, j= 111, acctuarcy = 0.420600"
       ]
      },
      {
       "output_type": "stream",
       "stream": "stdout",
       "text": [
        "\n",
        "i = 6, j= 112, acctuarcy = 0.419600"
       ]
      },
      {
       "output_type": "stream",
       "stream": "stdout",
       "text": [
        "\n",
        "i = 6, j= 113, acctuarcy = 0.422000"
       ]
      },
      {
       "output_type": "stream",
       "stream": "stdout",
       "text": [
        "\n",
        "i = 6, j= 114, acctuarcy = 0.424200"
       ]
      },
      {
       "output_type": "stream",
       "stream": "stdout",
       "text": [
        "\n",
        "i = 6, j= 115, acctuarcy = 0.422000"
       ]
      },
      {
       "output_type": "stream",
       "stream": "stdout",
       "text": [
        "\n",
        "i = 6, j= 116, acctuarcy = 0.425000"
       ]
      },
      {
       "output_type": "stream",
       "stream": "stdout",
       "text": [
        "\n",
        "i = 6, j= 117, acctuarcy = 0.421000"
       ]
      },
      {
       "output_type": "stream",
       "stream": "stdout",
       "text": [
        "\n",
        "i = 6, j= 118, acctuarcy = 0.422800"
       ]
      },
      {
       "output_type": "stream",
       "stream": "stdout",
       "text": [
        "\n",
        "i = 6, j= 119, acctuarcy = 0.424400"
       ]
      },
      {
       "output_type": "stream",
       "stream": "stdout",
       "text": [
        "\n",
        "i = 7, j= 0, acctuarcy = 0.421200"
       ]
      },
      {
       "output_type": "stream",
       "stream": "stdout",
       "text": [
        "\n",
        "i = 7, j= 1, acctuarcy = 0.424600"
       ]
      },
      {
       "output_type": "stream",
       "stream": "stdout",
       "text": [
        "\n",
        "i = 7, j= 2, acctuarcy = 0.422200"
       ]
      },
      {
       "output_type": "stream",
       "stream": "stdout",
       "text": [
        "\n",
        "i = 7, j= 3, acctuarcy = 0.416800"
       ]
      },
      {
       "output_type": "stream",
       "stream": "stdout",
       "text": [
        "\n",
        "i = 7, j= 4, acctuarcy = 0.417000"
       ]
      },
      {
       "output_type": "stream",
       "stream": "stdout",
       "text": [
        "\n",
        "i = 7, j= 5, acctuarcy = 0.419200"
       ]
      },
      {
       "output_type": "stream",
       "stream": "stdout",
       "text": [
        "\n",
        "i = 7, j= 6, acctuarcy = 0.424200"
       ]
      },
      {
       "output_type": "stream",
       "stream": "stdout",
       "text": [
        "\n",
        "i = 7, j= 7, acctuarcy = 0.419000"
       ]
      },
      {
       "output_type": "stream",
       "stream": "stdout",
       "text": [
        "\n",
        "i = 7, j= 8, acctuarcy = 0.421600"
       ]
      },
      {
       "output_type": "stream",
       "stream": "stdout",
       "text": [
        "\n",
        "i = 7, j= 9, acctuarcy = 0.419200"
       ]
      },
      {
       "output_type": "stream",
       "stream": "stdout",
       "text": [
        "\n",
        "i = 7, j= 10, acctuarcy = 0.419000"
       ]
      },
      {
       "output_type": "stream",
       "stream": "stdout",
       "text": [
        "\n",
        "i = 7, j= 11, acctuarcy = 0.416400"
       ]
      },
      {
       "output_type": "stream",
       "stream": "stdout",
       "text": [
        "\n",
        "i = 7, j= 12, acctuarcy = 0.420400"
       ]
      },
      {
       "output_type": "stream",
       "stream": "stdout",
       "text": [
        "\n",
        "i = 7, j= 13, acctuarcy = 0.418000"
       ]
      },
      {
       "output_type": "stream",
       "stream": "stdout",
       "text": [
        "\n",
        "i = 7, j= 14, acctuarcy = 0.418800"
       ]
      },
      {
       "output_type": "stream",
       "stream": "stdout",
       "text": [
        "\n",
        "i = 7, j= 15, acctuarcy = 0.421200"
       ]
      },
      {
       "output_type": "stream",
       "stream": "stdout",
       "text": [
        "\n",
        "i = 7, j= 16, acctuarcy = 0.418600"
       ]
      },
      {
       "output_type": "stream",
       "stream": "stdout",
       "text": [
        "\n",
        "i = 7, j= 17, acctuarcy = 0.423200"
       ]
      },
      {
       "output_type": "stream",
       "stream": "stdout",
       "text": [
        "\n",
        "i = 7, j= 18, acctuarcy = 0.418600"
       ]
      },
      {
       "output_type": "stream",
       "stream": "stdout",
       "text": [
        "\n",
        "i = 7, j= 19, acctuarcy = 0.420600"
       ]
      },
      {
       "output_type": "stream",
       "stream": "stdout",
       "text": [
        "\n",
        "i = 7, j= 20, acctuarcy = 0.416800"
       ]
      },
      {
       "output_type": "stream",
       "stream": "stdout",
       "text": [
        "\n",
        "i = 7, j= 21, acctuarcy = 0.422400"
       ]
      },
      {
       "output_type": "stream",
       "stream": "stdout",
       "text": [
        "\n",
        "i = 7, j= 22, acctuarcy = 0.420400"
       ]
      },
      {
       "output_type": "stream",
       "stream": "stdout",
       "text": [
        "\n",
        "i = 7, j= 23, acctuarcy = 0.423800"
       ]
      },
      {
       "output_type": "stream",
       "stream": "stdout",
       "text": [
        "\n",
        "i = 7, j= 24, acctuarcy = 0.419600"
       ]
      },
      {
       "output_type": "stream",
       "stream": "stdout",
       "text": [
        "\n",
        "i = 7, j= 25, acctuarcy = 0.418600"
       ]
      },
      {
       "output_type": "stream",
       "stream": "stdout",
       "text": [
        "\n",
        "i = 7, j= 26, acctuarcy = 0.419000"
       ]
      },
      {
       "output_type": "stream",
       "stream": "stdout",
       "text": [
        "\n",
        "i = 7, j= 27, acctuarcy = 0.418600"
       ]
      },
      {
       "output_type": "stream",
       "stream": "stdout",
       "text": [
        "\n",
        "i = 7, j= 28, acctuarcy = 0.423000"
       ]
      },
      {
       "output_type": "stream",
       "stream": "stdout",
       "text": [
        "\n",
        "i = 7, j= 29, acctuarcy = 0.421200"
       ]
      },
      {
       "output_type": "stream",
       "stream": "stdout",
       "text": [
        "\n",
        "i = 7, j= 30, acctuarcy = 0.424600"
       ]
      },
      {
       "output_type": "stream",
       "stream": "stdout",
       "text": [
        "\n",
        "i = 7, j= 31, acctuarcy = 0.416800"
       ]
      },
      {
       "output_type": "stream",
       "stream": "stdout",
       "text": [
        "\n",
        "i = 7, j= 32, acctuarcy = 0.424200"
       ]
      },
      {
       "output_type": "stream",
       "stream": "stdout",
       "text": [
        "\n",
        "i = 7, j= 33, acctuarcy = 0.419000"
       ]
      },
      {
       "output_type": "stream",
       "stream": "stdout",
       "text": [
        "\n",
        "i = 7, j= 34, acctuarcy = 0.421200"
       ]
      },
      {
       "output_type": "stream",
       "stream": "stdout",
       "text": [
        "\n",
        "i = 7, j= 35, acctuarcy = 0.422400"
       ]
      },
      {
       "output_type": "stream",
       "stream": "stdout",
       "text": [
        "\n",
        "i = 7, j= 36, acctuarcy = 0.425400"
       ]
      },
      {
       "output_type": "stream",
       "stream": "stdout",
       "text": [
        "\n",
        "i = 7, j= 37, acctuarcy = 0.423400"
       ]
      },
      {
       "output_type": "stream",
       "stream": "stdout",
       "text": [
        "\n",
        "i = 7, j= 38, acctuarcy = 0.423600"
       ]
      },
      {
       "output_type": "stream",
       "stream": "stdout",
       "text": [
        "\n",
        "i = 7, j= 39, acctuarcy = 0.422200"
       ]
      },
      {
       "output_type": "stream",
       "stream": "stdout",
       "text": [
        "\n",
        "i = 7, j= 40, acctuarcy = 0.425000"
       ]
      },
      {
       "output_type": "stream",
       "stream": "stdout",
       "text": [
        "\n",
        "i = 7, j= 41, acctuarcy = 0.419400"
       ]
      },
      {
       "output_type": "stream",
       "stream": "stdout",
       "text": [
        "\n",
        "i = 7, j= 42, acctuarcy = 0.423800"
       ]
      },
      {
       "output_type": "stream",
       "stream": "stdout",
       "text": [
        "\n",
        "i = 7, j= 43, acctuarcy = 0.423200"
       ]
      },
      {
       "output_type": "stream",
       "stream": "stdout",
       "text": [
        "\n",
        "i = 7, j= 44, acctuarcy = 0.425400"
       ]
      },
      {
       "output_type": "stream",
       "stream": "stdout",
       "text": [
        "\n",
        "i = 8, j= 0, acctuarcy = 0.422600"
       ]
      },
      {
       "output_type": "stream",
       "stream": "stdout",
       "text": [
        "\n",
        "i = 8, j= 1, acctuarcy = 0.422400"
       ]
      },
      {
       "output_type": "stream",
       "stream": "stdout",
       "text": [
        "\n",
        "i = 8, j= 2, acctuarcy = 0.425000"
       ]
      },
      {
       "output_type": "stream",
       "stream": "stdout",
       "text": [
        "\n",
        "i = 8, j= 3, acctuarcy = 0.419200"
       ]
      },
      {
       "output_type": "stream",
       "stream": "stdout",
       "text": [
        "\n",
        "i = 8, j= 4, acctuarcy = 0.421800"
       ]
      },
      {
       "output_type": "stream",
       "stream": "stdout",
       "text": [
        "\n",
        "i = 8, j= 5, acctuarcy = 0.420000"
       ]
      },
      {
       "output_type": "stream",
       "stream": "stdout",
       "text": [
        "\n",
        "i = 8, j= 6, acctuarcy = 0.421800"
       ]
      },
      {
       "output_type": "stream",
       "stream": "stdout",
       "text": [
        "\n",
        "i = 8, j= 7, acctuarcy = 0.423600"
       ]
      },
      {
       "output_type": "stream",
       "stream": "stdout",
       "text": [
        "\n",
        "i = 8, j= 8, acctuarcy = 0.422600"
       ]
      },
      {
       "output_type": "stream",
       "stream": "stdout",
       "text": [
        "\n",
        "i = 8, j= 9, acctuarcy = 0.426000"
       ]
      },
      {
       "output_type": "stream",
       "stream": "stdout",
       "text": [
        "\n",
        "i = 9, j= 0, acctuarcy = 0.424400"
       ]
      },
      {
       "output_type": "stream",
       "stream": "stdout",
       "text": [
        "\n",
        "{1: [0.3584, 0.35699999999999998, 0.37059999999999998, 0.371, 0.37180000000000002, 0.35999999999999999, 0.3634, 0.36859999999999998, 0.36919999999999997, 0.35699999999999998], 2: [0.38679999999999998, 0.3866, 0.38440000000000002, 0.38900000000000001, 0.3876, 0.38540000000000002, 0.3846, 0.39600000000000002, 0.38679999999999998, 0.3926, 0.38440000000000002, 0.39760000000000001, 0.38640000000000002, 0.38840000000000002, 0.38479999999999998, 0.39040000000000002, 0.35699999999999998, 0.39040000000000002, 0.39700000000000002, 0.38919999999999999, 0.39079999999999998, 0.38900000000000001, 0.39960000000000001, 0.3926, 0.39300000000000002, 0.39179999999999998, 0.3896, 0.38719999999999999, 0.38879999999999998, 0.38440000000000002, 0.3952, 0.39679999999999999, 0.39340000000000003, 0.39679999999999999, 0.39760000000000001, 0.3896, 0.38059999999999999, 0.39079999999999998, 0.38640000000000002, 0.38479999999999998, 0.3992, 0.38840000000000002, 0.38940000000000002, 0.38479999999999998, 0.39040000000000002], 3: [0.40000000000000002, 0.39660000000000001, 0.40279999999999999, 0.4002, 0.40239999999999998, 0.39739999999999998, 0.4042, 0.38379999999999997, 0.40000000000000002, 0.40139999999999998, 0.39860000000000001, 0.39979999999999999, 0.39460000000000001, 0.40579999999999999, 0.40000000000000002, 0.40360000000000001, 0.39760000000000001, 0.40100000000000002, 0.39779999999999999, 0.40360000000000001, 0.39660000000000001, 0.40200000000000002, 0.4042, 0.4012, 0.4078, 0.40279999999999999, 0.40279999999999999, 0.39939999999999998, 0.40260000000000001, 0.4002, 0.40000000000000002, 0.40660000000000002, 0.40239999999999998, 0.40539999999999998, 0.39739999999999998, 0.4042, 0.39900000000000002, 0.40739999999999998, 0.4022, 0.40100000000000002, 0.40179999999999999, 0.40839999999999999, 0.3866, 0.40400000000000003, 0.4032, 0.40279999999999999, 0.39760000000000001, 0.39860000000000001, 0.38059999999999999, 0.40560000000000002, 0.41139999999999999, 0.40260000000000001, 0.40739999999999998, 0.38979999999999998, 0.40679999999999999, 0.39700000000000002, 0.40500000000000003, 0.38440000000000002, 0.40060000000000001, 0.40739999999999998, 0.39240000000000003, 0.40139999999999998, 0.38200000000000001, 0.38379999999999997, 0.40160000000000001, 0.40360000000000001, 0.39739999999999998, 0.39800000000000002, 0.40799999999999997, 0.39900000000000002, 0.40379999999999999, 0.40739999999999998, 0.4012, 0.41099999999999998, 0.40739999999999998, 0.39860000000000001, 0.3982, 0.40639999999999998, 0.4022, 0.39879999999999999, 0.40500000000000003, 0.40100000000000002, 0.40279999999999999, 0.40179999999999999, 0.40839999999999999, 0.40460000000000002, 0.40899999999999997, 0.40379999999999999, 0.4052, 0.40400000000000003, 0.40100000000000002, 0.39539999999999997, 0.40060000000000001, 0.4032, 0.39679999999999999, 0.40479999999999999, 0.40279999999999999, 0.4022, 0.39760000000000001, 0.39860000000000001, 0.40400000000000003, 0.40339999999999998, 0.4078, 0.40560000000000002, 0.40579999999999999, 0.40999999999999998, 0.41139999999999999, 0.40539999999999998, 0.40260000000000001, 0.40739999999999998, 0.3982, 0.40699999999999997, 0.40679999999999999, 0.4012, 0.39700000000000002, 0.40500000000000003, 0.40279999999999999, 0.40060000000000001, 0.40739999999999998, 0.40139999999999998], 4: [0.40500000000000003, 0.41160000000000002, 0.4088, 0.40939999999999999, 0.40279999999999999, 0.41139999999999999, 0.39700000000000002, 0.4088, 0.40660000000000002, 0.40999999999999998, 0.40179999999999999, 0.40600000000000003, 0.39419999999999999, 0.41060000000000002, 0.4108, 0.40860000000000002, 0.41460000000000002, 0.39800000000000002, 0.41299999999999998, 0.40539999999999998, 0.4098, 0.39839999999999998, 0.40699999999999997, 0.41220000000000001, 0.40279999999999999, 0.40799999999999997, 0.39660000000000001, 0.40039999999999998, 0.40839999999999999, 0.40379999999999999, 0.40600000000000003, 0.40439999999999998, 0.41120000000000001, 0.40500000000000003, 0.40899999999999997, 0.4118, 0.40460000000000002, 0.41160000000000002, 0.41160000000000002, 0.40579999999999999, 0.40300000000000002, 0.40679999999999999, 0.4088, 0.40439999999999998, 0.41460000000000002, 0.40939999999999999, 0.4098, 0.40279999999999999, 0.41139999999999999, 0.41120000000000001, 0.41260000000000002, 0.40860000000000002, 0.41020000000000001, 0.4088, 0.40860000000000002, 0.40400000000000003, 0.40579999999999999, 0.40660000000000002, 0.40639999999999998, 0.40999999999999998, 0.40999999999999998, 0.40839999999999999, 0.40179999999999999, 0.40600000000000003, 0.41120000000000001, 0.40999999999999998, 0.41199999999999998, 0.41060000000000002, 0.41139999999999999, 0.4138, 0.4108, 0.41260000000000002, 0.40860000000000002, 0.41460000000000002, 0.40500000000000003, 0.4118, 0.41299999999999998, 0.40560000000000002, 0.40539999999999998, 0.4098, 0.4118, 0.40699999999999997, 0.41220000000000001, 0.40799999999999997, 0.41160000000000002, 0.40960000000000002, 0.40960000000000002, 0.40739999999999998, 0.40960000000000002, 0.39660000000000001, 0.41120000000000001, 0.41320000000000001, 0.4088, 0.41599999999999998, 0.40339999999999998, 0.4098, 0.40439999999999998, 0.41260000000000002, 0.39960000000000001, 0.40439999999999998, 0.40999999999999998, 0.40360000000000001, 0.41139999999999999, 0.39679999999999999, 0.4022, 0.41599999999999998, 0.41520000000000001, 0.41160000000000002, 0.41120000000000001, 0.39800000000000002, 0.41399999999999998, 0.40560000000000002, 0.4078, 0.39839999999999998, 0.4078, 0.41060000000000002, 0.40200000000000002, 0.40539999999999998, 0.39600000000000002, 0.39279999999999998, 0.4148, 0.40960000000000002, 0.41699999999999998, 0.40139999999999998, 0.41120000000000001, 0.41660000000000003, 0.4052, 0.41620000000000001, 0.39760000000000001, 0.4052, 0.40820000000000001, 0.4148, 0.40600000000000003, 0.4032, 0.3926, 0.39860000000000001, 0.40899999999999997, 0.40139999999999998, 0.40139999999999998, 0.39760000000000001, 0.41160000000000002, 0.41039999999999999, 0.40660000000000002, 0.41360000000000002, 0.41160000000000002, 0.4088, 0.40679999999999999, 0.41339999999999999, 0.40960000000000002, 0.40699999999999997, 0.40720000000000001, 0.40960000000000002, 0.40620000000000001, 0.40739999999999998, 0.40960000000000002, 0.41299999999999998, 0.40960000000000002, 0.4148, 0.41120000000000001, 0.40820000000000001, 0.41639999999999999, 0.41320000000000001, 0.41460000000000002, 0.4088, 0.41599999999999998, 0.40560000000000002, 0.41060000000000002, 0.4098, 0.40939999999999999, 0.40439999999999998, 0.41260000000000002, 0.4078, 0.40439999999999998, 0.40999999999999998, 0.41139999999999999, 0.4158, 0.40860000000000002, 0.4128, 0.41599999999999998, 0.41160000000000002, 0.4148, 0.41520000000000001, 0.41260000000000002, 0.41160000000000002, 0.41120000000000001, 0.40400000000000003, 0.41460000000000002, 0.41399999999999998, 0.40460000000000002, 0.40560000000000002, 0.4078, 0.40960000000000002, 0.4078, 0.41060000000000002, 0.40539999999999998, 0.41120000000000001, 0.41860000000000003, 0.4148, 0.4108, 0.40960000000000002, 0.41699999999999998, 0.41499999999999998, 0.41120000000000001, 0.41660000000000003, 0.41620000000000001, 0.41099999999999998, 0.40820000000000001, 0.4148, 0.4032, 0.40899999999999997], 5: [0.4158, 0.41060000000000002, 0.40939999999999999, 0.41060000000000002, 0.41399999999999998, 0.40379999999999999, 0.41499999999999998, 0.41460000000000002, 0.4118, 0.41739999999999999, 0.40539999999999998, 0.41020000000000001, 0.40639999999999998, 0.41460000000000002, 0.40660000000000002, 0.41120000000000001, 0.41499999999999998, 0.41020000000000001, 0.41260000000000002, 0.40300000000000002, 0.40739999999999998, 0.41599999999999998, 0.41699999999999998, 0.41239999999999999, 0.41539999999999999, 0.40500000000000003, 0.41360000000000002, 0.41099999999999998, 0.4138, 0.40400000000000003, 0.4108, 0.41880000000000001, 0.40799999999999997, 0.41139999999999999, 0.39939999999999998, 0.40460000000000002, 0.4148, 0.41239999999999999, 0.41720000000000002, 0.41020000000000001, 0.4108, 0.41820000000000002, 0.41199999999999998, 0.41299999999999998, 0.40620000000000001, 0.41120000000000001, 0.4118, 0.41920000000000002, 0.41020000000000001, 0.4118, 0.40579999999999999, 0.40739999999999998, 0.41320000000000001, 0.40679999999999999, 0.41199999999999998, 0.40600000000000003, 0.41460000000000002, 0.41599999999999998, 0.4128, 0.41839999999999999, 0.4158, 0.41139999999999999, 0.4088, 0.4118, 0.41060000000000002, 0.40799999999999997, 0.4148, 0.40939999999999999, 0.41199999999999998, 0.41060000000000002, 0.41399999999999998, 0.41320000000000001, 0.40960000000000002, 0.41539999999999999, 0.41499999999999998, 0.41360000000000002, 0.4178, 0.41460000000000002, 0.41599999999999998, 0.4118, 0.41739999999999999, 0.41020000000000001, 0.4158, 0.41020000000000001, 0.41020000000000001, 0.40639999999999998, 0.41460000000000002, 0.41360000000000002, 0.41120000000000001, 0.41499999999999998, 0.41260000000000002, 0.41820000000000002, 0.4148, 0.41620000000000001, 0.41599999999999998, 0.41439999999999999, 0.41820000000000002, 0.41699999999999998, 0.41360000000000002, 0.41239999999999999, 0.41539999999999999, 0.40999999999999998, 0.41399999999999998, 0.41360000000000002, 0.40839999999999999, 0.41099999999999998, 0.4138, 0.41339999999999999, 0.4108, 0.41880000000000001, 0.41139999999999999, 0.41560000000000002, 0.41980000000000001, 0.4148, 0.41320000000000001, 0.41239999999999999, 0.41720000000000002, 0.41760000000000003, 0.4108, 0.41820000000000002, 0.41299999999999998, 0.41139999999999999, 0.4118, 0.41920000000000002, 0.4118, 0.41320000000000001, 0.41620000000000001, 0.41799999999999998, 0.4168, 0.41880000000000001, 0.4078, 0.41160000000000002, 0.40999999999999998, 0.4158, 0.40760000000000002, 0.41039999999999999, 0.41620000000000001, 0.40799999999999997, 0.4118, 0.40600000000000003, 0.40500000000000003, 0.42059999999999997, 0.41499999999999998, 0.4194, 0.40899999999999997, 0.41360000000000002, 0.42259999999999998, 0.41460000000000002, 0.41839999999999999, 0.40939999999999999, 0.40999999999999998, 0.41299999999999998, 0.41620000000000001, 0.40939999999999999, 0.41320000000000001, 0.40560000000000002, 0.40899999999999997, 0.41260000000000002, 0.40660000000000002, 0.4108, 0.40760000000000002, 0.4204, 0.41299999999999998, 0.41820000000000002, 0.41120000000000001, 0.41839999999999999, 0.42059999999999997, 0.41099999999999998, 0.41360000000000002, 0.40660000000000002, 0.40739999999999998, 0.41139999999999999, 0.4178, 0.4118, 0.41199999999999998, 0.40360000000000001, 0.40820000000000001, 0.41299999999999998, 0.40560000000000002, 0.40739999999999998, 0.4042, 0.41420000000000001, 0.42220000000000002, 0.41539999999999999, 0.41720000000000002, 0.40899999999999997, 0.4128, 0.41839999999999999, 0.41060000000000002, 0.4148, 0.41239999999999999, 0.41339999999999999, 0.40899999999999997, 0.41299999999999998, 0.40400000000000003, 0.4098, 0.41699999999999998, 0.4138, 0.4158, 0.41620000000000001, 0.41339999999999999, 0.41720000000000002, 0.41799999999999998, 0.41220000000000001, 0.4168, 0.41880000000000001, 0.41039999999999999, 0.41699999999999998, 0.41160000000000002, 0.4118, 0.40999999999999998, 0.4158, 0.41220000000000001, 0.41039999999999999, 0.41620000000000001, 0.4118, 0.41560000000000002, 0.41959999999999997, 0.42059999999999997, 0.41539999999999999, 0.41499999999999998, 0.4194, 0.41560000000000002, 0.41360000000000002, 0.42259999999999998, 0.41839999999999999, 0.41120000000000001, 0.41299999999999998, 0.41620000000000001, 0.41320000000000001, 0.41260000000000002, 0.41560000000000002, 0.42120000000000002, 0.4204, 0.41699999999999998, 0.41299999999999998, 0.41820000000000002, 0.41980000000000001, 0.41839999999999999, 0.42059999999999997, 0.41360000000000002, 0.41460000000000002, 0.41139999999999999, 0.4178, 0.41199999999999998, 0.41299999999999998, 0.41760000000000003, 0.41420000000000001, 0.42220000000000002, 0.41720000000000002, 0.41839999999999999, 0.41339999999999999], 6: [0.4178, 0.42020000000000002, 0.41620000000000001, 0.4178, 0.41420000000000001, 0.4148, 0.41099999999999998, 0.41539999999999999, 0.41020000000000001, 0.41299999999999998, 0.4204, 0.41260000000000002, 0.41560000000000002, 0.4078, 0.4128, 0.4194, 0.41499999999999998, 0.41860000000000003, 0.41439999999999999, 0.4158, 0.42099999999999999, 0.41439999999999999, 0.41699999999999998, 0.4148, 0.41360000000000002, 0.41120000000000001, 0.41720000000000002, 0.41120000000000001, 0.41399999999999998, 0.40820000000000001, 0.41099999999999998, 0.41499999999999998, 0.41060000000000002, 0.41399999999999998, 0.41199999999999998, 0.4194, 0.41839999999999999, 0.42120000000000002, 0.41360000000000002, 0.41639999999999999, 0.42080000000000001, 0.4158, 0.41460000000000002, 0.41020000000000001, 0.41260000000000002, 0.41360000000000002, 0.42059999999999997, 0.4118, 0.4138, 0.40699999999999997, 0.40799999999999997, 0.41739999999999999, 0.4088, 0.41539999999999999, 0.40820000000000001, 0.41799999999999998, 0.4194, 0.41560000000000002, 0.41760000000000003, 0.4148, 0.41760000000000003, 0.41839999999999999, 0.41160000000000002, 0.41539999999999999, 0.41239999999999999, 0.4158, 0.41160000000000002, 0.41720000000000002, 0.40960000000000002, 0.41199999999999998, 0.41899999999999998, 0.41239999999999999, 0.41720000000000002, 0.4178, 0.4168, 0.42220000000000002, 0.42020000000000002, 0.41739999999999999, 0.41620000000000001, 0.4178, 0.41420000000000001, 0.4168, 0.4148, 0.41160000000000002, 0.41099999999999998, 0.41539999999999999, 0.41959999999999997, 0.41299999999999998, 0.4204, 0.41560000000000002, 0.41560000000000002, 0.42020000000000002, 0.4194, 0.41320000000000001, 0.41499999999999998, 0.41860000000000003, 0.41660000000000003, 0.4158, 0.42099999999999999, 0.41699999999999998, 0.4148, 0.41120000000000001, 0.41720000000000002, 0.41399999999999998, 0.41499999999999998, 0.41820000000000002, 0.42159999999999997, 0.4194, 0.41839999999999999, 0.41839999999999999, 0.42120000000000002, 0.41720000000000002, 0.41639999999999999, 0.42080000000000001, 0.41460000000000002, 0.41539999999999999, 0.41360000000000002, 0.42059999999999997, 0.4138, 0.41739999999999999, 0.4194, 0.41799999999999998, 0.4194, 0.41760000000000003, 0.41839999999999999, 0.4158, 0.42259999999999998, 0.4178, 0.42259999999999998, 0.41639999999999999, 0.41980000000000001, 0.42320000000000002, 0.41799999999999998, 0.41999999999999998, 0.41660000000000003, 0.41520000000000001, 0.41399999999999998, 0.41799999999999998, 0.4128, 0.41499999999999998, 0.4108, 0.41420000000000001, 0.41739999999999999, 0.41299999999999998, 0.4148, 0.41339999999999999, 0.41860000000000003, 0.42459999999999998, 0.41820000000000002, 0.41839999999999999, 0.4158, 0.41560000000000002, 0.42180000000000001, 0.41639999999999999, 0.41820000000000002, 0.41620000000000001, 0.4158, 0.41360000000000002, 0.41620000000000001, 0.41020000000000001, 0.41239999999999999, 0.4178, 0.42520000000000002, 0.4194, 0.41999999999999998, 0.41360000000000002, 0.41660000000000003, 0.42420000000000002, 0.41360000000000002, 0.41420000000000001, 0.41220000000000001, 0.42120000000000002, 0.4128, 0.41439999999999999, 0.41039999999999999, 0.4118, 0.42180000000000001, 0.41639999999999999, 0.4194, 0.41399999999999998, 0.41620000000000001, 0.41560000000000002, 0.41860000000000003, 0.42259999999999998, 0.42259999999999998, 0.41720000000000002, 0.4178, 0.42259999999999998, 0.41820000000000002, 0.41980000000000001, 0.42320000000000002, 0.41999999999999998, 0.41539999999999999, 0.41399999999999998, 0.41799999999999998, 0.41499999999999998, 0.41739999999999999, 0.41760000000000003, 0.41860000000000003, 0.42459999999999998, 0.41839999999999999, 0.42180000000000001, 0.4158, 0.42020000000000002, 0.4178, 0.42520000000000002, 0.41999999999999998, 0.42420000000000002, 0.42120000000000002, 0.42180000000000001], 7: [0.42180000000000001, 0.41720000000000002, 0.42059999999999997, 0.4168, 0.41839999999999999, 0.42359999999999998, 0.41980000000000001, 0.42020000000000002, 0.41660000000000003, 0.4178, 0.41620000000000001, 0.4194, 0.41560000000000002, 0.41720000000000002, 0.41120000000000001, 0.41439999999999999, 0.42080000000000001, 0.4118, 0.41860000000000003, 0.41520000000000001, 0.41699999999999998, 0.42280000000000001, 0.4178, 0.41639999999999999, 0.41539999999999999, 0.4168, 0.41860000000000003, 0.41599999999999998, 0.41799999999999998, 0.41720000000000002, 0.41620000000000001, 0.41260000000000002, 0.41820000000000002, 0.41360000000000002, 0.4138, 0.41880000000000001, 0.42299999999999999, 0.42199999999999999, 0.41839999999999999, 0.4168, 0.41899999999999998, 0.42080000000000001, 0.41920000000000002, 0.41999999999999998, 0.41220000000000001, 0.42080000000000001, 0.41399999999999998, 0.41820000000000002, 0.41120000000000001, 0.41660000000000003, 0.42080000000000001, 0.41539999999999999, 0.41959999999999997, 0.41799999999999998, 0.41760000000000003, 0.41660000000000003, 0.41739999999999999, 0.42320000000000002, 0.42180000000000001, 0.41439999999999999, 0.41720000000000002, 0.42059999999999997, 0.4204, 0.41839999999999999, 0.42359999999999998, 0.42020000000000002, 0.41959999999999997, 0.41620000000000001, 0.4194, 0.41720000000000002, 0.42080000000000001, 0.41959999999999997, 0.41699999999999998, 0.42280000000000001, 0.41639999999999999, 0.41860000000000003, 0.41620000000000001, 0.4204, 0.41880000000000001, 0.42299999999999999, 0.41839999999999999, 0.42080000000000001, 0.42080000000000001, 0.42080000000000001, 0.42199999999999999, 0.42420000000000002, 0.4204, 0.42199999999999999, 0.4178, 0.41920000000000002, 0.42499999999999999, 0.42099999999999999, 0.42099999999999999, 0.41959999999999997, 0.42099999999999999, 0.41639999999999999, 0.41639999999999999, 0.41439999999999999, 0.41839999999999999, 0.42280000000000001, 0.42099999999999999, 0.42299999999999999, 0.41799999999999998, 0.41999999999999998, 0.41460000000000002, 0.4244, 0.41980000000000001, 0.42320000000000002, 0.41860000000000003, 0.4194, 0.41899999999999998, 0.42059999999999997, 0.41959999999999997, 0.42199999999999999, 0.42420000000000002, 0.42199999999999999, 0.42499999999999999, 0.42099999999999999, 0.42280000000000001, 0.4244], 8: [0.42120000000000002, 0.42459999999999998, 0.42220000000000002, 0.4168, 0.41699999999999998, 0.41920000000000002, 0.42420000000000002, 0.41899999999999998, 0.42159999999999997, 0.41920000000000002, 0.41899999999999998, 0.41639999999999999, 0.4204, 0.41799999999999998, 0.41880000000000001, 0.42120000000000002, 0.41860000000000003, 0.42320000000000002, 0.41860000000000003, 0.42059999999999997, 0.4168, 0.4224, 0.4204, 0.42380000000000001, 0.41959999999999997, 0.41860000000000003, 0.41899999999999998, 0.41860000000000003, 0.42299999999999999, 0.42120000000000002, 0.42459999999999998, 0.4168, 0.42420000000000002, 0.41899999999999998, 0.42120000000000002, 0.4224, 0.4254, 0.4234, 0.42359999999999998, 0.42220000000000002, 0.42499999999999999, 0.4194, 0.42380000000000001, 0.42320000000000002, 0.4254], 9: [0.42259999999999998, 0.4224, 0.42499999999999999, 0.41920000000000002, 0.42180000000000001, 0.41999999999999998, 0.42180000000000001, 0.42359999999999998, 0.42259999999999998, 0.42599999999999999], 10: [0.4244]}\n"
       ]
      }
     ],
     "prompt_number": 54
    },
    {
     "cell_type": "code",
     "collapsed": false,
     "input": [
      "print_x = []\n",
      "print_y = []\n",
      "for k in out_put:\n",
      "    y = out_put[k]\n",
      "    x = np.ones(len(y)) * k\n",
      "    print_x.extend(x)\n",
      "    print_y.extend(y)\n",
      "plt.scatter(print_x,print_y)\n",
      "\n",
      "    \n",
      "\n"
     ],
     "language": "python",
     "metadata": {},
     "outputs": [
      {
       "metadata": {},
       "output_type": "pyout",
       "prompt_number": 62,
       "text": [
        "<matplotlib.collections.PathCollection at 0x10cb23dd0>"
       ]
      },
      {
       "metadata": {},
       "output_type": "display_data",
       "png": "[encoded data removed]",
       "text": [
        "<matplotlib.figure.Figure at 0x10c0a6bd0>"
       ]
      }
     ],
     "prompt_number": 62
    },
    {
     "cell_type": "code",
     "collapsed": false,
     "input": [],
     "language": "python",
     "metadata": {},
     "outputs": []
    }
   ],
   "metadata": {}
  }
 ]
}